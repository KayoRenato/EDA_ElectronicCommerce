{
 "cells": [
  {
   "cell_type": "markdown",
   "id": "df4d87a1-f09e-4f54-85d4-5c39e688268b",
   "metadata": {
    "id": "df4d87a1-f09e-4f54-85d4-5c39e688268b"
   },
   "source": [
    "# <font color='blue'>Engenharia de Atributos Para E-Commerce Analytics</font>"
   ]
  },
  {
   "cell_type": "markdown",
   "id": "260206d6",
   "metadata": {},
   "source": [
    "Obs: Estaremos trabalhando em um grande projeto de Ciência de Dados distribuído em 3 capítulos:\n",
    "\n",
    "- Análise Exploratória de Dados\n",
    "    - EDA Parte 1\n",
    "    - EDA Parte 2\n",
    "- **Engenharia de Atributos**\n",
    "- Pré-Processamento de Dados"
   ]
  },
  {
   "cell_type": "markdown",
   "id": "4a260304",
   "metadata": {},
   "source": [
    "A Engenharia de Atributos refere-se ao processo de usar o conhecimento do domínio (área de negócio) para remover, selecionar e transformar os dados, mantendo somente os atributos mais relevantes."
   ]
  },
  {
   "cell_type": "code",
   "execution_count": 1,
   "id": "58ccbb40",
   "metadata": {},
   "outputs": [
    {
     "name": "stdout",
     "output_type": "stream",
     "text": [
      "Versão da Linguagem Python Usada Neste Jupyter Notebook: 3.9.12\n"
     ]
    }
   ],
   "source": [
    "# Versão da Linguagem Python\n",
    "from platform import python_version\n",
    "print('Versão da Linguagem Python Usada Neste Jupyter Notebook:', python_version())"
   ]
  },
  {
   "cell_type": "code",
   "execution_count": 2,
   "id": "6da754d5-db10-4626-b5d3-9a0125483d6e",
   "metadata": {
    "id": "6da754d5-db10-4626-b5d3-9a0125483d6e"
   },
   "outputs": [],
   "source": [
    "# Imports\n",
    "import scipy\n",
    "import numpy as np\n",
    "import pandas as pd\n",
    "import matplotlib.pyplot as plt\n",
    "import seaborn as sns\n",
    "from scipy import stats"
   ]
  },
  {
   "cell_type": "markdown",
   "id": "0402fac6-6a28-422d-ae5b-3eba35a4d3ea",
   "metadata": {
    "id": "0402fac6-6a28-422d-ae5b-3eba35a4d3ea"
   },
   "source": [
    "## Carregando o Dataset"
   ]
  },
  {
   "cell_type": "code",
   "execution_count": 3,
   "id": "898ab2f1-c855-49b6-aa37-ec6c26c3a89b",
   "metadata": {
    "id": "898ab2f1-c855-49b6-aa37-ec6c26c3a89b"
   },
   "outputs": [],
   "source": [
    "# Carrega o dataset\n",
    "df = pd.read_csv('dataset.csv')"
   ]
  },
  {
   "cell_type": "code",
   "execution_count": 4,
   "id": "4d553627",
   "metadata": {},
   "outputs": [
    {
     "data": {
      "text/plain": [
       "(11000, 12)"
      ]
     },
     "execution_count": 4,
     "metadata": {},
     "output_type": "execute_result"
    }
   ],
   "source": [
    "df.shape"
   ]
  },
  {
   "cell_type": "code",
   "execution_count": 5,
   "id": "cd7a3458",
   "metadata": {},
   "outputs": [
    {
     "data": {
      "text/html": [
       "<div>\n",
       "<style scoped>\n",
       "    .dataframe tbody tr th:only-of-type {\n",
       "        vertical-align: middle;\n",
       "    }\n",
       "\n",
       "    .dataframe tbody tr th {\n",
       "        vertical-align: top;\n",
       "    }\n",
       "\n",
       "    .dataframe thead th {\n",
       "        text-align: right;\n",
       "    }\n",
       "</style>\n",
       "<table border=\"1\" class=\"dataframe\">\n",
       "  <thead>\n",
       "    <tr style=\"text-align: right;\">\n",
       "      <th></th>\n",
       "      <th>ID</th>\n",
       "      <th>corredor_armazem</th>\n",
       "      <th>modo_envio</th>\n",
       "      <th>numero_chamadas_cliente</th>\n",
       "      <th>avaliacao_cliente</th>\n",
       "      <th>custo_produto</th>\n",
       "      <th>compras_anteriores</th>\n",
       "      <th>prioridade_produto</th>\n",
       "      <th>genero</th>\n",
       "      <th>desconto</th>\n",
       "      <th>peso_gramas</th>\n",
       "      <th>entregue_no_prazo</th>\n",
       "    </tr>\n",
       "  </thead>\n",
       "  <tbody>\n",
       "    <tr>\n",
       "      <th>0</th>\n",
       "      <td>1</td>\n",
       "      <td>D</td>\n",
       "      <td>Aviao</td>\n",
       "      <td>4</td>\n",
       "      <td>2</td>\n",
       "      <td>177</td>\n",
       "      <td>3</td>\n",
       "      <td>baixa</td>\n",
       "      <td>F</td>\n",
       "      <td>44</td>\n",
       "      <td>1233</td>\n",
       "      <td>1</td>\n",
       "    </tr>\n",
       "    <tr>\n",
       "      <th>1</th>\n",
       "      <td>2</td>\n",
       "      <td>F</td>\n",
       "      <td>Aviao</td>\n",
       "      <td>4</td>\n",
       "      <td>5</td>\n",
       "      <td>216</td>\n",
       "      <td>2</td>\n",
       "      <td>baixa</td>\n",
       "      <td>M</td>\n",
       "      <td>59</td>\n",
       "      <td>3088</td>\n",
       "      <td>1</td>\n",
       "    </tr>\n",
       "    <tr>\n",
       "      <th>2</th>\n",
       "      <td>3</td>\n",
       "      <td>A</td>\n",
       "      <td>Aviao</td>\n",
       "      <td>2</td>\n",
       "      <td>2</td>\n",
       "      <td>183</td>\n",
       "      <td>4</td>\n",
       "      <td>baixa</td>\n",
       "      <td>M</td>\n",
       "      <td>48</td>\n",
       "      <td>3374</td>\n",
       "      <td>1</td>\n",
       "    </tr>\n",
       "    <tr>\n",
       "      <th>3</th>\n",
       "      <td>4</td>\n",
       "      <td>B</td>\n",
       "      <td>Aviao</td>\n",
       "      <td>3</td>\n",
       "      <td>3</td>\n",
       "      <td>176</td>\n",
       "      <td>4</td>\n",
       "      <td>media</td>\n",
       "      <td>M</td>\n",
       "      <td>10</td>\n",
       "      <td>1177</td>\n",
       "      <td>1</td>\n",
       "    </tr>\n",
       "    <tr>\n",
       "      <th>4</th>\n",
       "      <td>5</td>\n",
       "      <td>C</td>\n",
       "      <td>Aviao</td>\n",
       "      <td>2</td>\n",
       "      <td>2</td>\n",
       "      <td>184</td>\n",
       "      <td>3</td>\n",
       "      <td>media</td>\n",
       "      <td>F</td>\n",
       "      <td>46</td>\n",
       "      <td>2484</td>\n",
       "      <td>1</td>\n",
       "    </tr>\n",
       "  </tbody>\n",
       "</table>\n",
       "</div>"
      ],
      "text/plain": [
       "   ID corredor_armazem modo_envio  numero_chamadas_cliente  avaliacao_cliente  \\\n",
       "0   1                D      Aviao                        4                  2   \n",
       "1   2                F      Aviao                        4                  5   \n",
       "2   3                A      Aviao                        2                  2   \n",
       "3   4                B      Aviao                        3                  3   \n",
       "4   5                C      Aviao                        2                  2   \n",
       "\n",
       "   custo_produto  compras_anteriores prioridade_produto genero  desconto  \\\n",
       "0            177                   3              baixa      F        44   \n",
       "1            216                   2              baixa      M        59   \n",
       "2            183                   4              baixa      M        48   \n",
       "3            176                   4              media      M        10   \n",
       "4            184                   3              media      F        46   \n",
       "\n",
       "   peso_gramas  entregue_no_prazo  \n",
       "0         1233                  1  \n",
       "1         3088                  1  \n",
       "2         3374                  1  \n",
       "3         1177                  1  \n",
       "4         2484                  1  "
      ]
     },
     "execution_count": 5,
     "metadata": {},
     "output_type": "execute_result"
    }
   ],
   "source": [
    "df.head()"
   ]
  },
  {
   "cell_type": "code",
   "execution_count": 6,
   "id": "IyX0ACtfav2M",
   "metadata": {
    "colab": {
     "base_uri": "https://localhost:8080/"
    },
    "executionInfo": {
     "elapsed": 354,
     "status": "ok",
     "timestamp": 1649600907074,
     "user": {
      "displayName": "Muhammad Hamzah",
      "userId": "06012328832276120437"
     },
     "user_tz": -420
    },
    "id": "IyX0ACtfav2M",
    "outputId": "8cfd91bb-c186-4290-e273-fc191aee1394"
   },
   "outputs": [
    {
     "name": "stdout",
     "output_type": "stream",
     "text": [
      "<class 'pandas.core.frame.DataFrame'>\n",
      "RangeIndex: 11000 entries, 0 to 10999\n",
      "Data columns (total 12 columns):\n",
      " #   Column                   Non-Null Count  Dtype \n",
      "---  ------                   --------------  ----- \n",
      " 0   ID                       11000 non-null  int64 \n",
      " 1   corredor_armazem         11000 non-null  object\n",
      " 2   modo_envio               11000 non-null  object\n",
      " 3   numero_chamadas_cliente  11000 non-null  int64 \n",
      " 4   avaliacao_cliente        11000 non-null  int64 \n",
      " 5   custo_produto            11000 non-null  int64 \n",
      " 6   compras_anteriores       11000 non-null  int64 \n",
      " 7   prioridade_produto       11000 non-null  object\n",
      " 8   genero                   11000 non-null  object\n",
      " 9   desconto                 11000 non-null  int64 \n",
      " 10  peso_gramas              11000 non-null  int64 \n",
      " 11  entregue_no_prazo        11000 non-null  int64 \n",
      "dtypes: int64(8), object(4)\n",
      "memory usage: 1.0+ MB\n"
     ]
    }
   ],
   "source": [
    "df.info()"
   ]
  },
  {
   "cell_type": "code",
   "execution_count": 7,
   "id": "51d62145",
   "metadata": {},
   "outputs": [
    {
     "data": {
      "text/plain": [
       "Index(['ID', 'corredor_armazem', 'modo_envio', 'numero_chamadas_cliente',\n",
       "       'avaliacao_cliente', 'custo_produto', 'compras_anteriores',\n",
       "       'prioridade_produto', 'genero', 'desconto', 'peso_gramas',\n",
       "       'entregue_no_prazo'],\n",
       "      dtype='object')"
      ]
     },
     "execution_count": 7,
     "metadata": {},
     "output_type": "execute_result"
    }
   ],
   "source": [
    "df.columns"
   ]
  },
  {
   "cell_type": "code",
   "execution_count": 8,
   "id": "yhPRgkRoa48c",
   "metadata": {
    "id": "yhPRgkRoa48c"
   },
   "outputs": [],
   "source": [
    "# Variáveis numéricas\n",
    "nums = ['numero_chamadas_cliente', \n",
    "        'avaliacao_cliente', \n",
    "        'compras_anteriores', \n",
    "        'desconto', \n",
    "        'custo_produto', \n",
    "        'peso_gramas']"
   ]
  },
  {
   "cell_type": "code",
   "execution_count": 9,
   "id": "7b592703",
   "metadata": {},
   "outputs": [],
   "source": [
    "# Variáveis categóricas\n",
    "cats = ['modo_envio', \n",
    "        'prioridade_produto', \n",
    "        'genero',\n",
    "        'corredor_armazem']"
   ]
  },
  {
   "cell_type": "code",
   "execution_count": 10,
   "id": "8e091a44",
   "metadata": {},
   "outputs": [],
   "source": [
    "# Variável target\n",
    "target = ['entregue_no_prazo'] "
   ]
  },
  {
   "cell_type": "code",
   "execution_count": 11,
   "id": "p02KGYfsa_X8",
   "metadata": {
    "colab": {
     "base_uri": "https://localhost:8080/",
     "height": 300
    },
    "executionInfo": {
     "elapsed": 359,
     "status": "ok",
     "timestamp": 1649600947048,
     "user": {
      "displayName": "Muhammad Hamzah",
      "userId": "06012328832276120437"
     },
     "user_tz": -420
    },
    "id": "p02KGYfsa_X8",
    "outputId": "bdbaf862-8223-4663-a2a5-ecee41d34afa"
   },
   "outputs": [
    {
     "data": {
      "text/html": [
       "<div>\n",
       "<style scoped>\n",
       "    .dataframe tbody tr th:only-of-type {\n",
       "        vertical-align: middle;\n",
       "    }\n",
       "\n",
       "    .dataframe tbody tr th {\n",
       "        vertical-align: top;\n",
       "    }\n",
       "\n",
       "    .dataframe thead th {\n",
       "        text-align: right;\n",
       "    }\n",
       "</style>\n",
       "<table border=\"1\" class=\"dataframe\">\n",
       "  <thead>\n",
       "    <tr style=\"text-align: right;\">\n",
       "      <th></th>\n",
       "      <th>numero_chamadas_cliente</th>\n",
       "      <th>avaliacao_cliente</th>\n",
       "      <th>compras_anteriores</th>\n",
       "      <th>desconto</th>\n",
       "      <th>custo_produto</th>\n",
       "      <th>peso_gramas</th>\n",
       "    </tr>\n",
       "  </thead>\n",
       "  <tbody>\n",
       "    <tr>\n",
       "      <th>count</th>\n",
       "      <td>11000.000000</td>\n",
       "      <td>11000.000000</td>\n",
       "      <td>11000.000000</td>\n",
       "      <td>11000.000000</td>\n",
       "      <td>11000.000000</td>\n",
       "      <td>11000.000000</td>\n",
       "    </tr>\n",
       "    <tr>\n",
       "      <th>mean</th>\n",
       "      <td>4.054455</td>\n",
       "      <td>2.990455</td>\n",
       "      <td>3.567727</td>\n",
       "      <td>13.372545</td>\n",
       "      <td>210.200909</td>\n",
       "      <td>3633.844455</td>\n",
       "    </tr>\n",
       "    <tr>\n",
       "      <th>std</th>\n",
       "      <td>1.141438</td>\n",
       "      <td>1.413570</td>\n",
       "      <td>1.522852</td>\n",
       "      <td>16.204943</td>\n",
       "      <td>48.062985</td>\n",
       "      <td>1635.402722</td>\n",
       "    </tr>\n",
       "    <tr>\n",
       "      <th>min</th>\n",
       "      <td>2.000000</td>\n",
       "      <td>1.000000</td>\n",
       "      <td>2.000000</td>\n",
       "      <td>1.000000</td>\n",
       "      <td>96.000000</td>\n",
       "      <td>1001.000000</td>\n",
       "    </tr>\n",
       "    <tr>\n",
       "      <th>25%</th>\n",
       "      <td>3.000000</td>\n",
       "      <td>2.000000</td>\n",
       "      <td>3.000000</td>\n",
       "      <td>4.000000</td>\n",
       "      <td>169.000000</td>\n",
       "      <td>1839.000000</td>\n",
       "    </tr>\n",
       "    <tr>\n",
       "      <th>50%</th>\n",
       "      <td>4.000000</td>\n",
       "      <td>3.000000</td>\n",
       "      <td>3.000000</td>\n",
       "      <td>7.000000</td>\n",
       "      <td>214.000000</td>\n",
       "      <td>4149.000000</td>\n",
       "    </tr>\n",
       "    <tr>\n",
       "      <th>75%</th>\n",
       "      <td>5.000000</td>\n",
       "      <td>4.000000</td>\n",
       "      <td>4.000000</td>\n",
       "      <td>10.000000</td>\n",
       "      <td>251.000000</td>\n",
       "      <td>5050.000000</td>\n",
       "    </tr>\n",
       "    <tr>\n",
       "      <th>max</th>\n",
       "      <td>7.000000</td>\n",
       "      <td>5.000000</td>\n",
       "      <td>10.000000</td>\n",
       "      <td>65.000000</td>\n",
       "      <td>310.000000</td>\n",
       "      <td>7846.000000</td>\n",
       "    </tr>\n",
       "  </tbody>\n",
       "</table>\n",
       "</div>"
      ],
      "text/plain": [
       "       numero_chamadas_cliente  avaliacao_cliente  compras_anteriores  \\\n",
       "count             11000.000000       11000.000000        11000.000000   \n",
       "mean                  4.054455           2.990455            3.567727   \n",
       "std                   1.141438           1.413570            1.522852   \n",
       "min                   2.000000           1.000000            2.000000   \n",
       "25%                   3.000000           2.000000            3.000000   \n",
       "50%                   4.000000           3.000000            3.000000   \n",
       "75%                   5.000000           4.000000            4.000000   \n",
       "max                   7.000000           5.000000           10.000000   \n",
       "\n",
       "           desconto  custo_produto   peso_gramas  \n",
       "count  11000.000000   11000.000000  11000.000000  \n",
       "mean      13.372545     210.200909   3633.844455  \n",
       "std       16.204943      48.062985   1635.402722  \n",
       "min        1.000000      96.000000   1001.000000  \n",
       "25%        4.000000     169.000000   1839.000000  \n",
       "50%        7.000000     214.000000   4149.000000  \n",
       "75%       10.000000     251.000000   5050.000000  \n",
       "max       65.000000     310.000000   7846.000000  "
      ]
     },
     "execution_count": 11,
     "metadata": {},
     "output_type": "execute_result"
    }
   ],
   "source": [
    "df[nums].describe()"
   ]
  },
  {
   "cell_type": "code",
   "execution_count": 12,
   "id": "AiTAj4CvbTLN",
   "metadata": {
    "colab": {
     "base_uri": "https://localhost:8080/",
     "height": 175
    },
    "executionInfo": {
     "elapsed": 344,
     "status": "ok",
     "timestamp": 1649601019859,
     "user": {
      "displayName": "Muhammad Hamzah",
      "userId": "06012328832276120437"
     },
     "user_tz": -420
    },
    "id": "AiTAj4CvbTLN",
    "outputId": "edd61641-0ef3-49a1-9588-ac3b881f9afe"
   },
   "outputs": [
    {
     "data": {
      "text/html": [
       "<div>\n",
       "<style scoped>\n",
       "    .dataframe tbody tr th:only-of-type {\n",
       "        vertical-align: middle;\n",
       "    }\n",
       "\n",
       "    .dataframe tbody tr th {\n",
       "        vertical-align: top;\n",
       "    }\n",
       "\n",
       "    .dataframe thead th {\n",
       "        text-align: right;\n",
       "    }\n",
       "</style>\n",
       "<table border=\"1\" class=\"dataframe\">\n",
       "  <thead>\n",
       "    <tr style=\"text-align: right;\">\n",
       "      <th></th>\n",
       "      <th>modo_envio</th>\n",
       "      <th>prioridade_produto</th>\n",
       "      <th>genero</th>\n",
       "      <th>corredor_armazem</th>\n",
       "    </tr>\n",
       "  </thead>\n",
       "  <tbody>\n",
       "    <tr>\n",
       "      <th>count</th>\n",
       "      <td>11000</td>\n",
       "      <td>11000</td>\n",
       "      <td>11000</td>\n",
       "      <td>11000</td>\n",
       "    </tr>\n",
       "    <tr>\n",
       "      <th>unique</th>\n",
       "      <td>3</td>\n",
       "      <td>3</td>\n",
       "      <td>2</td>\n",
       "      <td>5</td>\n",
       "    </tr>\n",
       "    <tr>\n",
       "      <th>top</th>\n",
       "      <td>Navio</td>\n",
       "      <td>baixa</td>\n",
       "      <td>F</td>\n",
       "      <td>F</td>\n",
       "    </tr>\n",
       "    <tr>\n",
       "      <th>freq</th>\n",
       "      <td>7463</td>\n",
       "      <td>5298</td>\n",
       "      <td>5546</td>\n",
       "      <td>3666</td>\n",
       "    </tr>\n",
       "  </tbody>\n",
       "</table>\n",
       "</div>"
      ],
      "text/plain": [
       "       modo_envio prioridade_produto genero corredor_armazem\n",
       "count       11000              11000  11000            11000\n",
       "unique          3                  3      2                5\n",
       "top         Navio              baixa      F                F\n",
       "freq         7463               5298   5546             3666"
      ]
     },
     "execution_count": 12,
     "metadata": {},
     "output_type": "execute_result"
    }
   ],
   "source": [
    "df[cats].describe()"
   ]
  },
  {
   "cell_type": "code",
   "execution_count": 13,
   "id": "6de7d5fc",
   "metadata": {},
   "outputs": [
    {
     "data": {
      "text/plain": [
       "entregue_no_prazo\n",
       "1                    6563\n",
       "0                    4437\n",
       "dtype: int64"
      ]
     },
     "execution_count": 13,
     "metadata": {},
     "output_type": "execute_result"
    }
   ],
   "source": [
    "df[target].value_counts()"
   ]
  },
  {
   "cell_type": "markdown",
   "id": "50f87511-3781-4138-8f04-0d7bdaef817e",
   "metadata": {
    "id": "50f87511-3781-4138-8f04-0d7bdaef817e"
   },
   "source": [
    "## Limpeza de Dados"
   ]
  },
  {
   "cell_type": "markdown",
   "id": "d5ed63e6-3812-4887-88a7-4af466fcc580",
   "metadata": {
    "id": "d5ed63e6-3812-4887-88a7-4af466fcc580"
   },
   "source": [
    "### Tratamento de Valores Ausentes\n",
    "\n",
    "**ATENÇÃO**: Valor ausente significa ausência de informação e não ausência de dado!\n",
    "\n",
    "O tratamento pode ser feito antes, durante ou depois da Análise Exploratória, mas idealmente deve ser feito antes da Engenharia de Atributos. \n",
    "\n",
    "A Engenharia de Atributos e o Pré-Processamento podem gerar valores ausentes, o que precisa ser tratado."
   ]
  },
  {
   "cell_type": "code",
   "execution_count": 14,
   "id": "23e03b6b",
   "metadata": {},
   "outputs": [
    {
     "data": {
      "text/html": [
       "<div>\n",
       "<style scoped>\n",
       "    .dataframe tbody tr th:only-of-type {\n",
       "        vertical-align: middle;\n",
       "    }\n",
       "\n",
       "    .dataframe tbody tr th {\n",
       "        vertical-align: top;\n",
       "    }\n",
       "\n",
       "    .dataframe thead th {\n",
       "        text-align: right;\n",
       "    }\n",
       "</style>\n",
       "<table border=\"1\" class=\"dataframe\">\n",
       "  <thead>\n",
       "    <tr style=\"text-align: right;\">\n",
       "      <th></th>\n",
       "      <th>ID</th>\n",
       "      <th>corredor_armazem</th>\n",
       "      <th>modo_envio</th>\n",
       "      <th>numero_chamadas_cliente</th>\n",
       "      <th>avaliacao_cliente</th>\n",
       "      <th>custo_produto</th>\n",
       "      <th>compras_anteriores</th>\n",
       "      <th>prioridade_produto</th>\n",
       "      <th>genero</th>\n",
       "      <th>desconto</th>\n",
       "      <th>peso_gramas</th>\n",
       "      <th>entregue_no_prazo</th>\n",
       "    </tr>\n",
       "  </thead>\n",
       "  <tbody>\n",
       "    <tr>\n",
       "      <th>0</th>\n",
       "      <td>1</td>\n",
       "      <td>D</td>\n",
       "      <td>Aviao</td>\n",
       "      <td>4</td>\n",
       "      <td>2</td>\n",
       "      <td>177</td>\n",
       "      <td>3</td>\n",
       "      <td>baixa</td>\n",
       "      <td>F</td>\n",
       "      <td>44</td>\n",
       "      <td>1233</td>\n",
       "      <td>1</td>\n",
       "    </tr>\n",
       "    <tr>\n",
       "      <th>1</th>\n",
       "      <td>2</td>\n",
       "      <td>F</td>\n",
       "      <td>Aviao</td>\n",
       "      <td>4</td>\n",
       "      <td>5</td>\n",
       "      <td>216</td>\n",
       "      <td>2</td>\n",
       "      <td>baixa</td>\n",
       "      <td>M</td>\n",
       "      <td>59</td>\n",
       "      <td>3088</td>\n",
       "      <td>1</td>\n",
       "    </tr>\n",
       "    <tr>\n",
       "      <th>2</th>\n",
       "      <td>3</td>\n",
       "      <td>A</td>\n",
       "      <td>Aviao</td>\n",
       "      <td>2</td>\n",
       "      <td>2</td>\n",
       "      <td>183</td>\n",
       "      <td>4</td>\n",
       "      <td>baixa</td>\n",
       "      <td>M</td>\n",
       "      <td>48</td>\n",
       "      <td>3374</td>\n",
       "      <td>1</td>\n",
       "    </tr>\n",
       "  </tbody>\n",
       "</table>\n",
       "</div>"
      ],
      "text/plain": [
       "   ID corredor_armazem modo_envio  numero_chamadas_cliente  avaliacao_cliente  \\\n",
       "0   1                D      Aviao                        4                  2   \n",
       "1   2                F      Aviao                        4                  5   \n",
       "2   3                A      Aviao                        2                  2   \n",
       "\n",
       "   custo_produto  compras_anteriores prioridade_produto genero  desconto  \\\n",
       "0            177                   3              baixa      F        44   \n",
       "1            216                   2              baixa      M        59   \n",
       "2            183                   4              baixa      M        48   \n",
       "\n",
       "   peso_gramas  entregue_no_prazo  \n",
       "0         1233                  1  \n",
       "1         3088                  1  \n",
       "2         3374                  1  "
      ]
     },
     "execution_count": 14,
     "metadata": {},
     "output_type": "execute_result"
    }
   ],
   "source": [
    "df.head(3)"
   ]
  },
  {
   "cell_type": "code",
   "execution_count": 15,
   "id": "ce59c078-5223-48ec-a354-f150c1eadb25",
   "metadata": {
    "colab": {
     "base_uri": "https://localhost:8080/"
    },
    "executionInfo": {
     "elapsed": 358,
     "status": "ok",
     "timestamp": 1649601122441,
     "user": {
      "displayName": "Muhammad Hamzah",
      "userId": "06012328832276120437"
     },
     "user_tz": -420
    },
    "id": "ce59c078-5223-48ec-a354-f150c1eadb25",
    "outputId": "57db3686-acb6-44fd-bd5a-d7d25ccf1f22"
   },
   "outputs": [
    {
     "data": {
      "text/plain": [
       "ID                         0\n",
       "corredor_armazem           0\n",
       "modo_envio                 0\n",
       "numero_chamadas_cliente    0\n",
       "avaliacao_cliente          0\n",
       "custo_produto              0\n",
       "compras_anteriores         0\n",
       "prioridade_produto         0\n",
       "genero                     0\n",
       "desconto                   0\n",
       "peso_gramas                0\n",
       "entregue_no_prazo          0\n",
       "dtype: int64"
      ]
     },
     "execution_count": 15,
     "metadata": {},
     "output_type": "execute_result"
    }
   ],
   "source": [
    "# Verifica se há valores ausentes\n",
    "df.isna().sum()"
   ]
  },
  {
   "cell_type": "markdown",
   "id": "866d65e4-acc7-488b-b72d-478796a02252",
   "metadata": {
    "id": "866d65e4-acc7-488b-b72d-478796a02252",
    "tags": []
   },
   "source": [
    "### Tratamento de Valores Duplicados\n",
    "\n",
    "Valores duplicados significam duplicidade dos dados em toda a linha (todo o registro).\n",
    "\n",
    "O tratamento pode ser feito antes, durante ou depois da Análise Exploratória, mas idealmente deve ser feito antes da Engenharia de Atributos."
   ]
  },
  {
   "cell_type": "code",
   "execution_count": 16,
   "id": "5017d977",
   "metadata": {},
   "outputs": [
    {
     "data": {
      "text/html": [
       "<div>\n",
       "<style scoped>\n",
       "    .dataframe tbody tr th:only-of-type {\n",
       "        vertical-align: middle;\n",
       "    }\n",
       "\n",
       "    .dataframe tbody tr th {\n",
       "        vertical-align: top;\n",
       "    }\n",
       "\n",
       "    .dataframe thead th {\n",
       "        text-align: right;\n",
       "    }\n",
       "</style>\n",
       "<table border=\"1\" class=\"dataframe\">\n",
       "  <thead>\n",
       "    <tr style=\"text-align: right;\">\n",
       "      <th></th>\n",
       "      <th>ID</th>\n",
       "      <th>corredor_armazem</th>\n",
       "      <th>modo_envio</th>\n",
       "      <th>numero_chamadas_cliente</th>\n",
       "      <th>avaliacao_cliente</th>\n",
       "      <th>custo_produto</th>\n",
       "      <th>compras_anteriores</th>\n",
       "      <th>prioridade_produto</th>\n",
       "      <th>genero</th>\n",
       "      <th>desconto</th>\n",
       "      <th>peso_gramas</th>\n",
       "      <th>entregue_no_prazo</th>\n",
       "    </tr>\n",
       "  </thead>\n",
       "  <tbody>\n",
       "    <tr>\n",
       "      <th>0</th>\n",
       "      <td>1</td>\n",
       "      <td>D</td>\n",
       "      <td>Aviao</td>\n",
       "      <td>4</td>\n",
       "      <td>2</td>\n",
       "      <td>177</td>\n",
       "      <td>3</td>\n",
       "      <td>baixa</td>\n",
       "      <td>F</td>\n",
       "      <td>44</td>\n",
       "      <td>1233</td>\n",
       "      <td>1</td>\n",
       "    </tr>\n",
       "    <tr>\n",
       "      <th>1</th>\n",
       "      <td>2</td>\n",
       "      <td>F</td>\n",
       "      <td>Aviao</td>\n",
       "      <td>4</td>\n",
       "      <td>5</td>\n",
       "      <td>216</td>\n",
       "      <td>2</td>\n",
       "      <td>baixa</td>\n",
       "      <td>M</td>\n",
       "      <td>59</td>\n",
       "      <td>3088</td>\n",
       "      <td>1</td>\n",
       "    </tr>\n",
       "    <tr>\n",
       "      <th>2</th>\n",
       "      <td>3</td>\n",
       "      <td>A</td>\n",
       "      <td>Aviao</td>\n",
       "      <td>2</td>\n",
       "      <td>2</td>\n",
       "      <td>183</td>\n",
       "      <td>4</td>\n",
       "      <td>baixa</td>\n",
       "      <td>M</td>\n",
       "      <td>48</td>\n",
       "      <td>3374</td>\n",
       "      <td>1</td>\n",
       "    </tr>\n",
       "  </tbody>\n",
       "</table>\n",
       "</div>"
      ],
      "text/plain": [
       "   ID corredor_armazem modo_envio  numero_chamadas_cliente  avaliacao_cliente  \\\n",
       "0   1                D      Aviao                        4                  2   \n",
       "1   2                F      Aviao                        4                  5   \n",
       "2   3                A      Aviao                        2                  2   \n",
       "\n",
       "   custo_produto  compras_anteriores prioridade_produto genero  desconto  \\\n",
       "0            177                   3              baixa      F        44   \n",
       "1            216                   2              baixa      M        59   \n",
       "2            183                   4              baixa      M        48   \n",
       "\n",
       "   peso_gramas  entregue_no_prazo  \n",
       "0         1233                  1  \n",
       "1         3088                  1  \n",
       "2         3374                  1  "
      ]
     },
     "execution_count": 16,
     "metadata": {},
     "output_type": "execute_result"
    }
   ],
   "source": [
    "df.head(3)"
   ]
  },
  {
   "cell_type": "code",
   "execution_count": 17,
   "id": "2a592cca-7137-45ef-a701-d247650f1f14",
   "metadata": {
    "colab": {
     "base_uri": "https://localhost:8080/"
    },
    "executionInfo": {
     "elapsed": 361,
     "status": "ok",
     "timestamp": 1649601167857,
     "user": {
      "displayName": "Muhammad Hamzah",
      "userId": "06012328832276120437"
     },
     "user_tz": -420
    },
    "id": "2a592cca-7137-45ef-a701-d247650f1f14",
    "outputId": "77f10718-dbc0-4b06-94a7-c4f0602b2d74"
   },
   "outputs": [
    {
     "data": {
      "text/plain": [
       "0"
      ]
     },
     "execution_count": 17,
     "metadata": {},
     "output_type": "execute_result"
    }
   ],
   "source": [
    "# Verifica se há valores duplicados\n",
    "df.duplicated().sum()"
   ]
  },
  {
   "cell_type": "markdown",
   "id": "dd8b23e3-f25e-45c2-bdcb-25b57c038f83",
   "metadata": {
    "id": "dd8b23e3-f25e-45c2-bdcb-25b57c038f83"
   },
   "source": [
    "### Tratamento de Valores Outliers\n"
   ]
  },
  {
   "cell_type": "code",
   "execution_count": 18,
   "id": "019a8b2e",
   "metadata": {},
   "outputs": [
    {
     "name": "stdout",
     "output_type": "stream",
     "text": [
      "Número de linhas antes de filtrar valores extremos (outliers): 11000\n"
     ]
    }
   ],
   "source": [
    "print(f'Número de linhas antes de filtrar valores extremos (outliers): {len(df)}')"
   ]
  },
  {
   "cell_type": "code",
   "execution_count": 19,
   "id": "93f9981e",
   "metadata": {},
   "outputs": [
    {
     "data": {
      "text/html": [
       "<div>\n",
       "<style scoped>\n",
       "    .dataframe tbody tr th:only-of-type {\n",
       "        vertical-align: middle;\n",
       "    }\n",
       "\n",
       "    .dataframe tbody tr th {\n",
       "        vertical-align: top;\n",
       "    }\n",
       "\n",
       "    .dataframe thead th {\n",
       "        text-align: right;\n",
       "    }\n",
       "</style>\n",
       "<table border=\"1\" class=\"dataframe\">\n",
       "  <thead>\n",
       "    <tr style=\"text-align: right;\">\n",
       "      <th></th>\n",
       "      <th>numero_chamadas_cliente</th>\n",
       "      <th>avaliacao_cliente</th>\n",
       "      <th>compras_anteriores</th>\n",
       "      <th>desconto</th>\n",
       "      <th>custo_produto</th>\n",
       "      <th>peso_gramas</th>\n",
       "    </tr>\n",
       "  </thead>\n",
       "  <tbody>\n",
       "    <tr>\n",
       "      <th>0</th>\n",
       "      <td>4</td>\n",
       "      <td>2</td>\n",
       "      <td>3</td>\n",
       "      <td>44</td>\n",
       "      <td>177</td>\n",
       "      <td>1233</td>\n",
       "    </tr>\n",
       "    <tr>\n",
       "      <th>1</th>\n",
       "      <td>4</td>\n",
       "      <td>5</td>\n",
       "      <td>2</td>\n",
       "      <td>59</td>\n",
       "      <td>216</td>\n",
       "      <td>3088</td>\n",
       "    </tr>\n",
       "    <tr>\n",
       "      <th>2</th>\n",
       "      <td>2</td>\n",
       "      <td>2</td>\n",
       "      <td>4</td>\n",
       "      <td>48</td>\n",
       "      <td>183</td>\n",
       "      <td>3374</td>\n",
       "    </tr>\n",
       "    <tr>\n",
       "      <th>3</th>\n",
       "      <td>3</td>\n",
       "      <td>3</td>\n",
       "      <td>4</td>\n",
       "      <td>10</td>\n",
       "      <td>176</td>\n",
       "      <td>1177</td>\n",
       "    </tr>\n",
       "    <tr>\n",
       "      <th>4</th>\n",
       "      <td>2</td>\n",
       "      <td>2</td>\n",
       "      <td>3</td>\n",
       "      <td>46</td>\n",
       "      <td>184</td>\n",
       "      <td>2484</td>\n",
       "    </tr>\n",
       "  </tbody>\n",
       "</table>\n",
       "</div>"
      ],
      "text/plain": [
       "   numero_chamadas_cliente  avaliacao_cliente  compras_anteriores  desconto  \\\n",
       "0                        4                  2                   3        44   \n",
       "1                        4                  5                   2        59   \n",
       "2                        2                  2                   4        48   \n",
       "3                        3                  3                   4        10   \n",
       "4                        2                  2                   3        46   \n",
       "\n",
       "   custo_produto  peso_gramas  \n",
       "0            177         1233  \n",
       "1            216         3088  \n",
       "2            183         3374  \n",
       "3            176         1177  \n",
       "4            184         2484  "
      ]
     },
     "execution_count": 19,
     "metadata": {},
     "output_type": "execute_result"
    }
   ],
   "source": [
    "df[nums].head()"
   ]
  },
  {
   "cell_type": "code",
   "execution_count": 20,
   "id": "0f1d890d",
   "metadata": {},
   "outputs": [
    {
     "data": {
      "text/plain": [
       "13.372545454545454"
      ]
     },
     "execution_count": 20,
     "metadata": {},
     "output_type": "execute_result"
    }
   ],
   "source": [
    "df.desconto.mean()"
   ]
  },
  {
   "cell_type": "code",
   "execution_count": 21,
   "id": "c0294a08",
   "metadata": {},
   "outputs": [
    {
     "data": {
      "text/plain": [
       "16.20494287359407"
      ]
     },
     "execution_count": 21,
     "metadata": {},
     "output_type": "execute_result"
    }
   ],
   "source": [
    "df.desconto.std()"
   ]
  },
  {
   "cell_type": "code",
   "execution_count": 96,
   "id": "5e72ab50",
   "metadata": {},
   "outputs": [
    {
     "data": {
      "text/plain": [
       "<AxesSubplot:>"
      ]
     },
     "execution_count": 96,
     "metadata": {},
     "output_type": "execute_result"
    },
    {
     "data": {
      "image/png": "[encoded data removed]",
      "text/plain": [
       "<Figure size 432x288 with 1 Axes>"
      ]
     },
     "metadata": {
      "needs_background": "light"
     },
     "output_type": "display_data"
    }
   ],
   "source": [
    "df.desconto.hist(color='gray')"
   ]
  },
  {
   "cell_type": "code",
   "execution_count": 23,
   "id": "4704463a",
   "metadata": {},
   "outputs": [
    {
     "name": "stdout",
     "output_type": "stream",
     "text": [
      "Valor superior: 61.987374075327665\n",
      "Valor inferior: -35.24228316623676\n"
     ]
    }
   ],
   "source": [
    "# Calcula os limites superior e inferior\n",
    "# Um valor outlier é aquele que está abaixo do limite inferior ou acima do limite superior\n",
    "limite_superior = df.desconto.mean() + 3 * df.desconto.std()\n",
    "print(\"Valor superior:\", limite_superior)\n",
    "limite_inferior = df.desconto.mean() - 3 * df.desconto.std()\n",
    "print(\"Valor inferior:\", limite_inferior)"
   ]
  },
  {
   "cell_type": "code",
   "execution_count": 24,
   "id": "d3926c70",
   "metadata": {},
   "outputs": [
    {
     "data": {
      "text/html": [
       "<div>\n",
       "<style scoped>\n",
       "    .dataframe tbody tr th:only-of-type {\n",
       "        vertical-align: middle;\n",
       "    }\n",
       "\n",
       "    .dataframe tbody tr th {\n",
       "        vertical-align: top;\n",
       "    }\n",
       "\n",
       "    .dataframe thead th {\n",
       "        text-align: right;\n",
       "    }\n",
       "</style>\n",
       "<table border=\"1\" class=\"dataframe\">\n",
       "  <thead>\n",
       "    <tr style=\"text-align: right;\">\n",
       "      <th></th>\n",
       "      <th>ID</th>\n",
       "      <th>corredor_armazem</th>\n",
       "      <th>modo_envio</th>\n",
       "      <th>numero_chamadas_cliente</th>\n",
       "      <th>avaliacao_cliente</th>\n",
       "      <th>custo_produto</th>\n",
       "      <th>compras_anteriores</th>\n",
       "      <th>prioridade_produto</th>\n",
       "      <th>genero</th>\n",
       "      <th>desconto</th>\n",
       "      <th>peso_gramas</th>\n",
       "      <th>entregue_no_prazo</th>\n",
       "    </tr>\n",
       "  </thead>\n",
       "  <tbody>\n",
       "    <tr>\n",
       "      <th>36</th>\n",
       "      <td>37</td>\n",
       "      <td>D</td>\n",
       "      <td>Navio</td>\n",
       "      <td>3</td>\n",
       "      <td>5</td>\n",
       "      <td>137</td>\n",
       "      <td>4</td>\n",
       "      <td>alta</td>\n",
       "      <td>F</td>\n",
       "      <td>62</td>\n",
       "      <td>1477</td>\n",
       "      <td>1</td>\n",
       "    </tr>\n",
       "    <tr>\n",
       "      <th>60</th>\n",
       "      <td>61</td>\n",
       "      <td>D</td>\n",
       "      <td>Navio</td>\n",
       "      <td>3</td>\n",
       "      <td>1</td>\n",
       "      <td>221</td>\n",
       "      <td>3</td>\n",
       "      <td>baixa</td>\n",
       "      <td>F</td>\n",
       "      <td>64</td>\n",
       "      <td>2794</td>\n",
       "      <td>1</td>\n",
       "    </tr>\n",
       "    <tr>\n",
       "      <th>62</th>\n",
       "      <td>63</td>\n",
       "      <td>A</td>\n",
       "      <td>Navio</td>\n",
       "      <td>5</td>\n",
       "      <td>1</td>\n",
       "      <td>105</td>\n",
       "      <td>6</td>\n",
       "      <td>media</td>\n",
       "      <td>M</td>\n",
       "      <td>62</td>\n",
       "      <td>1292</td>\n",
       "      <td>1</td>\n",
       "    </tr>\n",
       "    <tr>\n",
       "      <th>111</th>\n",
       "      <td>112</td>\n",
       "      <td>B</td>\n",
       "      <td>Caminhao</td>\n",
       "      <td>4</td>\n",
       "      <td>2</td>\n",
       "      <td>239</td>\n",
       "      <td>3</td>\n",
       "      <td>baixa</td>\n",
       "      <td>F</td>\n",
       "      <td>65</td>\n",
       "      <td>3679</td>\n",
       "      <td>1</td>\n",
       "    </tr>\n",
       "    <tr>\n",
       "      <th>122</th>\n",
       "      <td>123</td>\n",
       "      <td>A</td>\n",
       "      <td>Caminhao</td>\n",
       "      <td>4</td>\n",
       "      <td>2</td>\n",
       "      <td>160</td>\n",
       "      <td>3</td>\n",
       "      <td>baixa</td>\n",
       "      <td>M</td>\n",
       "      <td>64</td>\n",
       "      <td>1714</td>\n",
       "      <td>1</td>\n",
       "    </tr>\n",
       "  </tbody>\n",
       "</table>\n",
       "</div>"
      ],
      "text/plain": [
       "      ID corredor_armazem modo_envio  numero_chamadas_cliente  \\\n",
       "36    37                D      Navio                        3   \n",
       "60    61                D      Navio                        3   \n",
       "62    63                A      Navio                        5   \n",
       "111  112                B   Caminhao                        4   \n",
       "122  123                A   Caminhao                        4   \n",
       "\n",
       "     avaliacao_cliente  custo_produto  compras_anteriores prioridade_produto  \\\n",
       "36                   5            137                   4               alta   \n",
       "60                   1            221                   3              baixa   \n",
       "62                   1            105                   6              media   \n",
       "111                  2            239                   3              baixa   \n",
       "122                  2            160                   3              baixa   \n",
       "\n",
       "    genero  desconto  peso_gramas  entregue_no_prazo  \n",
       "36       F        62         1477                  1  \n",
       "60       F        64         2794                  1  \n",
       "62       M        62         1292                  1  \n",
       "111      F        65         3679                  1  \n",
       "122      M        64         1714                  1  "
      ]
     },
     "execution_count": 24,
     "metadata": {},
     "output_type": "execute_result"
    }
   ],
   "source": [
    "# Extra os registros com outliers na coluna desconto\n",
    "df_outliers_desconto = df[(df.desconto <= limite_inferior) | (df.desconto >= limite_superior)]\n",
    "df_outliers_desconto.head()"
   ]
  },
  {
   "cell_type": "code",
   "execution_count": 38,
   "id": "19f3a670",
   "metadata": {},
   "outputs": [
    {
     "data": {
      "text/plain": [
       "181"
      ]
     },
     "execution_count": 38,
     "metadata": {},
     "output_type": "execute_result"
    }
   ],
   "source": [
    "len(df_outliers_desconto)"
   ]
  },
  {
   "cell_type": "code",
   "execution_count": 26,
   "id": "819ddf51",
   "metadata": {},
   "outputs": [],
   "source": [
    "# Filtra o dataframe removendo os registros com outliers na coluna desconto\n",
    "df = df[(df.desconto > limite_inferior) & (df.desconto < limite_superior)]"
   ]
  },
  {
   "cell_type": "code",
   "execution_count": 27,
   "id": "a02c1fe5",
   "metadata": {
    "scrolled": true
   },
   "outputs": [
    {
     "name": "stdout",
     "output_type": "stream",
     "text": [
      "Número de linhas antes de filtrar valores extremos (outliers): 10819\n"
     ]
    }
   ],
   "source": [
    "print(f'Número de linhas antes de filtrar valores extremos (outliers): {len(df)}')"
   ]
  },
  {
   "cell_type": "code",
   "execution_count": 39,
   "id": "d0f619db",
   "metadata": {},
   "outputs": [
    {
     "data": {
      "text/plain": [
       "11000"
      ]
     },
     "execution_count": 39,
     "metadata": {},
     "output_type": "execute_result"
    }
   ],
   "source": [
    "len(df_outliers_desconto) + len(df)"
   ]
  },
  {
   "cell_type": "code",
   "execution_count": 28,
   "id": "f42e24f0",
   "metadata": {},
   "outputs": [],
   "source": [
    "registros = np.array([True] * len(df))"
   ]
  },
  {
   "cell_type": "code",
   "execution_count": 41,
   "id": "6b4fad4d",
   "metadata": {},
   "outputs": [
    {
     "data": {
      "text/plain": [
       "array([ True,  True,  True, ...,  True,  True,  True])"
      ]
     },
     "execution_count": 41,
     "metadata": {},
     "output_type": "execute_result"
    }
   ],
   "source": [
    "registros"
   ]
  },
  {
   "cell_type": "code",
   "execution_count": 42,
   "id": "3ff63400",
   "metadata": {},
   "outputs": [
    {
     "data": {
      "text/plain": [
       "numpy.ndarray"
      ]
     },
     "execution_count": 42,
     "metadata": {},
     "output_type": "execute_result"
    }
   ],
   "source": [
    "type(registros)"
   ]
  },
  {
   "cell_type": "code",
   "execution_count": 43,
   "id": "cf342424",
   "metadata": {},
   "outputs": [
    {
     "data": {
      "text/plain": [
       "10819"
      ]
     },
     "execution_count": 43,
     "metadata": {},
     "output_type": "execute_result"
    }
   ],
   "source": [
    "np.count_nonzero(registros == True)"
   ]
  },
  {
   "cell_type": "code",
   "execution_count": 44,
   "id": "98278eb8",
   "metadata": {},
   "outputs": [
    {
     "data": {
      "text/plain": [
       "0"
      ]
     },
     "execution_count": 44,
     "metadata": {},
     "output_type": "execute_result"
    }
   ],
   "source": [
    "np.count_nonzero(registros == False)"
   ]
  },
  {
   "cell_type": "code",
   "execution_count": 45,
   "id": "8994172e",
   "metadata": {},
   "outputs": [],
   "source": [
    "# Variáveis numéricas (sem a variável desconto)\n",
    "nums2 = ['numero_chamadas_cliente', \n",
    "         'avaliacao_cliente', \n",
    "         'compras_anteriores', \n",
    "         'custo_produto', \n",
    "         'peso_gramas']"
   ]
  },
  {
   "cell_type": "code",
   "execution_count": 46,
   "id": "13b607c6-a356-4363-9e7b-90ee8afded0b",
   "metadata": {
    "colab": {
     "base_uri": "https://localhost:8080/"
    },
    "executionInfo": {
     "elapsed": 391,
     "status": "ok",
     "timestamp": 1649601507694,
     "user": {
      "displayName": "Muhammad Hamzah",
      "userId": "06012328832276120437"
     },
     "user_tz": -420
    },
    "id": "13b607c6-a356-4363-9e7b-90ee8afded0b",
    "outputId": "beead67b-10ef-4600-bac7-333af80fb4f3"
   },
   "outputs": [],
   "source": [
    "# Loop por cada variável numérica\n",
    "for col in nums2:\n",
    "    \n",
    "    # Calcula o z-score absoluto\n",
    "    zscore = abs(stats.zscore(df[col])) \n",
    "    \n",
    "    # Mantém valores com menos de 3 z-score absoluto\n",
    "    registros = (zscore < 3) & registros"
   ]
  },
  {
   "cell_type": "code",
   "execution_count": 57,
   "id": "03c1d054",
   "metadata": {},
   "outputs": [
    {
     "data": {
      "text/plain": [
       "10643"
      ]
     },
     "execution_count": 57,
     "metadata": {},
     "output_type": "execute_result"
    }
   ],
   "source": [
    "np.count_nonzero(registros == True)"
   ]
  },
  {
   "cell_type": "code",
   "execution_count": 58,
   "id": "84f86d7f",
   "metadata": {},
   "outputs": [
    {
     "data": {
      "text/plain": [
       "176"
      ]
     },
     "execution_count": 58,
     "metadata": {},
     "output_type": "execute_result"
    }
   ],
   "source": [
    "np.count_nonzero(registros == False)"
   ]
  },
  {
   "cell_type": "code",
   "execution_count": 59,
   "id": "65811cb0",
   "metadata": {},
   "outputs": [],
   "source": [
    "# Removemos registros com o z-score maiores que 3 nas colunas numéricas\n",
    "df = df[registros] "
   ]
  },
  {
   "cell_type": "code",
   "execution_count": 65,
   "id": "b6c8d955",
   "metadata": {},
   "outputs": [
    {
     "data": {
      "text/html": [
       "<div>\n",
       "<style scoped>\n",
       "    .dataframe tbody tr th:only-of-type {\n",
       "        vertical-align: middle;\n",
       "    }\n",
       "\n",
       "    .dataframe tbody tr th {\n",
       "        vertical-align: top;\n",
       "    }\n",
       "\n",
       "    .dataframe thead th {\n",
       "        text-align: right;\n",
       "    }\n",
       "</style>\n",
       "<table border=\"1\" class=\"dataframe\">\n",
       "  <thead>\n",
       "    <tr style=\"text-align: right;\">\n",
       "      <th></th>\n",
       "      <th>numero_chamadas_cliente</th>\n",
       "      <th>avaliacao_cliente</th>\n",
       "      <th>compras_anteriores</th>\n",
       "      <th>desconto</th>\n",
       "      <th>custo_produto</th>\n",
       "      <th>peso_gramas</th>\n",
       "    </tr>\n",
       "  </thead>\n",
       "  <tbody>\n",
       "    <tr>\n",
       "      <th>0</th>\n",
       "      <td>4</td>\n",
       "      <td>2</td>\n",
       "      <td>3</td>\n",
       "      <td>44</td>\n",
       "      <td>177</td>\n",
       "      <td>1233</td>\n",
       "    </tr>\n",
       "    <tr>\n",
       "      <th>1</th>\n",
       "      <td>4</td>\n",
       "      <td>5</td>\n",
       "      <td>2</td>\n",
       "      <td>59</td>\n",
       "      <td>216</td>\n",
       "      <td>3088</td>\n",
       "    </tr>\n",
       "    <tr>\n",
       "      <th>2</th>\n",
       "      <td>2</td>\n",
       "      <td>2</td>\n",
       "      <td>4</td>\n",
       "      <td>48</td>\n",
       "      <td>183</td>\n",
       "      <td>3374</td>\n",
       "    </tr>\n",
       "    <tr>\n",
       "      <th>3</th>\n",
       "      <td>3</td>\n",
       "      <td>3</td>\n",
       "      <td>4</td>\n",
       "      <td>10</td>\n",
       "      <td>176</td>\n",
       "      <td>1177</td>\n",
       "    </tr>\n",
       "    <tr>\n",
       "      <th>4</th>\n",
       "      <td>2</td>\n",
       "      <td>2</td>\n",
       "      <td>3</td>\n",
       "      <td>46</td>\n",
       "      <td>184</td>\n",
       "      <td>2484</td>\n",
       "    </tr>\n",
       "  </tbody>\n",
       "</table>\n",
       "</div>"
      ],
      "text/plain": [
       "   numero_chamadas_cliente  avaliacao_cliente  compras_anteriores  desconto  \\\n",
       "0                        4                  2                   3        44   \n",
       "1                        4                  5                   2        59   \n",
       "2                        2                  2                   4        48   \n",
       "3                        3                  3                   4        10   \n",
       "4                        2                  2                   3        46   \n",
       "\n",
       "   custo_produto  peso_gramas  \n",
       "0            177         1233  \n",
       "1            216         3088  \n",
       "2            183         3374  \n",
       "3            176         1177  \n",
       "4            184         2484  "
      ]
     },
     "execution_count": 65,
     "metadata": {},
     "output_type": "execute_result"
    }
   ],
   "source": [
    "df[nums].head()"
   ]
  },
  {
   "cell_type": "code",
   "execution_count": 60,
   "id": "7b862a1b",
   "metadata": {},
   "outputs": [
    {
     "name": "stdout",
     "output_type": "stream",
     "text": [
      "Número de linhas após filtrar valores extremos (outliers): 10643\n"
     ]
    }
   ],
   "source": [
    "print(f'Número de linhas após filtrar valores extremos (outliers): {len(df)}')"
   ]
  },
  {
   "cell_type": "markdown",
   "id": "564a0063-8a1e-484e-9185-b85840f6feec",
   "metadata": {
    "id": "564a0063-8a1e-484e-9185-b85840f6feec"
   },
   "source": [
    "### Tratamento de Desbalanceamento de Classe\n",
    "\n",
    "Deve ser feito nos dados de treino, após o pré-processamento dos dados."
   ]
  },
  {
   "cell_type": "code",
   "execution_count": 66,
   "id": "48407098",
   "metadata": {},
   "outputs": [
    {
     "data": {
      "text/plain": [
       "Index(['ID', 'corredor_armazem', 'modo_envio', 'numero_chamadas_cliente',\n",
       "       'avaliacao_cliente', 'custo_produto', 'compras_anteriores',\n",
       "       'prioridade_produto', 'genero', 'desconto', 'peso_gramas',\n",
       "       'entregue_no_prazo'],\n",
       "      dtype='object')"
      ]
     },
     "execution_count": 66,
     "metadata": {},
     "output_type": "execute_result"
    }
   ],
   "source": [
    "df.columns"
   ]
  },
  {
   "cell_type": "code",
   "execution_count": 67,
   "id": "b91b405b-e1b0-42c0-8b9d-d110d5e47d3a",
   "metadata": {
    "colab": {
     "base_uri": "https://localhost:8080/"
    },
    "executionInfo": {
     "elapsed": 9,
     "status": "ok",
     "timestamp": 1649600790202,
     "user": {
      "displayName": "Gesta Putra Gemilang",
      "userId": "17182360166228029414"
     },
     "user_tz": -420
    },
    "id": "b91b405b-e1b0-42c0-8b9d-d110d5e47d3a",
    "outputId": "a44d54ec-f245-4f22-b37a-15e99f88f3fe"
   },
   "outputs": [
    {
     "data": {
      "text/plain": [
       "1    6282\n",
       "0    4361\n",
       "Name: entregue_no_prazo, dtype: int64"
      ]
     },
     "execution_count": 67,
     "metadata": {},
     "output_type": "execute_result"
    }
   ],
   "source": [
    "df['entregue_no_prazo'].value_counts()"
   ]
  },
  {
   "cell_type": "markdown",
   "id": "4de40fb6-9c8e-4704-b328-9c2d0d09d099",
   "metadata": {
    "id": "4de40fb6-9c8e-4704-b328-9c2d0d09d099"
   },
   "source": [
    "## Engenharia de Atributos"
   ]
  },
  {
   "cell_type": "markdown",
   "id": "40d1fc91-742b-411e-a154-6f52a15df395",
   "metadata": {
    "id": "40d1fc91-742b-411e-a154-6f52a15df395"
   },
   "source": [
    "## Feature Selection \n",
    "\n",
    "Aqui tomamos as decisões sobre quais variáveis serão usadas na Engenharia de Atributos."
   ]
  },
  {
   "cell_type": "code",
   "execution_count": 68,
   "id": "5e22db0e",
   "metadata": {},
   "outputs": [
    {
     "data": {
      "text/plain": [
       "Index(['ID', 'corredor_armazem', 'modo_envio', 'numero_chamadas_cliente',\n",
       "       'avaliacao_cliente', 'custo_produto', 'compras_anteriores',\n",
       "       'prioridade_produto', 'genero', 'desconto', 'peso_gramas',\n",
       "       'entregue_no_prazo'],\n",
       "      dtype='object')"
      ]
     },
     "execution_count": 68,
     "metadata": {},
     "output_type": "execute_result"
    }
   ],
   "source": [
    "df.columns"
   ]
  },
  {
   "cell_type": "code",
   "execution_count": 69,
   "id": "a9863b63",
   "metadata": {},
   "outputs": [
    {
     "data": {
      "text/html": [
       "<div>\n",
       "<style scoped>\n",
       "    .dataframe tbody tr th:only-of-type {\n",
       "        vertical-align: middle;\n",
       "    }\n",
       "\n",
       "    .dataframe tbody tr th {\n",
       "        vertical-align: top;\n",
       "    }\n",
       "\n",
       "    .dataframe thead th {\n",
       "        text-align: right;\n",
       "    }\n",
       "</style>\n",
       "<table border=\"1\" class=\"dataframe\">\n",
       "  <thead>\n",
       "    <tr style=\"text-align: right;\">\n",
       "      <th></th>\n",
       "      <th>ID</th>\n",
       "      <th>corredor_armazem</th>\n",
       "      <th>modo_envio</th>\n",
       "      <th>numero_chamadas_cliente</th>\n",
       "      <th>avaliacao_cliente</th>\n",
       "      <th>custo_produto</th>\n",
       "      <th>compras_anteriores</th>\n",
       "      <th>prioridade_produto</th>\n",
       "      <th>genero</th>\n",
       "      <th>desconto</th>\n",
       "      <th>peso_gramas</th>\n",
       "      <th>entregue_no_prazo</th>\n",
       "    </tr>\n",
       "  </thead>\n",
       "  <tbody>\n",
       "    <tr>\n",
       "      <th>10947</th>\n",
       "      <td>10948</td>\n",
       "      <td>B</td>\n",
       "      <td>Caminhao</td>\n",
       "      <td>4</td>\n",
       "      <td>1</td>\n",
       "      <td>232</td>\n",
       "      <td>5</td>\n",
       "      <td>media</td>\n",
       "      <td>M</td>\n",
       "      <td>9</td>\n",
       "      <td>1145</td>\n",
       "      <td>0</td>\n",
       "    </tr>\n",
       "    <tr>\n",
       "      <th>2463</th>\n",
       "      <td>2464</td>\n",
       "      <td>B</td>\n",
       "      <td>Aviao</td>\n",
       "      <td>5</td>\n",
       "      <td>5</td>\n",
       "      <td>216</td>\n",
       "      <td>6</td>\n",
       "      <td>baixa</td>\n",
       "      <td>M</td>\n",
       "      <td>54</td>\n",
       "      <td>2075</td>\n",
       "      <td>1</td>\n",
       "    </tr>\n",
       "    <tr>\n",
       "      <th>6971</th>\n",
       "      <td>6972</td>\n",
       "      <td>F</td>\n",
       "      <td>Caminhao</td>\n",
       "      <td>3</td>\n",
       "      <td>5</td>\n",
       "      <td>151</td>\n",
       "      <td>2</td>\n",
       "      <td>media</td>\n",
       "      <td>M</td>\n",
       "      <td>8</td>\n",
       "      <td>4408</td>\n",
       "      <td>1</td>\n",
       "    </tr>\n",
       "    <tr>\n",
       "      <th>5589</th>\n",
       "      <td>5590</td>\n",
       "      <td>B</td>\n",
       "      <td>Navio</td>\n",
       "      <td>4</td>\n",
       "      <td>5</td>\n",
       "      <td>257</td>\n",
       "      <td>2</td>\n",
       "      <td>baixa</td>\n",
       "      <td>M</td>\n",
       "      <td>3</td>\n",
       "      <td>5394</td>\n",
       "      <td>0</td>\n",
       "    </tr>\n",
       "    <tr>\n",
       "      <th>2451</th>\n",
       "      <td>2452</td>\n",
       "      <td>B</td>\n",
       "      <td>Caminhao</td>\n",
       "      <td>4</td>\n",
       "      <td>3</td>\n",
       "      <td>272</td>\n",
       "      <td>4</td>\n",
       "      <td>baixa</td>\n",
       "      <td>M</td>\n",
       "      <td>61</td>\n",
       "      <td>2857</td>\n",
       "      <td>1</td>\n",
       "    </tr>\n",
       "  </tbody>\n",
       "</table>\n",
       "</div>"
      ],
      "text/plain": [
       "          ID corredor_armazem modo_envio  numero_chamadas_cliente  \\\n",
       "10947  10948                B   Caminhao                        4   \n",
       "2463    2464                B      Aviao                        5   \n",
       "6971    6972                F   Caminhao                        3   \n",
       "5589    5590                B      Navio                        4   \n",
       "2451    2452                B   Caminhao                        4   \n",
       "\n",
       "       avaliacao_cliente  custo_produto  compras_anteriores  \\\n",
       "10947                  1            232                   5   \n",
       "2463                   5            216                   6   \n",
       "6971                   5            151                   2   \n",
       "5589                   5            257                   2   \n",
       "2451                   3            272                   4   \n",
       "\n",
       "      prioridade_produto genero  desconto  peso_gramas  entregue_no_prazo  \n",
       "10947              media      M         9         1145                  0  \n",
       "2463               baixa      M        54         2075                  1  \n",
       "6971               media      M         8         4408                  1  \n",
       "5589               baixa      M         3         5394                  0  \n",
       "2451               baixa      M        61         2857                  1  "
      ]
     },
     "execution_count": 69,
     "metadata": {},
     "output_type": "execute_result"
    }
   ],
   "source": [
    "df.sample(5)"
   ]
  },
  {
   "cell_type": "code",
   "execution_count": 70,
   "id": "73c655bf-0c0b-4931-a6a4-c7f4ed89982d",
   "metadata": {
    "colab": {
     "base_uri": "https://localhost:8080/",
     "height": 364
    },
    "executionInfo": {
     "elapsed": 344,
     "status": "ok",
     "timestamp": 1649600810502,
     "user": {
      "displayName": "Gesta Putra Gemilang",
      "userId": "17182360166228029414"
     },
     "user_tz": -420
    },
    "id": "73c655bf-0c0b-4931-a6a4-c7f4ed89982d",
    "outputId": "3968bac7-f785-4f76-e238-6f8011f6e95a"
   },
   "outputs": [
    {
     "data": {
      "text/html": [
       "<div>\n",
       "<style scoped>\n",
       "    .dataframe tbody tr th:only-of-type {\n",
       "        vertical-align: middle;\n",
       "    }\n",
       "\n",
       "    .dataframe tbody tr th {\n",
       "        vertical-align: top;\n",
       "    }\n",
       "\n",
       "    .dataframe thead th {\n",
       "        text-align: right;\n",
       "    }\n",
       "</style>\n",
       "<table border=\"1\" class=\"dataframe\">\n",
       "  <thead>\n",
       "    <tr style=\"text-align: right;\">\n",
       "      <th></th>\n",
       "      <th>ID</th>\n",
       "      <th>numero_chamadas_cliente</th>\n",
       "      <th>avaliacao_cliente</th>\n",
       "      <th>custo_produto</th>\n",
       "      <th>compras_anteriores</th>\n",
       "      <th>desconto</th>\n",
       "      <th>peso_gramas</th>\n",
       "      <th>entregue_no_prazo</th>\n",
       "    </tr>\n",
       "  </thead>\n",
       "  <tbody>\n",
       "    <tr>\n",
       "      <th>ID</th>\n",
       "      <td>1.000000</td>\n",
       "      <td>0.190104</td>\n",
       "      <td>-0.008010</td>\n",
       "      <td>0.197842</td>\n",
       "      <td>0.184451</td>\n",
       "      <td>-0.591557</td>\n",
       "      <td>0.263811</td>\n",
       "      <td>-0.403501</td>\n",
       "    </tr>\n",
       "    <tr>\n",
       "      <th>numero_chamadas_cliente</th>\n",
       "      <td>0.190104</td>\n",
       "      <td>1.000000</td>\n",
       "      <td>0.013398</td>\n",
       "      <td>0.328148</td>\n",
       "      <td>0.246604</td>\n",
       "      <td>-0.132172</td>\n",
       "      <td>-0.285186</td>\n",
       "      <td>-0.066327</td>\n",
       "    </tr>\n",
       "    <tr>\n",
       "      <th>avaliacao_cliente</th>\n",
       "      <td>-0.008010</td>\n",
       "      <td>0.013398</td>\n",
       "      <td>1.000000</td>\n",
       "      <td>0.006332</td>\n",
       "      <td>0.004893</td>\n",
       "      <td>0.000551</td>\n",
       "      <td>-0.004440</td>\n",
       "      <td>0.014809</td>\n",
       "    </tr>\n",
       "    <tr>\n",
       "      <th>custo_produto</th>\n",
       "      <td>0.197842</td>\n",
       "      <td>0.328148</td>\n",
       "      <td>0.006332</td>\n",
       "      <td>1.000000</td>\n",
       "      <td>0.163395</td>\n",
       "      <td>-0.137703</td>\n",
       "      <td>-0.146885</td>\n",
       "      <td>-0.071954</td>\n",
       "    </tr>\n",
       "    <tr>\n",
       "      <th>compras_anteriores</th>\n",
       "      <td>0.184451</td>\n",
       "      <td>0.246604</td>\n",
       "      <td>0.004893</td>\n",
       "      <td>0.163395</td>\n",
       "      <td>1.000000</td>\n",
       "      <td>-0.106093</td>\n",
       "      <td>-0.235066</td>\n",
       "      <td>-0.062599</td>\n",
       "    </tr>\n",
       "    <tr>\n",
       "      <th>desconto</th>\n",
       "      <td>-0.591557</td>\n",
       "      <td>-0.132172</td>\n",
       "      <td>0.000551</td>\n",
       "      <td>-0.137703</td>\n",
       "      <td>-0.106093</td>\n",
       "      <td>1.000000</td>\n",
       "      <td>-0.365062</td>\n",
       "      <td>0.388192</td>\n",
       "    </tr>\n",
       "    <tr>\n",
       "      <th>peso_gramas</th>\n",
       "      <td>0.263811</td>\n",
       "      <td>-0.285186</td>\n",
       "      <td>-0.004440</td>\n",
       "      <td>-0.146885</td>\n",
       "      <td>-0.235066</td>\n",
       "      <td>-0.365062</td>\n",
       "      <td>1.000000</td>\n",
       "      <td>-0.258815</td>\n",
       "    </tr>\n",
       "    <tr>\n",
       "      <th>entregue_no_prazo</th>\n",
       "      <td>-0.403501</td>\n",
       "      <td>-0.066327</td>\n",
       "      <td>0.014809</td>\n",
       "      <td>-0.071954</td>\n",
       "      <td>-0.062599</td>\n",
       "      <td>0.388192</td>\n",
       "      <td>-0.258815</td>\n",
       "      <td>1.000000</td>\n",
       "    </tr>\n",
       "  </tbody>\n",
       "</table>\n",
       "</div>"
      ],
      "text/plain": [
       "                               ID  numero_chamadas_cliente  avaliacao_cliente  \\\n",
       "ID                       1.000000                 0.190104          -0.008010   \n",
       "numero_chamadas_cliente  0.190104                 1.000000           0.013398   \n",
       "avaliacao_cliente       -0.008010                 0.013398           1.000000   \n",
       "custo_produto            0.197842                 0.328148           0.006332   \n",
       "compras_anteriores       0.184451                 0.246604           0.004893   \n",
       "desconto                -0.591557                -0.132172           0.000551   \n",
       "peso_gramas              0.263811                -0.285186          -0.004440   \n",
       "entregue_no_prazo       -0.403501                -0.066327           0.014809   \n",
       "\n",
       "                         custo_produto  compras_anteriores  desconto  \\\n",
       "ID                            0.197842            0.184451 -0.591557   \n",
       "numero_chamadas_cliente       0.328148            0.246604 -0.132172   \n",
       "avaliacao_cliente             0.006332            0.004893  0.000551   \n",
       "custo_produto                 1.000000            0.163395 -0.137703   \n",
       "compras_anteriores            0.163395            1.000000 -0.106093   \n",
       "desconto                     -0.137703           -0.106093  1.000000   \n",
       "peso_gramas                  -0.146885           -0.235066 -0.365062   \n",
       "entregue_no_prazo            -0.071954           -0.062599  0.388192   \n",
       "\n",
       "                         peso_gramas  entregue_no_prazo  \n",
       "ID                          0.263811          -0.403501  \n",
       "numero_chamadas_cliente    -0.285186          -0.066327  \n",
       "avaliacao_cliente          -0.004440           0.014809  \n",
       "custo_produto              -0.146885          -0.071954  \n",
       "compras_anteriores         -0.235066          -0.062599  \n",
       "desconto                   -0.365062           0.388192  \n",
       "peso_gramas                 1.000000          -0.258815  \n",
       "entregue_no_prazo          -0.258815           1.000000  "
      ]
     },
     "execution_count": 70,
     "metadata": {},
     "output_type": "execute_result"
    }
   ],
   "source": [
    "# Correlação\n",
    "df.corr()"
   ]
  },
  {
   "cell_type": "code",
   "execution_count": 77,
   "id": "M3_XZxy888Q7",
   "metadata": {
    "colab": {
     "base_uri": "https://localhost:8080/",
     "height": 583
    },
    "executionInfo": {
     "elapsed": 1942,
     "status": "ok",
     "timestamp": 1649602189041,
     "user": {
      "displayName": "Muhammad Hamzah",
      "userId": "06012328832276120437"
     },
     "user_tz": -420
    },
    "id": "M3_XZxy888Q7",
    "outputId": "77acb944-4aad-4720-cc80-cc71f2ca2718"
   },
   "outputs": [
    {
     "data": {
      "image/png": "[encoded data removed]",
      "text/plain": [
       "<Figure size 720x576 with 2 Axes>"
      ]
     },
     "metadata": {
      "needs_background": "light"
     },
     "output_type": "display_data"
    }
   ],
   "source": [
    "# Mapa de correlação \n",
    "plt.figure(figsize = (10, 8))\n",
    "sns.heatmap(df.corr(), cmap = 'RdBu', linewidths=.5, annot = True, fmt = '.2f');"
   ]
  },
  {
   "cell_type": "markdown",
   "id": "19ee8612-bec0-43b1-94d8-de8892788658",
   "metadata": {
    "id": "19ee8612-bec0-43b1-94d8-de8892788658"
   },
   "source": [
    "**Decisão**: Na figura acima, os recursos que ultrapassaram o limite (+/- 0,05) na correlação com o recurso de destino (entregue_no_prazo) serão escolhidos para serem processados na Engenharia de Atributos, nesse caso: numero_chamadas_cliente, custo_produto, compras_anteriores, desconto e peso_gramas.\n",
    "\n",
    "A variável avaliacao_cliente não parece relevante e não será processada na Engenharia de Atributos. A variável ID será descartada, pois não representa informação útil."
   ]
  },
  {
   "cell_type": "code",
   "execution_count": 99,
   "id": "e5dfd523",
   "metadata": {
    "colab": {
     "base_uri": "https://localhost:8080/",
     "height": 357
    },
    "executionInfo": {
     "elapsed": 1529,
     "status": "ok",
     "timestamp": 1649603246718,
     "user": {
      "displayName": "Gesta Putra Gemilang",
      "userId": "17182360166228029414"
     },
     "user_tz": -420
    },
    "id": "2IP6FmC6A6u5",
    "outputId": "0d07705b-ceec-4eb0-d86b-f917ff6fa41c"
   },
   "outputs": [
    {
     "data": {
      "image/png": "[encoded data removed]",
      "text/plain": [
       "<Figure size 1440x576 with 4 Axes>"
      ]
     },
     "metadata": {
      "needs_background": "light"
     },
     "output_type": "display_data"
    }
   ],
   "source": [
    "# Gráfico de barras\n",
    "df_sample = df.sample(1000, random_state = 42)\n",
    "plt.figure(figsize = (20,8))\n",
    "for i in range(0, len(cats)):\n",
    "    plt.subplot(2, 2, i+1)\n",
    "    sns.countplot(x = df_sample[cats[i]], color = 'gray', orient = 'v')\n",
    "    plt.tight_layout()"
   ]
  },
  {
   "cell_type": "markdown",
   "id": "Lf7_I-g4Ckxx",
   "metadata": {
    "id": "Lf7_I-g4Ckxx"
   },
   "source": [
    "**Decisão**: Na figura acima pode-se ver que todas as variáveis categóricas têm uma diferença bastante grande em termos de contagens das classes, exceto a variável de Gênero. Sendo assim, não vamos considerar a variável genero na Engenharia de Atributos."
   ]
  },
  {
   "cell_type": "markdown",
   "id": "63d7030e-f55f-4aad-9245-e0ce3609c674",
   "metadata": {
    "id": "63d7030e-f55f-4aad-9245-e0ce3609c674"
   },
   "source": [
    "## Feature Extraction \n",
    "\n",
    "Aqui fazemos a extração de novas variáveis a partir da informação contida em outras variáveis."
   ]
  },
  {
   "cell_type": "code",
   "execution_count": 100,
   "id": "8c445bd5",
   "metadata": {},
   "outputs": [
    {
     "data": {
      "text/plain": [
       "Index(['ID', 'corredor_armazem', 'modo_envio', 'numero_chamadas_cliente',\n",
       "       'avaliacao_cliente', 'custo_produto', 'compras_anteriores',\n",
       "       'prioridade_produto', 'genero', 'desconto', 'peso_gramas',\n",
       "       'entregue_no_prazo'],\n",
       "      dtype='object')"
      ]
     },
     "execution_count": 100,
     "metadata": {},
     "output_type": "execute_result"
    }
   ],
   "source": [
    "df.columns"
   ]
  },
  {
   "cell_type": "code",
   "execution_count": 101,
   "id": "bb32d9b1",
   "metadata": {},
   "outputs": [
    {
     "data": {
      "text/html": [
       "<div>\n",
       "<style scoped>\n",
       "    .dataframe tbody tr th:only-of-type {\n",
       "        vertical-align: middle;\n",
       "    }\n",
       "\n",
       "    .dataframe tbody tr th {\n",
       "        vertical-align: top;\n",
       "    }\n",
       "\n",
       "    .dataframe thead th {\n",
       "        text-align: right;\n",
       "    }\n",
       "</style>\n",
       "<table border=\"1\" class=\"dataframe\">\n",
       "  <thead>\n",
       "    <tr style=\"text-align: right;\">\n",
       "      <th></th>\n",
       "      <th>ID</th>\n",
       "      <th>corredor_armazem</th>\n",
       "      <th>modo_envio</th>\n",
       "      <th>numero_chamadas_cliente</th>\n",
       "      <th>avaliacao_cliente</th>\n",
       "      <th>custo_produto</th>\n",
       "      <th>compras_anteriores</th>\n",
       "      <th>prioridade_produto</th>\n",
       "      <th>genero</th>\n",
       "      <th>desconto</th>\n",
       "      <th>peso_gramas</th>\n",
       "      <th>entregue_no_prazo</th>\n",
       "    </tr>\n",
       "  </thead>\n",
       "  <tbody>\n",
       "    <tr>\n",
       "      <th>0</th>\n",
       "      <td>1</td>\n",
       "      <td>D</td>\n",
       "      <td>Aviao</td>\n",
       "      <td>4</td>\n",
       "      <td>2</td>\n",
       "      <td>177</td>\n",
       "      <td>3</td>\n",
       "      <td>baixa</td>\n",
       "      <td>F</td>\n",
       "      <td>44</td>\n",
       "      <td>1233</td>\n",
       "      <td>1</td>\n",
       "    </tr>\n",
       "    <tr>\n",
       "      <th>1</th>\n",
       "      <td>2</td>\n",
       "      <td>F</td>\n",
       "      <td>Aviao</td>\n",
       "      <td>4</td>\n",
       "      <td>5</td>\n",
       "      <td>216</td>\n",
       "      <td>2</td>\n",
       "      <td>baixa</td>\n",
       "      <td>M</td>\n",
       "      <td>59</td>\n",
       "      <td>3088</td>\n",
       "      <td>1</td>\n",
       "    </tr>\n",
       "    <tr>\n",
       "      <th>2</th>\n",
       "      <td>3</td>\n",
       "      <td>A</td>\n",
       "      <td>Aviao</td>\n",
       "      <td>2</td>\n",
       "      <td>2</td>\n",
       "      <td>183</td>\n",
       "      <td>4</td>\n",
       "      <td>baixa</td>\n",
       "      <td>M</td>\n",
       "      <td>48</td>\n",
       "      <td>3374</td>\n",
       "      <td>1</td>\n",
       "    </tr>\n",
       "    <tr>\n",
       "      <th>3</th>\n",
       "      <td>4</td>\n",
       "      <td>B</td>\n",
       "      <td>Aviao</td>\n",
       "      <td>3</td>\n",
       "      <td>3</td>\n",
       "      <td>176</td>\n",
       "      <td>4</td>\n",
       "      <td>media</td>\n",
       "      <td>M</td>\n",
       "      <td>10</td>\n",
       "      <td>1177</td>\n",
       "      <td>1</td>\n",
       "    </tr>\n",
       "    <tr>\n",
       "      <th>4</th>\n",
       "      <td>5</td>\n",
       "      <td>C</td>\n",
       "      <td>Aviao</td>\n",
       "      <td>2</td>\n",
       "      <td>2</td>\n",
       "      <td>184</td>\n",
       "      <td>3</td>\n",
       "      <td>media</td>\n",
       "      <td>F</td>\n",
       "      <td>46</td>\n",
       "      <td>2484</td>\n",
       "      <td>1</td>\n",
       "    </tr>\n",
       "  </tbody>\n",
       "</table>\n",
       "</div>"
      ],
      "text/plain": [
       "   ID corredor_armazem modo_envio  numero_chamadas_cliente  avaliacao_cliente  \\\n",
       "0   1                D      Aviao                        4                  2   \n",
       "1   2                F      Aviao                        4                  5   \n",
       "2   3                A      Aviao                        2                  2   \n",
       "3   4                B      Aviao                        3                  3   \n",
       "4   5                C      Aviao                        2                  2   \n",
       "\n",
       "   custo_produto  compras_anteriores prioridade_produto genero  desconto  \\\n",
       "0            177                   3              baixa      F        44   \n",
       "1            216                   2              baixa      M        59   \n",
       "2            183                   4              baixa      M        48   \n",
       "3            176                   4              media      M        10   \n",
       "4            184                   3              media      F        46   \n",
       "\n",
       "   peso_gramas  entregue_no_prazo  \n",
       "0         1233                  1  \n",
       "1         3088                  1  \n",
       "2         3374                  1  \n",
       "3         1177                  1  \n",
       "4         2484                  1  "
      ]
     },
     "execution_count": 101,
     "metadata": {},
     "output_type": "execute_result"
    }
   ],
   "source": [
    "df.head()"
   ]
  },
  {
   "cell_type": "code",
   "execution_count": 102,
   "id": "bcb550fa",
   "metadata": {},
   "outputs": [],
   "source": [
    "# Cria uma cópia do dataframe\n",
    "df_eng = df.copy()"
   ]
  },
  {
   "cell_type": "code",
   "execution_count": 103,
   "id": "da986b32",
   "metadata": {},
   "outputs": [
    {
     "data": {
      "text/plain": [
       "(10643, 12)"
      ]
     },
     "execution_count": 103,
     "metadata": {},
     "output_type": "execute_result"
    }
   ],
   "source": [
    "df_eng.shape"
   ]
  },
  {
   "cell_type": "code",
   "execution_count": 104,
   "id": "5bfa47a0",
   "metadata": {},
   "outputs": [
    {
     "data": {
      "text/plain": [
       "ID                          int64\n",
       "corredor_armazem           object\n",
       "modo_envio                 object\n",
       "numero_chamadas_cliente     int64\n",
       "avaliacao_cliente           int64\n",
       "custo_produto               int64\n",
       "compras_anteriores          int64\n",
       "prioridade_produto         object\n",
       "genero                     object\n",
       "desconto                    int64\n",
       "peso_gramas                 int64\n",
       "entregue_no_prazo           int64\n",
       "dtype: object"
      ]
     },
     "execution_count": 104,
     "metadata": {},
     "output_type": "execute_result"
    }
   ],
   "source": [
    "df_eng.dtypes"
   ]
  },
  {
   "cell_type": "markdown",
   "id": "2d6379c0",
   "metadata": {},
   "source": [
    "### 1- Performance de Envio do Produto Por Prioridade do Produto\n",
    "\n",
    "Todo atraso no envio dos produtos é igual, ou seja, tem a mesma proporção? A prioridade de envio dos produtos gera mais ou menos atrasos?\n",
    "\n",
    "Criaremos uma nova variável que representa a performance do envio do produto com base na seguinte regra de negócio:\n",
    "\n",
    "- Se a prioridade do produto era alta e houve atraso no envio, o atraso é crítico.\n",
    "- Se a prioridade do produto era média e houve atraso no envio, o atraso é problemático.\n",
    "- Se a prioridade do produto era baixa e houve atraso no envio, o atraso é tolerável.\n",
    "- Outra opção significa que o envio foi feito no prazo e não apresenta problema."
   ]
  },
  {
   "cell_type": "code",
   "execution_count": 105,
   "id": "df49a985",
   "metadata": {},
   "outputs": [
    {
     "data": {
      "text/plain": [
       "baixa    5174\n",
       "media    4587\n",
       "alta      882\n",
       "Name: prioridade_produto, dtype: int64"
      ]
     },
     "execution_count": 105,
     "metadata": {},
     "output_type": "execute_result"
    }
   ],
   "source": [
    "df_eng.prioridade_produto.value_counts()"
   ]
  },
  {
   "cell_type": "code",
   "execution_count": 106,
   "id": "44bc8dd1",
   "metadata": {},
   "outputs": [],
   "source": [
    "# Criamos a variável e preenchemos com nan\n",
    "df_eng['performance_prioridade_envio'] = np.nan"
   ]
  },
  {
   "cell_type": "code",
   "execution_count": 107,
   "id": "51323de1",
   "metadata": {},
   "outputs": [],
   "source": [
    "# ATENÇÃO!!!! Apenas para compreender o conceito!!!\n",
    "df_eng['performance_prioridade_envio'] = np.where(\n",
    "    (df_eng['prioridade_produto'] == 'alta') & (df_eng['entregue_no_prazo'] == 0), \"Ruim\", \"Excelente\")"
   ]
  },
  {
   "cell_type": "code",
   "execution_count": 108,
   "id": "0318dbe5",
   "metadata": {},
   "outputs": [
    {
     "data": {
      "text/plain": [
       "Excelente    10333\n",
       "Ruim           310\n",
       "Name: performance_prioridade_envio, dtype: int64"
      ]
     },
     "execution_count": 108,
     "metadata": {},
     "output_type": "execute_result"
    }
   ],
   "source": [
    "df_eng['performance_prioridade_envio'].value_counts()"
   ]
  },
  {
   "cell_type": "code",
   "execution_count": null,
   "id": "90825b0c",
   "metadata": {},
   "outputs": [],
   "source": [
    "# Limpamos todos os valores da variável\n",
    "df_eng['performance_prioridade_envio'] = np.nan"
   ]
  },
  {
   "cell_type": "code",
   "execution_count": 109,
   "id": "61c3c28c",
   "metadata": {},
   "outputs": [],
   "source": [
    "# Agora sim a solução!!!\n",
    "df_eng['performance_prioridade_envio'] = np.where(\n",
    "        (df_eng['prioridade_produto'] == 'alta') & (df_eng['entregue_no_prazo'] == 0), \"Atraso Crítico\", \n",
    "    np.where(\n",
    "        (df_eng['prioridade_produto'] == 'media') & (df_eng['entregue_no_prazo'] == 0), \"Atraso Problemático\",\n",
    "    np.where(\n",
    "        (df_eng['prioridade_produto'] == 'baixa') & (df_eng['entregue_no_prazo'] == 0), \"Atraso Tolerável\", \n",
    "    \"Não Houve Atraso\")))"
   ]
  },
  {
   "cell_type": "code",
   "execution_count": 110,
   "id": "4eb390b2",
   "metadata": {},
   "outputs": [
    {
     "data": {
      "text/plain": [
       "Não Houve Atraso       6282\n",
       "Atraso Tolerável       2134\n",
       "Atraso Problemático    1917\n",
       "Atraso Crítico          310\n",
       "Name: performance_prioridade_envio, dtype: int64"
      ]
     },
     "execution_count": 110,
     "metadata": {},
     "output_type": "execute_result"
    }
   ],
   "source": [
    "df_eng['performance_prioridade_envio'].value_counts()"
   ]
  },
  {
   "cell_type": "code",
   "execution_count": 111,
   "id": "19e3945b-abab-4fb5-bb82-48cf9845cbd2",
   "metadata": {
    "id": "19e3945b-abab-4fb5-bb82-48cf9845cbd2"
   },
   "outputs": [
    {
     "data": {
      "text/html": [
       "<div>\n",
       "<style scoped>\n",
       "    .dataframe tbody tr th:only-of-type {\n",
       "        vertical-align: middle;\n",
       "    }\n",
       "\n",
       "    .dataframe tbody tr th {\n",
       "        vertical-align: top;\n",
       "    }\n",
       "\n",
       "    .dataframe thead th {\n",
       "        text-align: right;\n",
       "    }\n",
       "</style>\n",
       "<table border=\"1\" class=\"dataframe\">\n",
       "  <thead>\n",
       "    <tr style=\"text-align: right;\">\n",
       "      <th></th>\n",
       "      <th>ID</th>\n",
       "      <th>corredor_armazem</th>\n",
       "      <th>modo_envio</th>\n",
       "      <th>numero_chamadas_cliente</th>\n",
       "      <th>avaliacao_cliente</th>\n",
       "      <th>custo_produto</th>\n",
       "      <th>compras_anteriores</th>\n",
       "      <th>prioridade_produto</th>\n",
       "      <th>genero</th>\n",
       "      <th>desconto</th>\n",
       "      <th>peso_gramas</th>\n",
       "      <th>entregue_no_prazo</th>\n",
       "      <th>performance_prioridade_envio</th>\n",
       "    </tr>\n",
       "  </thead>\n",
       "  <tbody>\n",
       "    <tr>\n",
       "      <th>518</th>\n",
       "      <td>519</td>\n",
       "      <td>A</td>\n",
       "      <td>Navio</td>\n",
       "      <td>4</td>\n",
       "      <td>5</td>\n",
       "      <td>138</td>\n",
       "      <td>3</td>\n",
       "      <td>media</td>\n",
       "      <td>M</td>\n",
       "      <td>23</td>\n",
       "      <td>1785</td>\n",
       "      <td>1</td>\n",
       "      <td>Não Houve Atraso</td>\n",
       "    </tr>\n",
       "    <tr>\n",
       "      <th>3204</th>\n",
       "      <td>3205</td>\n",
       "      <td>D</td>\n",
       "      <td>Navio</td>\n",
       "      <td>3</td>\n",
       "      <td>1</td>\n",
       "      <td>190</td>\n",
       "      <td>3</td>\n",
       "      <td>media</td>\n",
       "      <td>F</td>\n",
       "      <td>2</td>\n",
       "      <td>4312</td>\n",
       "      <td>0</td>\n",
       "      <td>Atraso Problemático</td>\n",
       "    </tr>\n",
       "    <tr>\n",
       "      <th>10828</th>\n",
       "      <td>10829</td>\n",
       "      <td>C</td>\n",
       "      <td>Aviao</td>\n",
       "      <td>3</td>\n",
       "      <td>3</td>\n",
       "      <td>192</td>\n",
       "      <td>3</td>\n",
       "      <td>alta</td>\n",
       "      <td>F</td>\n",
       "      <td>4</td>\n",
       "      <td>4339</td>\n",
       "      <td>1</td>\n",
       "      <td>Não Houve Atraso</td>\n",
       "    </tr>\n",
       "    <tr>\n",
       "      <th>9946</th>\n",
       "      <td>9947</td>\n",
       "      <td>C</td>\n",
       "      <td>Navio</td>\n",
       "      <td>7</td>\n",
       "      <td>3</td>\n",
       "      <td>262</td>\n",
       "      <td>4</td>\n",
       "      <td>baixa</td>\n",
       "      <td>F</td>\n",
       "      <td>1</td>\n",
       "      <td>1384</td>\n",
       "      <td>1</td>\n",
       "      <td>Não Houve Atraso</td>\n",
       "    </tr>\n",
       "    <tr>\n",
       "      <th>7604</th>\n",
       "      <td>7605</td>\n",
       "      <td>A</td>\n",
       "      <td>Navio</td>\n",
       "      <td>3</td>\n",
       "      <td>5</td>\n",
       "      <td>224</td>\n",
       "      <td>3</td>\n",
       "      <td>baixa</td>\n",
       "      <td>M</td>\n",
       "      <td>6</td>\n",
       "      <td>5115</td>\n",
       "      <td>0</td>\n",
       "      <td>Atraso Tolerável</td>\n",
       "    </tr>\n",
       "  </tbody>\n",
       "</table>\n",
       "</div>"
      ],
      "text/plain": [
       "          ID corredor_armazem modo_envio  numero_chamadas_cliente  \\\n",
       "518      519                A      Navio                        4   \n",
       "3204    3205                D      Navio                        3   \n",
       "10828  10829                C      Aviao                        3   \n",
       "9946    9947                C      Navio                        7   \n",
       "7604    7605                A      Navio                        3   \n",
       "\n",
       "       avaliacao_cliente  custo_produto  compras_anteriores  \\\n",
       "518                    5            138                   3   \n",
       "3204                   1            190                   3   \n",
       "10828                  3            192                   3   \n",
       "9946                   3            262                   4   \n",
       "7604                   5            224                   3   \n",
       "\n",
       "      prioridade_produto genero  desconto  peso_gramas  entregue_no_prazo  \\\n",
       "518                media      M        23         1785                  1   \n",
       "3204               media      F         2         4312                  0   \n",
       "10828               alta      F         4         4339                  1   \n",
       "9946               baixa      F         1         1384                  1   \n",
       "7604               baixa      M         6         5115                  0   \n",
       "\n",
       "      performance_prioridade_envio  \n",
       "518               Não Houve Atraso  \n",
       "3204           Atraso Problemático  \n",
       "10828             Não Houve Atraso  \n",
       "9946              Não Houve Atraso  \n",
       "7604              Atraso Tolerável  "
      ]
     },
     "execution_count": 111,
     "metadata": {},
     "output_type": "execute_result"
    }
   ],
   "source": [
    "df_eng.sample(5)"
   ]
  },
  {
   "cell_type": "code",
   "execution_count": 112,
   "id": "20b35fdc",
   "metadata": {},
   "outputs": [
    {
     "data": {
      "text/html": [
       "<div>\n",
       "<style scoped>\n",
       "    .dataframe tbody tr th:only-of-type {\n",
       "        vertical-align: middle;\n",
       "    }\n",
       "\n",
       "    .dataframe tbody tr th {\n",
       "        vertical-align: top;\n",
       "    }\n",
       "\n",
       "    .dataframe thead tr th {\n",
       "        text-align: left;\n",
       "    }\n",
       "</style>\n",
       "<table border=\"1\" class=\"dataframe\">\n",
       "  <thead>\n",
       "    <tr>\n",
       "      <th></th>\n",
       "      <th>performance_prioridade_envio</th>\n",
       "      <th>entregue_no_prazo</th>\n",
       "      <th>prioridade_produto</th>\n",
       "    </tr>\n",
       "    <tr>\n",
       "      <th></th>\n",
       "      <th></th>\n",
       "      <th></th>\n",
       "      <th>count</th>\n",
       "    </tr>\n",
       "  </thead>\n",
       "  <tbody>\n",
       "    <tr>\n",
       "      <th>0</th>\n",
       "      <td>Atraso Crítico</td>\n",
       "      <td>0</td>\n",
       "      <td>310</td>\n",
       "    </tr>\n",
       "    <tr>\n",
       "      <th>1</th>\n",
       "      <td>Atraso Problemático</td>\n",
       "      <td>0</td>\n",
       "      <td>1917</td>\n",
       "    </tr>\n",
       "    <tr>\n",
       "      <th>2</th>\n",
       "      <td>Atraso Tolerável</td>\n",
       "      <td>0</td>\n",
       "      <td>2134</td>\n",
       "    </tr>\n",
       "    <tr>\n",
       "      <th>3</th>\n",
       "      <td>Não Houve Atraso</td>\n",
       "      <td>1</td>\n",
       "      <td>6282</td>\n",
       "    </tr>\n",
       "  </tbody>\n",
       "</table>\n",
       "</div>"
      ],
      "text/plain": [
       "  performance_prioridade_envio entregue_no_prazo prioridade_produto\n",
       "                                                              count\n",
       "0               Atraso Crítico                 0                310\n",
       "1          Atraso Problemático                 0               1917\n",
       "2             Atraso Tolerável                 0               2134\n",
       "3             Não Houve Atraso                 1               6282"
      ]
     },
     "execution_count": 112,
     "metadata": {},
     "output_type": "execute_result"
    }
   ],
   "source": [
    "# Agrupamos os dados para análise\n",
    "df_report1 = df_eng.groupby(['performance_prioridade_envio', \n",
    "                             'entregue_no_prazo']).agg({'prioridade_produto': ['count']}).reset_index()\n",
    "df_report1.head()"
   ]
  },
  {
   "cell_type": "code",
   "execution_count": 113,
   "id": "95bc24b3",
   "metadata": {},
   "outputs": [
    {
     "data": {
      "text/html": [
       "<div>\n",
       "<style scoped>\n",
       "    .dataframe tbody tr th:only-of-type {\n",
       "        vertical-align: middle;\n",
       "    }\n",
       "\n",
       "    .dataframe tbody tr th {\n",
       "        vertical-align: top;\n",
       "    }\n",
       "\n",
       "    .dataframe thead th {\n",
       "        text-align: right;\n",
       "    }\n",
       "</style>\n",
       "<table border=\"1\" class=\"dataframe\">\n",
       "  <thead>\n",
       "    <tr style=\"text-align: right;\">\n",
       "      <th></th>\n",
       "      <th>performance_prioridade_envio</th>\n",
       "      <th>entregue_no_prazo</th>\n",
       "      <th>contagem</th>\n",
       "    </tr>\n",
       "  </thead>\n",
       "  <tbody>\n",
       "    <tr>\n",
       "      <th>0</th>\n",
       "      <td>Atraso Crítico</td>\n",
       "      <td>0</td>\n",
       "      <td>310</td>\n",
       "    </tr>\n",
       "    <tr>\n",
       "      <th>1</th>\n",
       "      <td>Atraso Problemático</td>\n",
       "      <td>0</td>\n",
       "      <td>1917</td>\n",
       "    </tr>\n",
       "    <tr>\n",
       "      <th>2</th>\n",
       "      <td>Atraso Tolerável</td>\n",
       "      <td>0</td>\n",
       "      <td>2134</td>\n",
       "    </tr>\n",
       "    <tr>\n",
       "      <th>3</th>\n",
       "      <td>Não Houve Atraso</td>\n",
       "      <td>1</td>\n",
       "      <td>6282</td>\n",
       "    </tr>\n",
       "  </tbody>\n",
       "</table>\n",
       "</div>"
      ],
      "text/plain": [
       "  performance_prioridade_envio  entregue_no_prazo  contagem\n",
       "0               Atraso Crítico                  0       310\n",
       "1          Atraso Problemático                  0      1917\n",
       "2             Atraso Tolerável                  0      2134\n",
       "3             Não Houve Atraso                  1      6282"
      ]
     },
     "execution_count": 113,
     "metadata": {},
     "output_type": "execute_result"
    }
   ],
   "source": [
    "# Ajustamos os nomes das colunas\n",
    "df_report1.columns = ['performance_prioridade_envio', 'entregue_no_prazo', 'contagem']\n",
    "df_report1.head()"
   ]
  },
  {
   "cell_type": "code",
   "execution_count": 114,
   "id": "df3e92ce",
   "metadata": {},
   "outputs": [
    {
     "data": {
      "text/html": [
       "<div>\n",
       "<style scoped>\n",
       "    .dataframe tbody tr th:only-of-type {\n",
       "        vertical-align: middle;\n",
       "    }\n",
       "\n",
       "    .dataframe tbody tr th {\n",
       "        vertical-align: top;\n",
       "    }\n",
       "\n",
       "    .dataframe thead th {\n",
       "        text-align: right;\n",
       "    }\n",
       "</style>\n",
       "<table border=\"1\" class=\"dataframe\">\n",
       "  <thead>\n",
       "    <tr style=\"text-align: right;\">\n",
       "      <th>entregue_no_prazo</th>\n",
       "      <th>performance_prioridade_envio</th>\n",
       "      <th>0</th>\n",
       "      <th>1</th>\n",
       "    </tr>\n",
       "  </thead>\n",
       "  <tbody>\n",
       "    <tr>\n",
       "      <th>0</th>\n",
       "      <td>Atraso Crítico</td>\n",
       "      <td>310.0</td>\n",
       "      <td>NaN</td>\n",
       "    </tr>\n",
       "    <tr>\n",
       "      <th>1</th>\n",
       "      <td>Atraso Problemático</td>\n",
       "      <td>1917.0</td>\n",
       "      <td>NaN</td>\n",
       "    </tr>\n",
       "    <tr>\n",
       "      <th>2</th>\n",
       "      <td>Atraso Tolerável</td>\n",
       "      <td>2134.0</td>\n",
       "      <td>NaN</td>\n",
       "    </tr>\n",
       "    <tr>\n",
       "      <th>3</th>\n",
       "      <td>Não Houve Atraso</td>\n",
       "      <td>NaN</td>\n",
       "      <td>6282.0</td>\n",
       "    </tr>\n",
       "  </tbody>\n",
       "</table>\n",
       "</div>"
      ],
      "text/plain": [
       "entregue_no_prazo performance_prioridade_envio       0       1\n",
       "0                               Atraso Crítico   310.0     NaN\n",
       "1                          Atraso Problemático  1917.0     NaN\n",
       "2                             Atraso Tolerável  2134.0     NaN\n",
       "3                             Não Houve Atraso     NaN  6282.0"
      ]
     },
     "execution_count": 114,
     "metadata": {},
     "output_type": "execute_result"
    }
   ],
   "source": [
    "# Pivot\n",
    "df_report1 = pd.pivot_table(df_report1,\n",
    "                             index = 'performance_prioridade_envio',\n",
    "                             columns = 'entregue_no_prazo',\n",
    "                             values = 'contagem').reset_index()\n",
    "df_report1.head()"
   ]
  },
  {
   "cell_type": "code",
   "execution_count": 115,
   "id": "30c44d9d",
   "metadata": {},
   "outputs": [
    {
     "data": {
      "text/html": [
       "<div>\n",
       "<style scoped>\n",
       "    .dataframe tbody tr th:only-of-type {\n",
       "        vertical-align: middle;\n",
       "    }\n",
       "\n",
       "    .dataframe tbody tr th {\n",
       "        vertical-align: top;\n",
       "    }\n",
       "\n",
       "    .dataframe thead th {\n",
       "        text-align: right;\n",
       "    }\n",
       "</style>\n",
       "<table border=\"1\" class=\"dataframe\">\n",
       "  <thead>\n",
       "    <tr style=\"text-align: right;\">\n",
       "      <th></th>\n",
       "      <th>Status do Envio</th>\n",
       "      <th>Total Atraso</th>\n",
       "      <th>Total no Prazo</th>\n",
       "    </tr>\n",
       "  </thead>\n",
       "  <tbody>\n",
       "    <tr>\n",
       "      <th>0</th>\n",
       "      <td>Atraso Crítico</td>\n",
       "      <td>310.0</td>\n",
       "      <td>NaN</td>\n",
       "    </tr>\n",
       "    <tr>\n",
       "      <th>1</th>\n",
       "      <td>Atraso Problemático</td>\n",
       "      <td>1917.0</td>\n",
       "      <td>NaN</td>\n",
       "    </tr>\n",
       "    <tr>\n",
       "      <th>2</th>\n",
       "      <td>Atraso Tolerável</td>\n",
       "      <td>2134.0</td>\n",
       "      <td>NaN</td>\n",
       "    </tr>\n",
       "    <tr>\n",
       "      <th>3</th>\n",
       "      <td>Não Houve Atraso</td>\n",
       "      <td>NaN</td>\n",
       "      <td>6282.0</td>\n",
       "    </tr>\n",
       "  </tbody>\n",
       "</table>\n",
       "</div>"
      ],
      "text/plain": [
       "       Status do Envio  Total Atraso  Total no Prazo\n",
       "0       Atraso Crítico         310.0             NaN\n",
       "1  Atraso Problemático        1917.0             NaN\n",
       "2     Atraso Tolerável        2134.0             NaN\n",
       "3     Não Houve Atraso           NaN          6282.0"
      ]
     },
     "execution_count": 115,
     "metadata": {},
     "output_type": "execute_result"
    }
   ],
   "source": [
    "# Novo ajuste nos nomes das colunas\n",
    "df_report1.columns = ['Status do Envio', 'Total Atraso', 'Total no Prazo']\n",
    "df_report1.head()"
   ]
  },
  {
   "cell_type": "code",
   "execution_count": 116,
   "id": "b5a227e0",
   "metadata": {},
   "outputs": [
    {
     "data": {
      "text/html": [
       "<div>\n",
       "<style scoped>\n",
       "    .dataframe tbody tr th:only-of-type {\n",
       "        vertical-align: middle;\n",
       "    }\n",
       "\n",
       "    .dataframe tbody tr th {\n",
       "        vertical-align: top;\n",
       "    }\n",
       "\n",
       "    .dataframe thead th {\n",
       "        text-align: right;\n",
       "    }\n",
       "</style>\n",
       "<table border=\"1\" class=\"dataframe\">\n",
       "  <thead>\n",
       "    <tr style=\"text-align: right;\">\n",
       "      <th></th>\n",
       "      <th>Status do Envio</th>\n",
       "      <th>Total Atraso</th>\n",
       "      <th>Total no Prazo</th>\n",
       "    </tr>\n",
       "  </thead>\n",
       "  <tbody>\n",
       "    <tr>\n",
       "      <th>0</th>\n",
       "      <td>Atraso Crítico</td>\n",
       "      <td>310.0</td>\n",
       "      <td>0.0</td>\n",
       "    </tr>\n",
       "    <tr>\n",
       "      <th>1</th>\n",
       "      <td>Atraso Problemático</td>\n",
       "      <td>1917.0</td>\n",
       "      <td>0.0</td>\n",
       "    </tr>\n",
       "    <tr>\n",
       "      <th>2</th>\n",
       "      <td>Atraso Tolerável</td>\n",
       "      <td>2134.0</td>\n",
       "      <td>0.0</td>\n",
       "    </tr>\n",
       "    <tr>\n",
       "      <th>3</th>\n",
       "      <td>Não Houve Atraso</td>\n",
       "      <td>0.0</td>\n",
       "      <td>6282.0</td>\n",
       "    </tr>\n",
       "  </tbody>\n",
       "</table>\n",
       "</div>"
      ],
      "text/plain": [
       "       Status do Envio  Total Atraso  Total no Prazo\n",
       "0       Atraso Crítico         310.0             0.0\n",
       "1  Atraso Problemático        1917.0             0.0\n",
       "2     Atraso Tolerável        2134.0             0.0\n",
       "3     Não Houve Atraso           0.0          6282.0"
      ]
     },
     "execution_count": 116,
     "metadata": {},
     "output_type": "execute_result"
    }
   ],
   "source": [
    "# Replace do valor nan por zero\n",
    "df_report1['Total Atraso'] = df_report1['Total Atraso'].replace(np.nan, 0)\n",
    "df_report1['Total no Prazo'] = df_report1['Total no Prazo'].replace(np.nan, 0)\n",
    "df_report1.head()"
   ]
  },
  {
   "cell_type": "code",
   "execution_count": 117,
   "id": "f2ab3366",
   "metadata": {},
   "outputs": [
    {
     "data": {
      "text/html": [
       "<div>\n",
       "<style scoped>\n",
       "    .dataframe tbody tr th:only-of-type {\n",
       "        vertical-align: middle;\n",
       "    }\n",
       "\n",
       "    .dataframe tbody tr th {\n",
       "        vertical-align: top;\n",
       "    }\n",
       "\n",
       "    .dataframe thead th {\n",
       "        text-align: right;\n",
       "    }\n",
       "</style>\n",
       "<table border=\"1\" class=\"dataframe\">\n",
       "  <thead>\n",
       "    <tr style=\"text-align: right;\">\n",
       "      <th></th>\n",
       "      <th>Status do Envio</th>\n",
       "      <th>Total Atraso</th>\n",
       "      <th>Total no Prazo</th>\n",
       "      <th>Total</th>\n",
       "    </tr>\n",
       "  </thead>\n",
       "  <tbody>\n",
       "    <tr>\n",
       "      <th>0</th>\n",
       "      <td>Atraso Crítico</td>\n",
       "      <td>310.0</td>\n",
       "      <td>0.0</td>\n",
       "      <td>310.0</td>\n",
       "    </tr>\n",
       "    <tr>\n",
       "      <th>1</th>\n",
       "      <td>Atraso Problemático</td>\n",
       "      <td>1917.0</td>\n",
       "      <td>0.0</td>\n",
       "      <td>1917.0</td>\n",
       "    </tr>\n",
       "    <tr>\n",
       "      <th>2</th>\n",
       "      <td>Atraso Tolerável</td>\n",
       "      <td>2134.0</td>\n",
       "      <td>0.0</td>\n",
       "      <td>2134.0</td>\n",
       "    </tr>\n",
       "    <tr>\n",
       "      <th>3</th>\n",
       "      <td>Não Houve Atraso</td>\n",
       "      <td>0.0</td>\n",
       "      <td>6282.0</td>\n",
       "      <td>6282.0</td>\n",
       "    </tr>\n",
       "  </tbody>\n",
       "</table>\n",
       "</div>"
      ],
      "text/plain": [
       "       Status do Envio  Total Atraso  Total no Prazo   Total\n",
       "0       Atraso Crítico         310.0             0.0   310.0\n",
       "1  Atraso Problemático        1917.0             0.0  1917.0\n",
       "2     Atraso Tolerável        2134.0             0.0  2134.0\n",
       "3     Não Houve Atraso           0.0          6282.0  6282.0"
      ]
     },
     "execution_count": 117,
     "metadata": {},
     "output_type": "execute_result"
    }
   ],
   "source": [
    "# Concatena colunas criando uma terceira variável\n",
    "df_report1[\"Total\"] = df_report1[\"Total Atraso\"] + df_report1[\"Total no Prazo\"]\n",
    "df_report1.head()"
   ]
  },
  {
   "cell_type": "code",
   "execution_count": 118,
   "id": "081a7ba2",
   "metadata": {},
   "outputs": [
    {
     "data": {
      "text/html": [
       "<div>\n",
       "<style scoped>\n",
       "    .dataframe tbody tr th:only-of-type {\n",
       "        vertical-align: middle;\n",
       "    }\n",
       "\n",
       "    .dataframe tbody tr th {\n",
       "        vertical-align: top;\n",
       "    }\n",
       "\n",
       "    .dataframe thead th {\n",
       "        text-align: right;\n",
       "    }\n",
       "</style>\n",
       "<table border=\"1\" class=\"dataframe\">\n",
       "  <thead>\n",
       "    <tr style=\"text-align: right;\">\n",
       "      <th></th>\n",
       "      <th>Status do Envio</th>\n",
       "      <th>Total</th>\n",
       "    </tr>\n",
       "  </thead>\n",
       "  <tbody>\n",
       "    <tr>\n",
       "      <th>0</th>\n",
       "      <td>Atraso Crítico</td>\n",
       "      <td>310.0</td>\n",
       "    </tr>\n",
       "    <tr>\n",
       "      <th>1</th>\n",
       "      <td>Atraso Problemático</td>\n",
       "      <td>1917.0</td>\n",
       "    </tr>\n",
       "    <tr>\n",
       "      <th>2</th>\n",
       "      <td>Atraso Tolerável</td>\n",
       "      <td>2134.0</td>\n",
       "    </tr>\n",
       "    <tr>\n",
       "      <th>3</th>\n",
       "      <td>Não Houve Atraso</td>\n",
       "      <td>6282.0</td>\n",
       "    </tr>\n",
       "  </tbody>\n",
       "</table>\n",
       "</div>"
      ],
      "text/plain": [
       "       Status do Envio   Total\n",
       "0       Atraso Crítico   310.0\n",
       "1  Atraso Problemático  1917.0\n",
       "2     Atraso Tolerável  2134.0\n",
       "3     Não Houve Atraso  6282.0"
      ]
     },
     "execution_count": 118,
     "metadata": {},
     "output_type": "execute_result"
    }
   ],
   "source": [
    "# Não precisamos mais das colunas usadas na concatenação. Vamos removê-las.\n",
    "df_report1.drop(df_report1.columns[[1, 2]], axis = 1, inplace = True)\n",
    "df_report1.head()"
   ]
  },
  {
   "cell_type": "code",
   "execution_count": 130,
   "id": "DxrsPztLHnlY",
   "metadata": {
    "colab": {
     "base_uri": "https://localhost:8080/",
     "height": 569
    },
    "executionInfo": {
     "elapsed": 14,
     "status": "ok",
     "timestamp": 1649555836724,
     "user": {
      "displayName": "Fajar Ariev",
      "userId": "18314973382710209713"
     },
     "user_tz": -420
    },
    "id": "DxrsPztLHnlY",
    "outputId": "18c69a2d-af48-4610-fb92-c2dc47df3589"
   },
   "outputs": [
    {
     "data": {
      "image/png": "[encoded data removed]",
      "text/plain": [
       "<Figure size 864x576 with 1 Axes>"
      ]
     },
     "metadata": {
      "needs_background": "light"
     },
     "output_type": "display_data"
    }
   ],
   "source": [
    "# Plot\n",
    "df_report1.set_index(\"Status do Envio\").plot(kind = 'bar', \n",
    "                title = 'Total de Envios dos Produtos Por Status',\n",
    "                ylabel = 'Total', \n",
    "                xlabel = '\\nStatus do Envio',\n",
    "                colormap = 'jet',\n",
    "                figsize=(12,8))\n",
    "plt.xticks(rotation = 0)\n",
    "plt.show()"
   ]
  },
  {
   "cell_type": "markdown",
   "id": "4fd0efaf",
   "metadata": {},
   "source": [
    "### 2- Performance de Envio do Produto Por Prioridade de Envio e Modo de Envio\n",
    "\n",
    "O modo de envio dos produtos associado à proridade de envio dos produtos, tem impacto no atraso dos produtos?\n",
    "\n",
    "Criaremos uma nova variável que representa a performance do envio do produto com base na seguinte regra de negócio:\n",
    "\n",
    "- Se a prioridade do produto era alta, o modo de envio era Navio e houve atraso no envio, o atraso é crítico por Navio.\n",
    "- Se a prioridade do produto era média, o modo de envio era Navio e houve atraso no envio, o atraso é problemático por Navio.\n",
    "- Se a prioridade do produto era baixa, o modo de envio era Navio e houve atraso no envio, o atraso é tolerável por Navio.\n",
    "- Se a prioridade do produto era alta, o modo de envio era Aviao e houve atraso no envio, o atraso é crítico por Aviao.\n",
    "- Se a prioridade do produto era média, o modo de envio era Aviao e houve atraso no envio, o atraso é problemático por Aviao.\n",
    "- Se a prioridade do produto era baixa, o modo de envio era Aviao e houve atraso no envio, o atraso é tolerável por Aviao.\n",
    "- Se a prioridade do produto era alta, o modo de envio era Caminhao e houve atraso no envio, o atraso é crítico por Caminhao.\n",
    "- Se a prioridade do produto era média, o modo de envio era Caminhao e houve atraso no envio, o atraso é problemático por Caminhao.\n",
    "- Se a prioridade do produto era baixa, o modo de envio era Caminhao e houve atraso no envio, o atraso é tolerável por Caminhao.\n",
    "- Outra opção significa que o envio foi feito no prazo e não apresenta problema."
   ]
  },
  {
   "cell_type": "code",
   "execution_count": 131,
   "id": "6cc22bb9",
   "metadata": {},
   "outputs": [
    {
     "data": {
      "text/plain": [
       "Index(['ID', 'corredor_armazem', 'modo_envio', 'numero_chamadas_cliente',\n",
       "       'avaliacao_cliente', 'custo_produto', 'compras_anteriores',\n",
       "       'prioridade_produto', 'genero', 'desconto', 'peso_gramas',\n",
       "       'entregue_no_prazo', 'performance_prioridade_envio'],\n",
       "      dtype='object')"
      ]
     },
     "execution_count": 131,
     "metadata": {},
     "output_type": "execute_result"
    }
   ],
   "source": [
    "df_eng.columns"
   ]
  },
  {
   "cell_type": "code",
   "execution_count": 133,
   "id": "9802ff57",
   "metadata": {},
   "outputs": [
    {
     "data": {
      "text/plain": [
       "Navio       7212\n",
       "Aviao       1728\n",
       "Caminhao    1703\n",
       "Name: modo_envio, dtype: int64"
      ]
     },
     "execution_count": 133,
     "metadata": {},
     "output_type": "execute_result"
    }
   ],
   "source": [
    "df_eng.modo_envio.value_counts()"
   ]
  },
  {
   "cell_type": "code",
   "execution_count": 134,
   "id": "5584c242",
   "metadata": {},
   "outputs": [],
   "source": [
    "# Solução\n",
    "df_eng['performance_modo_envio'] = np.where(\n",
    "        (df_eng['prioridade_produto'] == 'alta') & (df_eng['modo_envio'] == 'Navio') & (df_eng['entregue_no_prazo'] == 0), \"Atraso Crítico na Entrega Por Navio\", \n",
    "    np.where(\n",
    "        (df_eng['prioridade_produto'] == 'media') & (df_eng['modo_envio'] == 'Navio') & (df_eng['entregue_no_prazo'] == 0), \"Atraso Problemático na Entrega Por Navio\",\n",
    "    np.where(\n",
    "        (df_eng['prioridade_produto'] == 'baixa') & (df_eng['modo_envio'] == 'Navio') & (df_eng['entregue_no_prazo'] == 0), \"Atraso Tolerável na Entrega Por Navio\", \n",
    "    np.where(\n",
    "        (df_eng['prioridade_produto'] == 'alta') & (df_eng['modo_envio'] == 'Aviao') & (df_eng['entregue_no_prazo'] == 0), \"Atraso Crítico na Entrega Por Aviao\", \n",
    "    np.where(\n",
    "        (df_eng['prioridade_produto'] == 'media') & (df_eng['modo_envio'] == 'Aviao') & (df_eng['entregue_no_prazo'] == 0), \"Atraso Problemático na Entrega Por Aviao\",\n",
    "    np.where(\n",
    "        (df_eng['prioridade_produto'] == 'baixa') & (df_eng['modo_envio'] == 'Aviao') & (df_eng['entregue_no_prazo'] == 0), \"Atraso Tolerável na Entrega Por Aviao\", \n",
    "    np.where(\n",
    "        (df_eng['prioridade_produto'] == 'alta') & (df_eng['modo_envio'] == 'Caminhao') & (df_eng['entregue_no_prazo'] == 0), \"Atraso Crítico na Entrega Por Caminhao\", \n",
    "    np.where(\n",
    "        (df_eng['prioridade_produto'] == 'media') & (df_eng['modo_envio'] == 'Caminhao') & (df_eng['entregue_no_prazo'] == 0), \"Atraso Problemático na Entrega Por Caminhao\",\n",
    "    np.where(\n",
    "        (df_eng['prioridade_produto'] == 'baixa') & (df_eng['modo_envio'] == 'Caminhao') & (df_eng['entregue_no_prazo'] == 0), \"Atraso Tolerável na Entrega Por Caminhao\", \n",
    "    \"Não Houve Atraso\")))))))))"
   ]
  },
  {
   "cell_type": "code",
   "execution_count": 135,
   "id": "ae814a3a",
   "metadata": {},
   "outputs": [
    {
     "data": {
      "text/html": [
       "<div>\n",
       "<style scoped>\n",
       "    .dataframe tbody tr th:only-of-type {\n",
       "        vertical-align: middle;\n",
       "    }\n",
       "\n",
       "    .dataframe tbody tr th {\n",
       "        vertical-align: top;\n",
       "    }\n",
       "\n",
       "    .dataframe thead th {\n",
       "        text-align: right;\n",
       "    }\n",
       "</style>\n",
       "<table border=\"1\" class=\"dataframe\">\n",
       "  <thead>\n",
       "    <tr style=\"text-align: right;\">\n",
       "      <th></th>\n",
       "      <th>ID</th>\n",
       "      <th>corredor_armazem</th>\n",
       "      <th>modo_envio</th>\n",
       "      <th>numero_chamadas_cliente</th>\n",
       "      <th>avaliacao_cliente</th>\n",
       "      <th>custo_produto</th>\n",
       "      <th>compras_anteriores</th>\n",
       "      <th>prioridade_produto</th>\n",
       "      <th>genero</th>\n",
       "      <th>desconto</th>\n",
       "      <th>peso_gramas</th>\n",
       "      <th>entregue_no_prazo</th>\n",
       "      <th>performance_prioridade_envio</th>\n",
       "      <th>performance_modo_envio</th>\n",
       "    </tr>\n",
       "  </thead>\n",
       "  <tbody>\n",
       "    <tr>\n",
       "      <th>2895</th>\n",
       "      <td>2896</td>\n",
       "      <td>B</td>\n",
       "      <td>Navio</td>\n",
       "      <td>3</td>\n",
       "      <td>5</td>\n",
       "      <td>152</td>\n",
       "      <td>2</td>\n",
       "      <td>media</td>\n",
       "      <td>F</td>\n",
       "      <td>6</td>\n",
       "      <td>1800</td>\n",
       "      <td>1</td>\n",
       "      <td>Não Houve Atraso</td>\n",
       "      <td>Não Houve Atraso</td>\n",
       "    </tr>\n",
       "    <tr>\n",
       "      <th>8437</th>\n",
       "      <td>8438</td>\n",
       "      <td>F</td>\n",
       "      <td>Navio</td>\n",
       "      <td>5</td>\n",
       "      <td>1</td>\n",
       "      <td>267</td>\n",
       "      <td>4</td>\n",
       "      <td>baixa</td>\n",
       "      <td>M</td>\n",
       "      <td>5</td>\n",
       "      <td>5792</td>\n",
       "      <td>0</td>\n",
       "      <td>Atraso Tolerável</td>\n",
       "      <td>Atraso Tolerável na Entrega Por Navio</td>\n",
       "    </tr>\n",
       "    <tr>\n",
       "      <th>3296</th>\n",
       "      <td>3297</td>\n",
       "      <td>A</td>\n",
       "      <td>Aviao</td>\n",
       "      <td>5</td>\n",
       "      <td>4</td>\n",
       "      <td>233</td>\n",
       "      <td>2</td>\n",
       "      <td>baixa</td>\n",
       "      <td>F</td>\n",
       "      <td>7</td>\n",
       "      <td>4597</td>\n",
       "      <td>1</td>\n",
       "      <td>Não Houve Atraso</td>\n",
       "      <td>Não Houve Atraso</td>\n",
       "    </tr>\n",
       "    <tr>\n",
       "      <th>2536</th>\n",
       "      <td>2537</td>\n",
       "      <td>C</td>\n",
       "      <td>Navio</td>\n",
       "      <td>4</td>\n",
       "      <td>4</td>\n",
       "      <td>205</td>\n",
       "      <td>3</td>\n",
       "      <td>baixa</td>\n",
       "      <td>F</td>\n",
       "      <td>58</td>\n",
       "      <td>2522</td>\n",
       "      <td>1</td>\n",
       "      <td>Não Houve Atraso</td>\n",
       "      <td>Não Houve Atraso</td>\n",
       "    </tr>\n",
       "    <tr>\n",
       "      <th>964</th>\n",
       "      <td>965</td>\n",
       "      <td>C</td>\n",
       "      <td>Aviao</td>\n",
       "      <td>6</td>\n",
       "      <td>1</td>\n",
       "      <td>291</td>\n",
       "      <td>5</td>\n",
       "      <td>media</td>\n",
       "      <td>F</td>\n",
       "      <td>53</td>\n",
       "      <td>1682</td>\n",
       "      <td>1</td>\n",
       "      <td>Não Houve Atraso</td>\n",
       "      <td>Não Houve Atraso</td>\n",
       "    </tr>\n",
       "  </tbody>\n",
       "</table>\n",
       "</div>"
      ],
      "text/plain": [
       "        ID corredor_armazem modo_envio  numero_chamadas_cliente  \\\n",
       "2895  2896                B      Navio                        3   \n",
       "8437  8438                F      Navio                        5   \n",
       "3296  3297                A      Aviao                        5   \n",
       "2536  2537                C      Navio                        4   \n",
       "964    965                C      Aviao                        6   \n",
       "\n",
       "      avaliacao_cliente  custo_produto  compras_anteriores prioridade_produto  \\\n",
       "2895                  5            152                   2              media   \n",
       "8437                  1            267                   4              baixa   \n",
       "3296                  4            233                   2              baixa   \n",
       "2536                  4            205                   3              baixa   \n",
       "964                   1            291                   5              media   \n",
       "\n",
       "     genero  desconto  peso_gramas  entregue_no_prazo  \\\n",
       "2895      F         6         1800                  1   \n",
       "8437      M         5         5792                  0   \n",
       "3296      F         7         4597                  1   \n",
       "2536      F        58         2522                  1   \n",
       "964       F        53         1682                  1   \n",
       "\n",
       "     performance_prioridade_envio                 performance_modo_envio  \n",
       "2895             Não Houve Atraso                       Não Houve Atraso  \n",
       "8437             Atraso Tolerável  Atraso Tolerável na Entrega Por Navio  \n",
       "3296             Não Houve Atraso                       Não Houve Atraso  \n",
       "2536             Não Houve Atraso                       Não Houve Atraso  \n",
       "964              Não Houve Atraso                       Não Houve Atraso  "
      ]
     },
     "execution_count": 135,
     "metadata": {},
     "output_type": "execute_result"
    }
   ],
   "source": [
    "df_eng.sample(5)"
   ]
  },
  {
   "cell_type": "code",
   "execution_count": 136,
   "id": "63374f92",
   "metadata": {},
   "outputs": [
    {
     "data": {
      "text/plain": [
       "Não Houve Atraso                               6282\n",
       "Atraso Tolerável na Entrega Por Navio          1453\n",
       "Atraso Problemático na Entrega Por Navio       1307\n",
       "Atraso Tolerável na Entrega Por Caminhao        350\n",
       "Atraso Tolerável na Entrega Por Aviao           331\n",
       "Atraso Problemático na Entrega Por Caminhao     310\n",
       "Atraso Problemático na Entrega Por Aviao        300\n",
       "Atraso Crítico na Entrega Por Navio             194\n",
       "Atraso Crítico na Entrega Por Aviao              65\n",
       "Atraso Crítico na Entrega Por Caminhao           51\n",
       "Name: performance_modo_envio, dtype: int64"
      ]
     },
     "execution_count": 136,
     "metadata": {},
     "output_type": "execute_result"
    }
   ],
   "source": [
    "df_eng.performance_modo_envio.value_counts()"
   ]
  },
  {
   "cell_type": "code",
   "execution_count": 137,
   "id": "ac443456",
   "metadata": {},
   "outputs": [
    {
     "data": {
      "text/html": [
       "<div>\n",
       "<style scoped>\n",
       "    .dataframe tbody tr th:only-of-type {\n",
       "        vertical-align: middle;\n",
       "    }\n",
       "\n",
       "    .dataframe tbody tr th {\n",
       "        vertical-align: top;\n",
       "    }\n",
       "\n",
       "    .dataframe thead tr th {\n",
       "        text-align: left;\n",
       "    }\n",
       "</style>\n",
       "<table border=\"1\" class=\"dataframe\">\n",
       "  <thead>\n",
       "    <tr>\n",
       "      <th></th>\n",
       "      <th>performance_modo_envio</th>\n",
       "      <th>entregue_no_prazo</th>\n",
       "      <th>prioridade_produto</th>\n",
       "    </tr>\n",
       "    <tr>\n",
       "      <th></th>\n",
       "      <th></th>\n",
       "      <th></th>\n",
       "      <th>count</th>\n",
       "    </tr>\n",
       "  </thead>\n",
       "  <tbody>\n",
       "    <tr>\n",
       "      <th>0</th>\n",
       "      <td>Atraso Crítico na Entrega Por Aviao</td>\n",
       "      <td>0</td>\n",
       "      <td>65</td>\n",
       "    </tr>\n",
       "    <tr>\n",
       "      <th>1</th>\n",
       "      <td>Atraso Crítico na Entrega Por Caminhao</td>\n",
       "      <td>0</td>\n",
       "      <td>51</td>\n",
       "    </tr>\n",
       "    <tr>\n",
       "      <th>2</th>\n",
       "      <td>Atraso Crítico na Entrega Por Navio</td>\n",
       "      <td>0</td>\n",
       "      <td>194</td>\n",
       "    </tr>\n",
       "    <tr>\n",
       "      <th>3</th>\n",
       "      <td>Atraso Problemático na Entrega Por Aviao</td>\n",
       "      <td>0</td>\n",
       "      <td>300</td>\n",
       "    </tr>\n",
       "    <tr>\n",
       "      <th>4</th>\n",
       "      <td>Atraso Problemático na Entrega Por Caminhao</td>\n",
       "      <td>0</td>\n",
       "      <td>310</td>\n",
       "    </tr>\n",
       "    <tr>\n",
       "      <th>5</th>\n",
       "      <td>Atraso Problemático na Entrega Por Navio</td>\n",
       "      <td>0</td>\n",
       "      <td>1307</td>\n",
       "    </tr>\n",
       "    <tr>\n",
       "      <th>6</th>\n",
       "      <td>Atraso Tolerável na Entrega Por Aviao</td>\n",
       "      <td>0</td>\n",
       "      <td>331</td>\n",
       "    </tr>\n",
       "    <tr>\n",
       "      <th>7</th>\n",
       "      <td>Atraso Tolerável na Entrega Por Caminhao</td>\n",
       "      <td>0</td>\n",
       "      <td>350</td>\n",
       "    </tr>\n",
       "    <tr>\n",
       "      <th>8</th>\n",
       "      <td>Atraso Tolerável na Entrega Por Navio</td>\n",
       "      <td>0</td>\n",
       "      <td>1453</td>\n",
       "    </tr>\n",
       "    <tr>\n",
       "      <th>9</th>\n",
       "      <td>Não Houve Atraso</td>\n",
       "      <td>1</td>\n",
       "      <td>6282</td>\n",
       "    </tr>\n",
       "  </tbody>\n",
       "</table>\n",
       "</div>"
      ],
      "text/plain": [
       "                        performance_modo_envio entregue_no_prazo  \\\n",
       "                                                                   \n",
       "0          Atraso Crítico na Entrega Por Aviao                 0   \n",
       "1       Atraso Crítico na Entrega Por Caminhao                 0   \n",
       "2          Atraso Crítico na Entrega Por Navio                 0   \n",
       "3     Atraso Problemático na Entrega Por Aviao                 0   \n",
       "4  Atraso Problemático na Entrega Por Caminhao                 0   \n",
       "5     Atraso Problemático na Entrega Por Navio                 0   \n",
       "6        Atraso Tolerável na Entrega Por Aviao                 0   \n",
       "7     Atraso Tolerável na Entrega Por Caminhao                 0   \n",
       "8        Atraso Tolerável na Entrega Por Navio                 0   \n",
       "9                             Não Houve Atraso                 1   \n",
       "\n",
       "  prioridade_produto  \n",
       "               count  \n",
       "0                 65  \n",
       "1                 51  \n",
       "2                194  \n",
       "3                300  \n",
       "4                310  \n",
       "5               1307  \n",
       "6                331  \n",
       "7                350  \n",
       "8               1453  \n",
       "9               6282  "
      ]
     },
     "execution_count": 137,
     "metadata": {},
     "output_type": "execute_result"
    }
   ],
   "source": [
    "# Agrupamos os dados para análise\n",
    "df_report2 = df_eng.groupby(['performance_modo_envio', \n",
    "                             'entregue_no_prazo']).agg({'prioridade_produto': ['count']}).reset_index()\n",
    "df_report2.head(10)"
   ]
  },
  {
   "cell_type": "code",
   "execution_count": 138,
   "id": "74a1efe0",
   "metadata": {},
   "outputs": [
    {
     "data": {
      "text/html": [
       "<div>\n",
       "<style scoped>\n",
       "    .dataframe tbody tr th:only-of-type {\n",
       "        vertical-align: middle;\n",
       "    }\n",
       "\n",
       "    .dataframe tbody tr th {\n",
       "        vertical-align: top;\n",
       "    }\n",
       "\n",
       "    .dataframe thead th {\n",
       "        text-align: right;\n",
       "    }\n",
       "</style>\n",
       "<table border=\"1\" class=\"dataframe\">\n",
       "  <thead>\n",
       "    <tr style=\"text-align: right;\">\n",
       "      <th></th>\n",
       "      <th>performance_modo_envio</th>\n",
       "      <th>entregue_no_prazo</th>\n",
       "      <th>contagem</th>\n",
       "    </tr>\n",
       "  </thead>\n",
       "  <tbody>\n",
       "    <tr>\n",
       "      <th>0</th>\n",
       "      <td>Atraso Crítico na Entrega Por Aviao</td>\n",
       "      <td>0</td>\n",
       "      <td>65</td>\n",
       "    </tr>\n",
       "    <tr>\n",
       "      <th>1</th>\n",
       "      <td>Atraso Crítico na Entrega Por Caminhao</td>\n",
       "      <td>0</td>\n",
       "      <td>51</td>\n",
       "    </tr>\n",
       "    <tr>\n",
       "      <th>2</th>\n",
       "      <td>Atraso Crítico na Entrega Por Navio</td>\n",
       "      <td>0</td>\n",
       "      <td>194</td>\n",
       "    </tr>\n",
       "    <tr>\n",
       "      <th>3</th>\n",
       "      <td>Atraso Problemático na Entrega Por Aviao</td>\n",
       "      <td>0</td>\n",
       "      <td>300</td>\n",
       "    </tr>\n",
       "    <tr>\n",
       "      <th>4</th>\n",
       "      <td>Atraso Problemático na Entrega Por Caminhao</td>\n",
       "      <td>0</td>\n",
       "      <td>310</td>\n",
       "    </tr>\n",
       "    <tr>\n",
       "      <th>5</th>\n",
       "      <td>Atraso Problemático na Entrega Por Navio</td>\n",
       "      <td>0</td>\n",
       "      <td>1307</td>\n",
       "    </tr>\n",
       "    <tr>\n",
       "      <th>6</th>\n",
       "      <td>Atraso Tolerável na Entrega Por Aviao</td>\n",
       "      <td>0</td>\n",
       "      <td>331</td>\n",
       "    </tr>\n",
       "    <tr>\n",
       "      <th>7</th>\n",
       "      <td>Atraso Tolerável na Entrega Por Caminhao</td>\n",
       "      <td>0</td>\n",
       "      <td>350</td>\n",
       "    </tr>\n",
       "    <tr>\n",
       "      <th>8</th>\n",
       "      <td>Atraso Tolerável na Entrega Por Navio</td>\n",
       "      <td>0</td>\n",
       "      <td>1453</td>\n",
       "    </tr>\n",
       "    <tr>\n",
       "      <th>9</th>\n",
       "      <td>Não Houve Atraso</td>\n",
       "      <td>1</td>\n",
       "      <td>6282</td>\n",
       "    </tr>\n",
       "  </tbody>\n",
       "</table>\n",
       "</div>"
      ],
      "text/plain": [
       "                        performance_modo_envio  entregue_no_prazo  contagem\n",
       "0          Atraso Crítico na Entrega Por Aviao                  0        65\n",
       "1       Atraso Crítico na Entrega Por Caminhao                  0        51\n",
       "2          Atraso Crítico na Entrega Por Navio                  0       194\n",
       "3     Atraso Problemático na Entrega Por Aviao                  0       300\n",
       "4  Atraso Problemático na Entrega Por Caminhao                  0       310\n",
       "5     Atraso Problemático na Entrega Por Navio                  0      1307\n",
       "6        Atraso Tolerável na Entrega Por Aviao                  0       331\n",
       "7     Atraso Tolerável na Entrega Por Caminhao                  0       350\n",
       "8        Atraso Tolerável na Entrega Por Navio                  0      1453\n",
       "9                             Não Houve Atraso                  1      6282"
      ]
     },
     "execution_count": 138,
     "metadata": {},
     "output_type": "execute_result"
    }
   ],
   "source": [
    "df_report2.columns = ['performance_modo_envio', 'entregue_no_prazo', 'contagem']\n",
    "df_report2.head(10)"
   ]
  },
  {
   "cell_type": "code",
   "execution_count": 139,
   "id": "315beb12",
   "metadata": {},
   "outputs": [
    {
     "data": {
      "text/html": [
       "<div>\n",
       "<style scoped>\n",
       "    .dataframe tbody tr th:only-of-type {\n",
       "        vertical-align: middle;\n",
       "    }\n",
       "\n",
       "    .dataframe tbody tr th {\n",
       "        vertical-align: top;\n",
       "    }\n",
       "\n",
       "    .dataframe thead th {\n",
       "        text-align: right;\n",
       "    }\n",
       "</style>\n",
       "<table border=\"1\" class=\"dataframe\">\n",
       "  <thead>\n",
       "    <tr style=\"text-align: right;\">\n",
       "      <th>entregue_no_prazo</th>\n",
       "      <th>performance_modo_envio</th>\n",
       "      <th>0</th>\n",
       "      <th>1</th>\n",
       "    </tr>\n",
       "  </thead>\n",
       "  <tbody>\n",
       "    <tr>\n",
       "      <th>0</th>\n",
       "      <td>Atraso Crítico na Entrega Por Aviao</td>\n",
       "      <td>65.0</td>\n",
       "      <td>NaN</td>\n",
       "    </tr>\n",
       "    <tr>\n",
       "      <th>1</th>\n",
       "      <td>Atraso Crítico na Entrega Por Caminhao</td>\n",
       "      <td>51.0</td>\n",
       "      <td>NaN</td>\n",
       "    </tr>\n",
       "    <tr>\n",
       "      <th>2</th>\n",
       "      <td>Atraso Crítico na Entrega Por Navio</td>\n",
       "      <td>194.0</td>\n",
       "      <td>NaN</td>\n",
       "    </tr>\n",
       "    <tr>\n",
       "      <th>3</th>\n",
       "      <td>Atraso Problemático na Entrega Por Aviao</td>\n",
       "      <td>300.0</td>\n",
       "      <td>NaN</td>\n",
       "    </tr>\n",
       "    <tr>\n",
       "      <th>4</th>\n",
       "      <td>Atraso Problemático na Entrega Por Caminhao</td>\n",
       "      <td>310.0</td>\n",
       "      <td>NaN</td>\n",
       "    </tr>\n",
       "    <tr>\n",
       "      <th>5</th>\n",
       "      <td>Atraso Problemático na Entrega Por Navio</td>\n",
       "      <td>1307.0</td>\n",
       "      <td>NaN</td>\n",
       "    </tr>\n",
       "    <tr>\n",
       "      <th>6</th>\n",
       "      <td>Atraso Tolerável na Entrega Por Aviao</td>\n",
       "      <td>331.0</td>\n",
       "      <td>NaN</td>\n",
       "    </tr>\n",
       "    <tr>\n",
       "      <th>7</th>\n",
       "      <td>Atraso Tolerável na Entrega Por Caminhao</td>\n",
       "      <td>350.0</td>\n",
       "      <td>NaN</td>\n",
       "    </tr>\n",
       "    <tr>\n",
       "      <th>8</th>\n",
       "      <td>Atraso Tolerável na Entrega Por Navio</td>\n",
       "      <td>1453.0</td>\n",
       "      <td>NaN</td>\n",
       "    </tr>\n",
       "    <tr>\n",
       "      <th>9</th>\n",
       "      <td>Não Houve Atraso</td>\n",
       "      <td>NaN</td>\n",
       "      <td>6282.0</td>\n",
       "    </tr>\n",
       "  </tbody>\n",
       "</table>\n",
       "</div>"
      ],
      "text/plain": [
       "entregue_no_prazo                       performance_modo_envio       0       1\n",
       "0                          Atraso Crítico na Entrega Por Aviao    65.0     NaN\n",
       "1                       Atraso Crítico na Entrega Por Caminhao    51.0     NaN\n",
       "2                          Atraso Crítico na Entrega Por Navio   194.0     NaN\n",
       "3                     Atraso Problemático na Entrega Por Aviao   300.0     NaN\n",
       "4                  Atraso Problemático na Entrega Por Caminhao   310.0     NaN\n",
       "5                     Atraso Problemático na Entrega Por Navio  1307.0     NaN\n",
       "6                        Atraso Tolerável na Entrega Por Aviao   331.0     NaN\n",
       "7                     Atraso Tolerável na Entrega Por Caminhao   350.0     NaN\n",
       "8                        Atraso Tolerável na Entrega Por Navio  1453.0     NaN\n",
       "9                                             Não Houve Atraso     NaN  6282.0"
      ]
     },
     "execution_count": 139,
     "metadata": {},
     "output_type": "execute_result"
    }
   ],
   "source": [
    "# Pivot\n",
    "df_report2 = pd.pivot_table(df_report2,\n",
    "                            index = 'performance_modo_envio',\n",
    "                            columns = 'entregue_no_prazo',\n",
    "                            values = 'contagem').reset_index()\n",
    "df_report2.head(10)"
   ]
  },
  {
   "cell_type": "code",
   "execution_count": 140,
   "id": "ff88ac2f",
   "metadata": {},
   "outputs": [
    {
     "data": {
      "text/html": [
       "<div>\n",
       "<style scoped>\n",
       "    .dataframe tbody tr th:only-of-type {\n",
       "        vertical-align: middle;\n",
       "    }\n",
       "\n",
       "    .dataframe tbody tr th {\n",
       "        vertical-align: top;\n",
       "    }\n",
       "\n",
       "    .dataframe thead th {\n",
       "        text-align: right;\n",
       "    }\n",
       "</style>\n",
       "<table border=\"1\" class=\"dataframe\">\n",
       "  <thead>\n",
       "    <tr style=\"text-align: right;\">\n",
       "      <th></th>\n",
       "      <th>Status do Envio</th>\n",
       "      <th>Total Atraso</th>\n",
       "      <th>Total no Prazo</th>\n",
       "    </tr>\n",
       "  </thead>\n",
       "  <tbody>\n",
       "    <tr>\n",
       "      <th>0</th>\n",
       "      <td>Atraso Crítico na Entrega Por Aviao</td>\n",
       "      <td>65.0</td>\n",
       "      <td>NaN</td>\n",
       "    </tr>\n",
       "    <tr>\n",
       "      <th>1</th>\n",
       "      <td>Atraso Crítico na Entrega Por Caminhao</td>\n",
       "      <td>51.0</td>\n",
       "      <td>NaN</td>\n",
       "    </tr>\n",
       "    <tr>\n",
       "      <th>2</th>\n",
       "      <td>Atraso Crítico na Entrega Por Navio</td>\n",
       "      <td>194.0</td>\n",
       "      <td>NaN</td>\n",
       "    </tr>\n",
       "    <tr>\n",
       "      <th>3</th>\n",
       "      <td>Atraso Problemático na Entrega Por Aviao</td>\n",
       "      <td>300.0</td>\n",
       "      <td>NaN</td>\n",
       "    </tr>\n",
       "    <tr>\n",
       "      <th>4</th>\n",
       "      <td>Atraso Problemático na Entrega Por Caminhao</td>\n",
       "      <td>310.0</td>\n",
       "      <td>NaN</td>\n",
       "    </tr>\n",
       "    <tr>\n",
       "      <th>5</th>\n",
       "      <td>Atraso Problemático na Entrega Por Navio</td>\n",
       "      <td>1307.0</td>\n",
       "      <td>NaN</td>\n",
       "    </tr>\n",
       "    <tr>\n",
       "      <th>6</th>\n",
       "      <td>Atraso Tolerável na Entrega Por Aviao</td>\n",
       "      <td>331.0</td>\n",
       "      <td>NaN</td>\n",
       "    </tr>\n",
       "    <tr>\n",
       "      <th>7</th>\n",
       "      <td>Atraso Tolerável na Entrega Por Caminhao</td>\n",
       "      <td>350.0</td>\n",
       "      <td>NaN</td>\n",
       "    </tr>\n",
       "    <tr>\n",
       "      <th>8</th>\n",
       "      <td>Atraso Tolerável na Entrega Por Navio</td>\n",
       "      <td>1453.0</td>\n",
       "      <td>NaN</td>\n",
       "    </tr>\n",
       "    <tr>\n",
       "      <th>9</th>\n",
       "      <td>Não Houve Atraso</td>\n",
       "      <td>NaN</td>\n",
       "      <td>6282.0</td>\n",
       "    </tr>\n",
       "  </tbody>\n",
       "</table>\n",
       "</div>"
      ],
      "text/plain": [
       "                               Status do Envio  Total Atraso  Total no Prazo\n",
       "0          Atraso Crítico na Entrega Por Aviao          65.0             NaN\n",
       "1       Atraso Crítico na Entrega Por Caminhao          51.0             NaN\n",
       "2          Atraso Crítico na Entrega Por Navio         194.0             NaN\n",
       "3     Atraso Problemático na Entrega Por Aviao         300.0             NaN\n",
       "4  Atraso Problemático na Entrega Por Caminhao         310.0             NaN\n",
       "5     Atraso Problemático na Entrega Por Navio        1307.0             NaN\n",
       "6        Atraso Tolerável na Entrega Por Aviao         331.0             NaN\n",
       "7     Atraso Tolerável na Entrega Por Caminhao         350.0             NaN\n",
       "8        Atraso Tolerável na Entrega Por Navio        1453.0             NaN\n",
       "9                             Não Houve Atraso           NaN          6282.0"
      ]
     },
     "execution_count": 140,
     "metadata": {},
     "output_type": "execute_result"
    }
   ],
   "source": [
    "df_report2.columns = ['Status do Envio', 'Total Atraso', 'Total no Prazo']\n",
    "df_report2.head(10)"
   ]
  },
  {
   "cell_type": "code",
   "execution_count": 141,
   "id": "e9eeb7ca",
   "metadata": {},
   "outputs": [
    {
     "data": {
      "text/html": [
       "<div>\n",
       "<style scoped>\n",
       "    .dataframe tbody tr th:only-of-type {\n",
       "        vertical-align: middle;\n",
       "    }\n",
       "\n",
       "    .dataframe tbody tr th {\n",
       "        vertical-align: top;\n",
       "    }\n",
       "\n",
       "    .dataframe thead th {\n",
       "        text-align: right;\n",
       "    }\n",
       "</style>\n",
       "<table border=\"1\" class=\"dataframe\">\n",
       "  <thead>\n",
       "    <tr style=\"text-align: right;\">\n",
       "      <th></th>\n",
       "      <th>Status do Envio</th>\n",
       "      <th>Total Atraso</th>\n",
       "      <th>Total no Prazo</th>\n",
       "    </tr>\n",
       "  </thead>\n",
       "  <tbody>\n",
       "    <tr>\n",
       "      <th>0</th>\n",
       "      <td>Atraso Crítico na Entrega Por Aviao</td>\n",
       "      <td>65.0</td>\n",
       "      <td>0.0</td>\n",
       "    </tr>\n",
       "    <tr>\n",
       "      <th>1</th>\n",
       "      <td>Atraso Crítico na Entrega Por Caminhao</td>\n",
       "      <td>51.0</td>\n",
       "      <td>0.0</td>\n",
       "    </tr>\n",
       "    <tr>\n",
       "      <th>2</th>\n",
       "      <td>Atraso Crítico na Entrega Por Navio</td>\n",
       "      <td>194.0</td>\n",
       "      <td>0.0</td>\n",
       "    </tr>\n",
       "    <tr>\n",
       "      <th>3</th>\n",
       "      <td>Atraso Problemático na Entrega Por Aviao</td>\n",
       "      <td>300.0</td>\n",
       "      <td>0.0</td>\n",
       "    </tr>\n",
       "    <tr>\n",
       "      <th>4</th>\n",
       "      <td>Atraso Problemático na Entrega Por Caminhao</td>\n",
       "      <td>310.0</td>\n",
       "      <td>0.0</td>\n",
       "    </tr>\n",
       "    <tr>\n",
       "      <th>5</th>\n",
       "      <td>Atraso Problemático na Entrega Por Navio</td>\n",
       "      <td>1307.0</td>\n",
       "      <td>0.0</td>\n",
       "    </tr>\n",
       "    <tr>\n",
       "      <th>6</th>\n",
       "      <td>Atraso Tolerável na Entrega Por Aviao</td>\n",
       "      <td>331.0</td>\n",
       "      <td>0.0</td>\n",
       "    </tr>\n",
       "    <tr>\n",
       "      <th>7</th>\n",
       "      <td>Atraso Tolerável na Entrega Por Caminhao</td>\n",
       "      <td>350.0</td>\n",
       "      <td>0.0</td>\n",
       "    </tr>\n",
       "    <tr>\n",
       "      <th>8</th>\n",
       "      <td>Atraso Tolerável na Entrega Por Navio</td>\n",
       "      <td>1453.0</td>\n",
       "      <td>0.0</td>\n",
       "    </tr>\n",
       "    <tr>\n",
       "      <th>9</th>\n",
       "      <td>Não Houve Atraso</td>\n",
       "      <td>0.0</td>\n",
       "      <td>6282.0</td>\n",
       "    </tr>\n",
       "  </tbody>\n",
       "</table>\n",
       "</div>"
      ],
      "text/plain": [
       "                               Status do Envio  Total Atraso  Total no Prazo\n",
       "0          Atraso Crítico na Entrega Por Aviao          65.0             0.0\n",
       "1       Atraso Crítico na Entrega Por Caminhao          51.0             0.0\n",
       "2          Atraso Crítico na Entrega Por Navio         194.0             0.0\n",
       "3     Atraso Problemático na Entrega Por Aviao         300.0             0.0\n",
       "4  Atraso Problemático na Entrega Por Caminhao         310.0             0.0\n",
       "5     Atraso Problemático na Entrega Por Navio        1307.0             0.0\n",
       "6        Atraso Tolerável na Entrega Por Aviao         331.0             0.0\n",
       "7     Atraso Tolerável na Entrega Por Caminhao         350.0             0.0\n",
       "8        Atraso Tolerável na Entrega Por Navio        1453.0             0.0\n",
       "9                             Não Houve Atraso           0.0          6282.0"
      ]
     },
     "execution_count": 141,
     "metadata": {},
     "output_type": "execute_result"
    }
   ],
   "source": [
    "# Replace do valor nan por zero\n",
    "df_report2['Total Atraso'] = df_report2['Total Atraso'].replace(np.nan, 0)\n",
    "df_report2['Total no Prazo'] = df_report2['Total no Prazo'].replace(np.nan, 0)\n",
    "df_report2.head(10)"
   ]
  },
  {
   "cell_type": "code",
   "execution_count": 142,
   "id": "e9edb496",
   "metadata": {},
   "outputs": [
    {
     "data": {
      "text/html": [
       "<div>\n",
       "<style scoped>\n",
       "    .dataframe tbody tr th:only-of-type {\n",
       "        vertical-align: middle;\n",
       "    }\n",
       "\n",
       "    .dataframe tbody tr th {\n",
       "        vertical-align: top;\n",
       "    }\n",
       "\n",
       "    .dataframe thead th {\n",
       "        text-align: right;\n",
       "    }\n",
       "</style>\n",
       "<table border=\"1\" class=\"dataframe\">\n",
       "  <thead>\n",
       "    <tr style=\"text-align: right;\">\n",
       "      <th></th>\n",
       "      <th>Status do Envio</th>\n",
       "      <th>Total Atraso</th>\n",
       "      <th>Total no Prazo</th>\n",
       "      <th>Total</th>\n",
       "    </tr>\n",
       "  </thead>\n",
       "  <tbody>\n",
       "    <tr>\n",
       "      <th>0</th>\n",
       "      <td>Atraso Crítico na Entrega Por Aviao</td>\n",
       "      <td>65.0</td>\n",
       "      <td>0.0</td>\n",
       "      <td>65.0</td>\n",
       "    </tr>\n",
       "    <tr>\n",
       "      <th>1</th>\n",
       "      <td>Atraso Crítico na Entrega Por Caminhao</td>\n",
       "      <td>51.0</td>\n",
       "      <td>0.0</td>\n",
       "      <td>51.0</td>\n",
       "    </tr>\n",
       "    <tr>\n",
       "      <th>2</th>\n",
       "      <td>Atraso Crítico na Entrega Por Navio</td>\n",
       "      <td>194.0</td>\n",
       "      <td>0.0</td>\n",
       "      <td>194.0</td>\n",
       "    </tr>\n",
       "    <tr>\n",
       "      <th>3</th>\n",
       "      <td>Atraso Problemático na Entrega Por Aviao</td>\n",
       "      <td>300.0</td>\n",
       "      <td>0.0</td>\n",
       "      <td>300.0</td>\n",
       "    </tr>\n",
       "    <tr>\n",
       "      <th>4</th>\n",
       "      <td>Atraso Problemático na Entrega Por Caminhao</td>\n",
       "      <td>310.0</td>\n",
       "      <td>0.0</td>\n",
       "      <td>310.0</td>\n",
       "    </tr>\n",
       "    <tr>\n",
       "      <th>5</th>\n",
       "      <td>Atraso Problemático na Entrega Por Navio</td>\n",
       "      <td>1307.0</td>\n",
       "      <td>0.0</td>\n",
       "      <td>1307.0</td>\n",
       "    </tr>\n",
       "    <tr>\n",
       "      <th>6</th>\n",
       "      <td>Atraso Tolerável na Entrega Por Aviao</td>\n",
       "      <td>331.0</td>\n",
       "      <td>0.0</td>\n",
       "      <td>331.0</td>\n",
       "    </tr>\n",
       "    <tr>\n",
       "      <th>7</th>\n",
       "      <td>Atraso Tolerável na Entrega Por Caminhao</td>\n",
       "      <td>350.0</td>\n",
       "      <td>0.0</td>\n",
       "      <td>350.0</td>\n",
       "    </tr>\n",
       "    <tr>\n",
       "      <th>8</th>\n",
       "      <td>Atraso Tolerável na Entrega Por Navio</td>\n",
       "      <td>1453.0</td>\n",
       "      <td>0.0</td>\n",
       "      <td>1453.0</td>\n",
       "    </tr>\n",
       "    <tr>\n",
       "      <th>9</th>\n",
       "      <td>Não Houve Atraso</td>\n",
       "      <td>0.0</td>\n",
       "      <td>6282.0</td>\n",
       "      <td>6282.0</td>\n",
       "    </tr>\n",
       "  </tbody>\n",
       "</table>\n",
       "</div>"
      ],
      "text/plain": [
       "                               Status do Envio  Total Atraso  Total no Prazo  \\\n",
       "0          Atraso Crítico na Entrega Por Aviao          65.0             0.0   \n",
       "1       Atraso Crítico na Entrega Por Caminhao          51.0             0.0   \n",
       "2          Atraso Crítico na Entrega Por Navio         194.0             0.0   \n",
       "3     Atraso Problemático na Entrega Por Aviao         300.0             0.0   \n",
       "4  Atraso Problemático na Entrega Por Caminhao         310.0             0.0   \n",
       "5     Atraso Problemático na Entrega Por Navio        1307.0             0.0   \n",
       "6        Atraso Tolerável na Entrega Por Aviao         331.0             0.0   \n",
       "7     Atraso Tolerável na Entrega Por Caminhao         350.0             0.0   \n",
       "8        Atraso Tolerável na Entrega Por Navio        1453.0             0.0   \n",
       "9                             Não Houve Atraso           0.0          6282.0   \n",
       "\n",
       "    Total  \n",
       "0    65.0  \n",
       "1    51.0  \n",
       "2   194.0  \n",
       "3   300.0  \n",
       "4   310.0  \n",
       "5  1307.0  \n",
       "6   331.0  \n",
       "7   350.0  \n",
       "8  1453.0  \n",
       "9  6282.0  "
      ]
     },
     "execution_count": 142,
     "metadata": {},
     "output_type": "execute_result"
    }
   ],
   "source": [
    "# Concatena colunas criando uma terceira variável\n",
    "df_report2[\"Total\"] = df_report2[\"Total Atraso\"] + df_report2[\"Total no Prazo\"]\n",
    "df_report2.head(10)"
   ]
  },
  {
   "cell_type": "code",
   "execution_count": 143,
   "id": "ed2e904c",
   "metadata": {},
   "outputs": [
    {
     "data": {
      "text/html": [
       "<div>\n",
       "<style scoped>\n",
       "    .dataframe tbody tr th:only-of-type {\n",
       "        vertical-align: middle;\n",
       "    }\n",
       "\n",
       "    .dataframe tbody tr th {\n",
       "        vertical-align: top;\n",
       "    }\n",
       "\n",
       "    .dataframe thead th {\n",
       "        text-align: right;\n",
       "    }\n",
       "</style>\n",
       "<table border=\"1\" class=\"dataframe\">\n",
       "  <thead>\n",
       "    <tr style=\"text-align: right;\">\n",
       "      <th></th>\n",
       "      <th>Status do Envio</th>\n",
       "      <th>Total</th>\n",
       "    </tr>\n",
       "  </thead>\n",
       "  <tbody>\n",
       "    <tr>\n",
       "      <th>0</th>\n",
       "      <td>Atraso Crítico na Entrega Por Aviao</td>\n",
       "      <td>65.0</td>\n",
       "    </tr>\n",
       "    <tr>\n",
       "      <th>1</th>\n",
       "      <td>Atraso Crítico na Entrega Por Caminhao</td>\n",
       "      <td>51.0</td>\n",
       "    </tr>\n",
       "    <tr>\n",
       "      <th>2</th>\n",
       "      <td>Atraso Crítico na Entrega Por Navio</td>\n",
       "      <td>194.0</td>\n",
       "    </tr>\n",
       "    <tr>\n",
       "      <th>3</th>\n",
       "      <td>Atraso Problemático na Entrega Por Aviao</td>\n",
       "      <td>300.0</td>\n",
       "    </tr>\n",
       "    <tr>\n",
       "      <th>4</th>\n",
       "      <td>Atraso Problemático na Entrega Por Caminhao</td>\n",
       "      <td>310.0</td>\n",
       "    </tr>\n",
       "    <tr>\n",
       "      <th>5</th>\n",
       "      <td>Atraso Problemático na Entrega Por Navio</td>\n",
       "      <td>1307.0</td>\n",
       "    </tr>\n",
       "    <tr>\n",
       "      <th>6</th>\n",
       "      <td>Atraso Tolerável na Entrega Por Aviao</td>\n",
       "      <td>331.0</td>\n",
       "    </tr>\n",
       "    <tr>\n",
       "      <th>7</th>\n",
       "      <td>Atraso Tolerável na Entrega Por Caminhao</td>\n",
       "      <td>350.0</td>\n",
       "    </tr>\n",
       "    <tr>\n",
       "      <th>8</th>\n",
       "      <td>Atraso Tolerável na Entrega Por Navio</td>\n",
       "      <td>1453.0</td>\n",
       "    </tr>\n",
       "    <tr>\n",
       "      <th>9</th>\n",
       "      <td>Não Houve Atraso</td>\n",
       "      <td>6282.0</td>\n",
       "    </tr>\n",
       "  </tbody>\n",
       "</table>\n",
       "</div>"
      ],
      "text/plain": [
       "                               Status do Envio   Total\n",
       "0          Atraso Crítico na Entrega Por Aviao    65.0\n",
       "1       Atraso Crítico na Entrega Por Caminhao    51.0\n",
       "2          Atraso Crítico na Entrega Por Navio   194.0\n",
       "3     Atraso Problemático na Entrega Por Aviao   300.0\n",
       "4  Atraso Problemático na Entrega Por Caminhao   310.0\n",
       "5     Atraso Problemático na Entrega Por Navio  1307.0\n",
       "6        Atraso Tolerável na Entrega Por Aviao   331.0\n",
       "7     Atraso Tolerável na Entrega Por Caminhao   350.0\n",
       "8        Atraso Tolerável na Entrega Por Navio  1453.0\n",
       "9                             Não Houve Atraso  6282.0"
      ]
     },
     "execution_count": 143,
     "metadata": {},
     "output_type": "execute_result"
    }
   ],
   "source": [
    "# Não precisamos mais dessas colunas. Vamos removê-las.\n",
    "df_report2.drop(df_report2.columns[[1, 2]], axis = 1, inplace = True)\n",
    "df_report2.head(10)"
   ]
  },
  {
   "cell_type": "code",
   "execution_count": 146,
   "id": "d26f99d5",
   "metadata": {},
   "outputs": [
    {
     "data": {
      "image/png": "[encoded data removed]",
      "text/plain": [
       "<Figure size 1440x576 with 1 Axes>"
      ]
     },
     "metadata": {
      "needs_background": "light"
     },
     "output_type": "display_data"
    }
   ],
   "source": [
    "# Plot\n",
    "df_report2.set_index(\"Status do Envio\").plot(kind = 'bar', \n",
    "                title = 'Total de Envios dos Produtos Por Status',\n",
    "                ylabel = 'Total', \n",
    "                xlabel = '\\nStatus do Envio',\n",
    "                colormap = 'viridis',\n",
    "                figsize = (20,8))\n",
    "plt.xticks(rotation = 45)\n",
    "plt.show()"
   ]
  },
  {
   "cell_type": "markdown",
   "id": "382fb243",
   "metadata": {},
   "source": [
    "### 3- Performance de Envio dos Produtos Considerando os Descontos\n",
    "\n",
    "Há diferença na performance de envio dos produtos quando o produto recebe algum tipo de desconto?\n",
    "\n",
    "Criaremos duas novas variáveis com base na seguinte regra de negócio:\n",
    "\n",
    "**Variável 1 - faixa_desconto**\n",
    "\n",
    "- Desconto acima ou igual à média\n",
    "- Desconto abaixo da média\n",
    "\n",
    "**Variável 2 - performance_faixa_desconto**\n",
    "\n",
    "- Se a faixa de desconto foi acima ou igual à média e houve atraso na entrega = \"Atraso na Entrega com Desconto Acima da Média\"\n",
    "\n",
    "- Se a faixa de desconto foi acima ou igual à e não houve atraso na entrega = \"Entrega no Prazo com Desconto Acima da Média\"\n",
    "\n",
    "- Se a faixa de desconto foi abaixo da média e houve atraso na entrega = \"Atraso na Entrega com Desconto Abaixo da Média\"\n",
    "\n",
    "- Se a faixa de desconto foi abaixo da média e não houve atraso na entrega = \"Entrega no Prazo com Desconto Abaixo da Média\""
   ]
  },
  {
   "cell_type": "code",
   "execution_count": 147,
   "id": "014017de",
   "metadata": {},
   "outputs": [
    {
     "data": {
      "text/html": [
       "<div>\n",
       "<style scoped>\n",
       "    .dataframe tbody tr th:only-of-type {\n",
       "        vertical-align: middle;\n",
       "    }\n",
       "\n",
       "    .dataframe tbody tr th {\n",
       "        vertical-align: top;\n",
       "    }\n",
       "\n",
       "    .dataframe thead th {\n",
       "        text-align: right;\n",
       "    }\n",
       "</style>\n",
       "<table border=\"1\" class=\"dataframe\">\n",
       "  <thead>\n",
       "    <tr style=\"text-align: right;\">\n",
       "      <th></th>\n",
       "      <th>ID</th>\n",
       "      <th>corredor_armazem</th>\n",
       "      <th>modo_envio</th>\n",
       "      <th>numero_chamadas_cliente</th>\n",
       "      <th>avaliacao_cliente</th>\n",
       "      <th>custo_produto</th>\n",
       "      <th>compras_anteriores</th>\n",
       "      <th>prioridade_produto</th>\n",
       "      <th>genero</th>\n",
       "      <th>desconto</th>\n",
       "      <th>peso_gramas</th>\n",
       "      <th>entregue_no_prazo</th>\n",
       "      <th>performance_prioridade_envio</th>\n",
       "      <th>performance_modo_envio</th>\n",
       "    </tr>\n",
       "  </thead>\n",
       "  <tbody>\n",
       "    <tr>\n",
       "      <th>6687</th>\n",
       "      <td>6688</td>\n",
       "      <td>B</td>\n",
       "      <td>Caminhao</td>\n",
       "      <td>5</td>\n",
       "      <td>4</td>\n",
       "      <td>221</td>\n",
       "      <td>5</td>\n",
       "      <td>baixa</td>\n",
       "      <td>M</td>\n",
       "      <td>6</td>\n",
       "      <td>5059</td>\n",
       "      <td>0</td>\n",
       "      <td>Atraso Tolerável</td>\n",
       "      <td>Atraso Tolerável na Entrega Por Caminhao</td>\n",
       "    </tr>\n",
       "    <tr>\n",
       "      <th>177</th>\n",
       "      <td>178</td>\n",
       "      <td>B</td>\n",
       "      <td>Navio</td>\n",
       "      <td>4</td>\n",
       "      <td>5</td>\n",
       "      <td>116</td>\n",
       "      <td>3</td>\n",
       "      <td>media</td>\n",
       "      <td>M</td>\n",
       "      <td>54</td>\n",
       "      <td>1314</td>\n",
       "      <td>1</td>\n",
       "      <td>Não Houve Atraso</td>\n",
       "      <td>Não Houve Atraso</td>\n",
       "    </tr>\n",
       "    <tr>\n",
       "      <th>1749</th>\n",
       "      <td>1750</td>\n",
       "      <td>B</td>\n",
       "      <td>Navio</td>\n",
       "      <td>3</td>\n",
       "      <td>1</td>\n",
       "      <td>174</td>\n",
       "      <td>4</td>\n",
       "      <td>baixa</td>\n",
       "      <td>M</td>\n",
       "      <td>18</td>\n",
       "      <td>1072</td>\n",
       "      <td>1</td>\n",
       "      <td>Não Houve Atraso</td>\n",
       "      <td>Não Houve Atraso</td>\n",
       "    </tr>\n",
       "    <tr>\n",
       "      <th>3369</th>\n",
       "      <td>3370</td>\n",
       "      <td>B</td>\n",
       "      <td>Navio</td>\n",
       "      <td>3</td>\n",
       "      <td>3</td>\n",
       "      <td>249</td>\n",
       "      <td>5</td>\n",
       "      <td>media</td>\n",
       "      <td>F</td>\n",
       "      <td>9</td>\n",
       "      <td>1752</td>\n",
       "      <td>0</td>\n",
       "      <td>Atraso Problemático</td>\n",
       "      <td>Atraso Problemático na Entrega Por Navio</td>\n",
       "    </tr>\n",
       "    <tr>\n",
       "      <th>321</th>\n",
       "      <td>322</td>\n",
       "      <td>B</td>\n",
       "      <td>Navio</td>\n",
       "      <td>4</td>\n",
       "      <td>5</td>\n",
       "      <td>141</td>\n",
       "      <td>3</td>\n",
       "      <td>media</td>\n",
       "      <td>M</td>\n",
       "      <td>12</td>\n",
       "      <td>1672</td>\n",
       "      <td>1</td>\n",
       "      <td>Não Houve Atraso</td>\n",
       "      <td>Não Houve Atraso</td>\n",
       "    </tr>\n",
       "  </tbody>\n",
       "</table>\n",
       "</div>"
      ],
      "text/plain": [
       "        ID corredor_armazem modo_envio  numero_chamadas_cliente  \\\n",
       "6687  6688                B   Caminhao                        5   \n",
       "177    178                B      Navio                        4   \n",
       "1749  1750                B      Navio                        3   \n",
       "3369  3370                B      Navio                        3   \n",
       "321    322                B      Navio                        4   \n",
       "\n",
       "      avaliacao_cliente  custo_produto  compras_anteriores prioridade_produto  \\\n",
       "6687                  4            221                   5              baixa   \n",
       "177                   5            116                   3              media   \n",
       "1749                  1            174                   4              baixa   \n",
       "3369                  3            249                   5              media   \n",
       "321                   5            141                   3              media   \n",
       "\n",
       "     genero  desconto  peso_gramas  entregue_no_prazo  \\\n",
       "6687      M         6         5059                  0   \n",
       "177       M        54         1314                  1   \n",
       "1749      M        18         1072                  1   \n",
       "3369      F         9         1752                  0   \n",
       "321       M        12         1672                  1   \n",
       "\n",
       "     performance_prioridade_envio                    performance_modo_envio  \n",
       "6687             Atraso Tolerável  Atraso Tolerável na Entrega Por Caminhao  \n",
       "177              Não Houve Atraso                          Não Houve Atraso  \n",
       "1749             Não Houve Atraso                          Não Houve Atraso  \n",
       "3369          Atraso Problemático  Atraso Problemático na Entrega Por Navio  \n",
       "321              Não Houve Atraso                          Não Houve Atraso  "
      ]
     },
     "execution_count": 147,
     "metadata": {},
     "output_type": "execute_result"
    }
   ],
   "source": [
    "df_eng.sample(5)"
   ]
  },
  {
   "cell_type": "code",
   "execution_count": 148,
   "id": "d7a16e7a",
   "metadata": {},
   "outputs": [
    {
     "data": {
      "text/plain": [
       "Index(['ID', 'corredor_armazem', 'modo_envio', 'numero_chamadas_cliente',\n",
       "       'avaliacao_cliente', 'custo_produto', 'compras_anteriores',\n",
       "       'prioridade_produto', 'genero', 'desconto', 'peso_gramas',\n",
       "       'entregue_no_prazo', 'performance_prioridade_envio',\n",
       "       'performance_modo_envio'],\n",
       "      dtype='object')"
      ]
     },
     "execution_count": 148,
     "metadata": {},
     "output_type": "execute_result"
    }
   ],
   "source": [
    "df_eng.columns"
   ]
  },
  {
   "cell_type": "code",
   "execution_count": 149,
   "id": "587466be",
   "metadata": {},
   "outputs": [
    {
     "data": {
      "text/plain": [
       "count    10643.000000\n",
       "mean        12.528047\n",
       "std         14.991968\n",
       "min          1.000000\n",
       "25%          4.000000\n",
       "50%          7.000000\n",
       "75%         10.000000\n",
       "max         61.000000\n",
       "Name: desconto, dtype: float64"
      ]
     },
     "execution_count": 149,
     "metadata": {},
     "output_type": "execute_result"
    }
   ],
   "source": [
    "df_eng.desconto.describe()"
   ]
  },
  {
   "cell_type": "code",
   "execution_count": 150,
   "id": "241d3567",
   "metadata": {},
   "outputs": [],
   "source": [
    "# Variável 1\n",
    "df_eng['faixa_desconto'] = np.where(df_eng.desconto >= 12, \"Desconto Acima da Media\", \"Desconto Abaixo da Media\") "
   ]
  },
  {
   "cell_type": "code",
   "execution_count": 151,
   "id": "f72fe63d",
   "metadata": {},
   "outputs": [
    {
     "data": {
      "text/plain": [
       "Desconto Abaixo da Media    8269\n",
       "Desconto Acima da Media     2374\n",
       "Name: faixa_desconto, dtype: int64"
      ]
     },
     "execution_count": 151,
     "metadata": {},
     "output_type": "execute_result"
    }
   ],
   "source": [
    "df_eng['faixa_desconto'].value_counts()"
   ]
  },
  {
   "cell_type": "code",
   "execution_count": 152,
   "id": "8311c0e0",
   "metadata": {},
   "outputs": [
    {
     "data": {
      "text/html": [
       "<div>\n",
       "<style scoped>\n",
       "    .dataframe tbody tr th:only-of-type {\n",
       "        vertical-align: middle;\n",
       "    }\n",
       "\n",
       "    .dataframe tbody tr th {\n",
       "        vertical-align: top;\n",
       "    }\n",
       "\n",
       "    .dataframe thead th {\n",
       "        text-align: right;\n",
       "    }\n",
       "</style>\n",
       "<table border=\"1\" class=\"dataframe\">\n",
       "  <thead>\n",
       "    <tr style=\"text-align: right;\">\n",
       "      <th></th>\n",
       "      <th>ID</th>\n",
       "      <th>corredor_armazem</th>\n",
       "      <th>modo_envio</th>\n",
       "      <th>numero_chamadas_cliente</th>\n",
       "      <th>avaliacao_cliente</th>\n",
       "      <th>custo_produto</th>\n",
       "      <th>compras_anteriores</th>\n",
       "      <th>prioridade_produto</th>\n",
       "      <th>genero</th>\n",
       "      <th>desconto</th>\n",
       "      <th>peso_gramas</th>\n",
       "      <th>entregue_no_prazo</th>\n",
       "      <th>performance_prioridade_envio</th>\n",
       "      <th>performance_modo_envio</th>\n",
       "      <th>faixa_desconto</th>\n",
       "    </tr>\n",
       "  </thead>\n",
       "  <tbody>\n",
       "    <tr>\n",
       "      <th>981</th>\n",
       "      <td>982</td>\n",
       "      <td>B</td>\n",
       "      <td>Navio</td>\n",
       "      <td>3</td>\n",
       "      <td>5</td>\n",
       "      <td>243</td>\n",
       "      <td>3</td>\n",
       "      <td>media</td>\n",
       "      <td>M</td>\n",
       "      <td>4</td>\n",
       "      <td>3189</td>\n",
       "      <td>1</td>\n",
       "      <td>Não Houve Atraso</td>\n",
       "      <td>Não Houve Atraso</td>\n",
       "      <td>Desconto Abaixo da Media</td>\n",
       "    </tr>\n",
       "    <tr>\n",
       "      <th>6200</th>\n",
       "      <td>6201</td>\n",
       "      <td>A</td>\n",
       "      <td>Navio</td>\n",
       "      <td>4</td>\n",
       "      <td>1</td>\n",
       "      <td>153</td>\n",
       "      <td>2</td>\n",
       "      <td>baixa</td>\n",
       "      <td>F</td>\n",
       "      <td>1</td>\n",
       "      <td>4027</td>\n",
       "      <td>0</td>\n",
       "      <td>Atraso Tolerável</td>\n",
       "      <td>Atraso Tolerável na Entrega Por Navio</td>\n",
       "      <td>Desconto Abaixo da Media</td>\n",
       "    </tr>\n",
       "    <tr>\n",
       "      <th>5667</th>\n",
       "      <td>5668</td>\n",
       "      <td>B</td>\n",
       "      <td>Navio</td>\n",
       "      <td>4</td>\n",
       "      <td>5</td>\n",
       "      <td>229</td>\n",
       "      <td>2</td>\n",
       "      <td>media</td>\n",
       "      <td>F</td>\n",
       "      <td>1</td>\n",
       "      <td>4869</td>\n",
       "      <td>0</td>\n",
       "      <td>Atraso Problemático</td>\n",
       "      <td>Atraso Problemático na Entrega Por Navio</td>\n",
       "      <td>Desconto Abaixo da Media</td>\n",
       "    </tr>\n",
       "    <tr>\n",
       "      <th>10291</th>\n",
       "      <td>10292</td>\n",
       "      <td>F</td>\n",
       "      <td>Aviao</td>\n",
       "      <td>4</td>\n",
       "      <td>1</td>\n",
       "      <td>146</td>\n",
       "      <td>3</td>\n",
       "      <td>baixa</td>\n",
       "      <td>F</td>\n",
       "      <td>1</td>\n",
       "      <td>4831</td>\n",
       "      <td>1</td>\n",
       "      <td>Não Houve Atraso</td>\n",
       "      <td>Não Houve Atraso</td>\n",
       "      <td>Desconto Abaixo da Media</td>\n",
       "    </tr>\n",
       "    <tr>\n",
       "      <th>6702</th>\n",
       "      <td>6703</td>\n",
       "      <td>D</td>\n",
       "      <td>Caminhao</td>\n",
       "      <td>6</td>\n",
       "      <td>4</td>\n",
       "      <td>116</td>\n",
       "      <td>3</td>\n",
       "      <td>baixa</td>\n",
       "      <td>M</td>\n",
       "      <td>6</td>\n",
       "      <td>4649</td>\n",
       "      <td>0</td>\n",
       "      <td>Atraso Tolerável</td>\n",
       "      <td>Atraso Tolerável na Entrega Por Caminhao</td>\n",
       "      <td>Desconto Abaixo da Media</td>\n",
       "    </tr>\n",
       "  </tbody>\n",
       "</table>\n",
       "</div>"
      ],
      "text/plain": [
       "          ID corredor_armazem modo_envio  numero_chamadas_cliente  \\\n",
       "981      982                B      Navio                        3   \n",
       "6200    6201                A      Navio                        4   \n",
       "5667    5668                B      Navio                        4   \n",
       "10291  10292                F      Aviao                        4   \n",
       "6702    6703                D   Caminhao                        6   \n",
       "\n",
       "       avaliacao_cliente  custo_produto  compras_anteriores  \\\n",
       "981                    5            243                   3   \n",
       "6200                   1            153                   2   \n",
       "5667                   5            229                   2   \n",
       "10291                  1            146                   3   \n",
       "6702                   4            116                   3   \n",
       "\n",
       "      prioridade_produto genero  desconto  peso_gramas  entregue_no_prazo  \\\n",
       "981                media      M         4         3189                  1   \n",
       "6200               baixa      F         1         4027                  0   \n",
       "5667               media      F         1         4869                  0   \n",
       "10291              baixa      F         1         4831                  1   \n",
       "6702               baixa      M         6         4649                  0   \n",
       "\n",
       "      performance_prioridade_envio                    performance_modo_envio  \\\n",
       "981               Não Houve Atraso                          Não Houve Atraso   \n",
       "6200              Atraso Tolerável     Atraso Tolerável na Entrega Por Navio   \n",
       "5667           Atraso Problemático  Atraso Problemático na Entrega Por Navio   \n",
       "10291             Não Houve Atraso                          Não Houve Atraso   \n",
       "6702              Atraso Tolerável  Atraso Tolerável na Entrega Por Caminhao   \n",
       "\n",
       "                 faixa_desconto  \n",
       "981    Desconto Abaixo da Media  \n",
       "6200   Desconto Abaixo da Media  \n",
       "5667   Desconto Abaixo da Media  \n",
       "10291  Desconto Abaixo da Media  \n",
       "6702   Desconto Abaixo da Media  "
      ]
     },
     "execution_count": 152,
     "metadata": {},
     "output_type": "execute_result"
    }
   ],
   "source": [
    "df_eng.sample(5)"
   ]
  },
  {
   "cell_type": "code",
   "execution_count": 153,
   "id": "11793be9",
   "metadata": {},
   "outputs": [],
   "source": [
    "# Variável 2\n",
    "df_eng['performance_faixa_desconto'] = np.where(\n",
    "        (df_eng['faixa_desconto'] == 'Desconto Acima da Media') & (df_eng['entregue_no_prazo'] == 0), \"Atraso na Entrega com Desconto Acima da Media\", \n",
    "    np.where(\n",
    "        (df_eng['faixa_desconto'] == 'Desconto Abaixo da Media') & (df_eng['entregue_no_prazo'] == 0), \"Atraso na Entrega com Desconto Abaixo da Media\",\n",
    "    np.where(\n",
    "        (df_eng['faixa_desconto'] == 'Desconto Acima da Media') & (df_eng['entregue_no_prazo'] == 1), \"Entrega no Prazo com Desconto Acima da Media\",\n",
    "    np.where(\n",
    "        (df_eng['faixa_desconto'] == 'Desconto Abaixo da Media') & (df_eng['entregue_no_prazo'] == 1), \"Entrega no Prazo com Desconto Abaixo da Media\",\n",
    "   \"NA\"))))"
   ]
  },
  {
   "cell_type": "code",
   "execution_count": 154,
   "id": "a8b36f3c",
   "metadata": {},
   "outputs": [
    {
     "data": {
      "text/html": [
       "<div>\n",
       "<style scoped>\n",
       "    .dataframe tbody tr th:only-of-type {\n",
       "        vertical-align: middle;\n",
       "    }\n",
       "\n",
       "    .dataframe tbody tr th {\n",
       "        vertical-align: top;\n",
       "    }\n",
       "\n",
       "    .dataframe thead th {\n",
       "        text-align: right;\n",
       "    }\n",
       "</style>\n",
       "<table border=\"1\" class=\"dataframe\">\n",
       "  <thead>\n",
       "    <tr style=\"text-align: right;\">\n",
       "      <th></th>\n",
       "      <th>ID</th>\n",
       "      <th>corredor_armazem</th>\n",
       "      <th>modo_envio</th>\n",
       "      <th>numero_chamadas_cliente</th>\n",
       "      <th>avaliacao_cliente</th>\n",
       "      <th>custo_produto</th>\n",
       "      <th>compras_anteriores</th>\n",
       "      <th>prioridade_produto</th>\n",
       "      <th>genero</th>\n",
       "      <th>desconto</th>\n",
       "      <th>peso_gramas</th>\n",
       "      <th>entregue_no_prazo</th>\n",
       "      <th>performance_prioridade_envio</th>\n",
       "      <th>performance_modo_envio</th>\n",
       "      <th>faixa_desconto</th>\n",
       "      <th>performance_faixa_desconto</th>\n",
       "    </tr>\n",
       "  </thead>\n",
       "  <tbody>\n",
       "    <tr>\n",
       "      <th>5134</th>\n",
       "      <td>5135</td>\n",
       "      <td>C</td>\n",
       "      <td>Navio</td>\n",
       "      <td>4</td>\n",
       "      <td>4</td>\n",
       "      <td>197</td>\n",
       "      <td>2</td>\n",
       "      <td>media</td>\n",
       "      <td>F</td>\n",
       "      <td>1</td>\n",
       "      <td>5211</td>\n",
       "      <td>0</td>\n",
       "      <td>Atraso Problemático</td>\n",
       "      <td>Atraso Problemático na Entrega Por Navio</td>\n",
       "      <td>Desconto Abaixo da Media</td>\n",
       "      <td>Atraso na Entrega com Desconto Abaixo da Media</td>\n",
       "    </tr>\n",
       "    <tr>\n",
       "      <th>1365</th>\n",
       "      <td>1366</td>\n",
       "      <td>B</td>\n",
       "      <td>Aviao</td>\n",
       "      <td>3</td>\n",
       "      <td>1</td>\n",
       "      <td>167</td>\n",
       "      <td>3</td>\n",
       "      <td>baixa</td>\n",
       "      <td>M</td>\n",
       "      <td>1</td>\n",
       "      <td>1252</td>\n",
       "      <td>1</td>\n",
       "      <td>Não Houve Atraso</td>\n",
       "      <td>Não Houve Atraso</td>\n",
       "      <td>Desconto Abaixo da Media</td>\n",
       "      <td>Entrega no Prazo com Desconto Abaixo da Media</td>\n",
       "    </tr>\n",
       "    <tr>\n",
       "      <th>3141</th>\n",
       "      <td>3142</td>\n",
       "      <td>B</td>\n",
       "      <td>Caminhao</td>\n",
       "      <td>6</td>\n",
       "      <td>2</td>\n",
       "      <td>153</td>\n",
       "      <td>5</td>\n",
       "      <td>baixa</td>\n",
       "      <td>F</td>\n",
       "      <td>1</td>\n",
       "      <td>4597</td>\n",
       "      <td>1</td>\n",
       "      <td>Não Houve Atraso</td>\n",
       "      <td>Não Houve Atraso</td>\n",
       "      <td>Desconto Abaixo da Media</td>\n",
       "      <td>Entrega no Prazo com Desconto Abaixo da Media</td>\n",
       "    </tr>\n",
       "    <tr>\n",
       "      <th>2816</th>\n",
       "      <td>2817</td>\n",
       "      <td>A</td>\n",
       "      <td>Navio</td>\n",
       "      <td>4</td>\n",
       "      <td>2</td>\n",
       "      <td>262</td>\n",
       "      <td>2</td>\n",
       "      <td>baixa</td>\n",
       "      <td>F</td>\n",
       "      <td>37</td>\n",
       "      <td>3523</td>\n",
       "      <td>1</td>\n",
       "      <td>Não Houve Atraso</td>\n",
       "      <td>Não Houve Atraso</td>\n",
       "      <td>Desconto Acima da Media</td>\n",
       "      <td>Entrega no Prazo com Desconto Acima da Media</td>\n",
       "    </tr>\n",
       "    <tr>\n",
       "      <th>8046</th>\n",
       "      <td>8047</td>\n",
       "      <td>D</td>\n",
       "      <td>Navio</td>\n",
       "      <td>6</td>\n",
       "      <td>2</td>\n",
       "      <td>256</td>\n",
       "      <td>4</td>\n",
       "      <td>baixa</td>\n",
       "      <td>F</td>\n",
       "      <td>6</td>\n",
       "      <td>1507</td>\n",
       "      <td>0</td>\n",
       "      <td>Atraso Tolerável</td>\n",
       "      <td>Atraso Tolerável na Entrega Por Navio</td>\n",
       "      <td>Desconto Abaixo da Media</td>\n",
       "      <td>Atraso na Entrega com Desconto Abaixo da Media</td>\n",
       "    </tr>\n",
       "  </tbody>\n",
       "</table>\n",
       "</div>"
      ],
      "text/plain": [
       "        ID corredor_armazem modo_envio  numero_chamadas_cliente  \\\n",
       "5134  5135                C      Navio                        4   \n",
       "1365  1366                B      Aviao                        3   \n",
       "3141  3142                B   Caminhao                        6   \n",
       "2816  2817                A      Navio                        4   \n",
       "8046  8047                D      Navio                        6   \n",
       "\n",
       "      avaliacao_cliente  custo_produto  compras_anteriores prioridade_produto  \\\n",
       "5134                  4            197                   2              media   \n",
       "1365                  1            167                   3              baixa   \n",
       "3141                  2            153                   5              baixa   \n",
       "2816                  2            262                   2              baixa   \n",
       "8046                  2            256                   4              baixa   \n",
       "\n",
       "     genero  desconto  peso_gramas  entregue_no_prazo  \\\n",
       "5134      F         1         5211                  0   \n",
       "1365      M         1         1252                  1   \n",
       "3141      F         1         4597                  1   \n",
       "2816      F        37         3523                  1   \n",
       "8046      F         6         1507                  0   \n",
       "\n",
       "     performance_prioridade_envio                    performance_modo_envio  \\\n",
       "5134          Atraso Problemático  Atraso Problemático na Entrega Por Navio   \n",
       "1365             Não Houve Atraso                          Não Houve Atraso   \n",
       "3141             Não Houve Atraso                          Não Houve Atraso   \n",
       "2816             Não Houve Atraso                          Não Houve Atraso   \n",
       "8046             Atraso Tolerável     Atraso Tolerável na Entrega Por Navio   \n",
       "\n",
       "                faixa_desconto                      performance_faixa_desconto  \n",
       "5134  Desconto Abaixo da Media  Atraso na Entrega com Desconto Abaixo da Media  \n",
       "1365  Desconto Abaixo da Media   Entrega no Prazo com Desconto Abaixo da Media  \n",
       "3141  Desconto Abaixo da Media   Entrega no Prazo com Desconto Abaixo da Media  \n",
       "2816   Desconto Acima da Media    Entrega no Prazo com Desconto Acima da Media  \n",
       "8046  Desconto Abaixo da Media  Atraso na Entrega com Desconto Abaixo da Media  "
      ]
     },
     "execution_count": 154,
     "metadata": {},
     "output_type": "execute_result"
    }
   ],
   "source": [
    "df_eng.sample(5)"
   ]
  },
  {
   "cell_type": "code",
   "execution_count": 155,
   "id": "e09333ce",
   "metadata": {},
   "outputs": [
    {
     "data": {
      "text/plain": [
       "Atraso na Entrega com Desconto Abaixo da Media    4361\n",
       "Entrega no Prazo com Desconto Abaixo da Media     3908\n",
       "Entrega no Prazo com Desconto Acima da Media      2374\n",
       "Name: performance_faixa_desconto, dtype: int64"
      ]
     },
     "execution_count": 155,
     "metadata": {},
     "output_type": "execute_result"
    }
   ],
   "source": [
    "df_eng['performance_faixa_desconto'].value_counts()"
   ]
  },
  {
   "cell_type": "code",
   "execution_count": 156,
   "id": "021e5758",
   "metadata": {},
   "outputs": [
    {
     "data": {
      "text/html": [
       "<div>\n",
       "<style scoped>\n",
       "    .dataframe tbody tr th:only-of-type {\n",
       "        vertical-align: middle;\n",
       "    }\n",
       "\n",
       "    .dataframe tbody tr th {\n",
       "        vertical-align: top;\n",
       "    }\n",
       "\n",
       "    .dataframe thead tr th {\n",
       "        text-align: left;\n",
       "    }\n",
       "</style>\n",
       "<table border=\"1\" class=\"dataframe\">\n",
       "  <thead>\n",
       "    <tr>\n",
       "      <th></th>\n",
       "      <th>performance_faixa_desconto</th>\n",
       "      <th>entregue_no_prazo</th>\n",
       "      <th>ID</th>\n",
       "    </tr>\n",
       "    <tr>\n",
       "      <th></th>\n",
       "      <th></th>\n",
       "      <th></th>\n",
       "      <th>count</th>\n",
       "    </tr>\n",
       "  </thead>\n",
       "  <tbody>\n",
       "    <tr>\n",
       "      <th>0</th>\n",
       "      <td>Atraso na Entrega com Desconto Abaixo da Media</td>\n",
       "      <td>0</td>\n",
       "      <td>4361</td>\n",
       "    </tr>\n",
       "    <tr>\n",
       "      <th>1</th>\n",
       "      <td>Entrega no Prazo com Desconto Abaixo da Media</td>\n",
       "      <td>1</td>\n",
       "      <td>3908</td>\n",
       "    </tr>\n",
       "    <tr>\n",
       "      <th>2</th>\n",
       "      <td>Entrega no Prazo com Desconto Acima da Media</td>\n",
       "      <td>1</td>\n",
       "      <td>2374</td>\n",
       "    </tr>\n",
       "  </tbody>\n",
       "</table>\n",
       "</div>"
      ],
      "text/plain": [
       "                       performance_faixa_desconto entregue_no_prazo    ID\n",
       "                                                                    count\n",
       "0  Atraso na Entrega com Desconto Abaixo da Media                 0  4361\n",
       "1   Entrega no Prazo com Desconto Abaixo da Media                 1  3908\n",
       "2    Entrega no Prazo com Desconto Acima da Media                 1  2374"
      ]
     },
     "execution_count": 156,
     "metadata": {},
     "output_type": "execute_result"
    }
   ],
   "source": [
    "# Agrupamos os dados para análise\n",
    "df_report3 = df_eng.groupby(['performance_faixa_desconto', \n",
    "                             'entregue_no_prazo']).agg({'ID': ['count']}).reset_index()\n",
    "df_report3.head()"
   ]
  },
  {
   "cell_type": "code",
   "execution_count": 157,
   "id": "9148bf01",
   "metadata": {},
   "outputs": [
    {
     "data": {
      "text/html": [
       "<div>\n",
       "<style scoped>\n",
       "    .dataframe tbody tr th:only-of-type {\n",
       "        vertical-align: middle;\n",
       "    }\n",
       "\n",
       "    .dataframe tbody tr th {\n",
       "        vertical-align: top;\n",
       "    }\n",
       "\n",
       "    .dataframe thead th {\n",
       "        text-align: right;\n",
       "    }\n",
       "</style>\n",
       "<table border=\"1\" class=\"dataframe\">\n",
       "  <thead>\n",
       "    <tr style=\"text-align: right;\">\n",
       "      <th></th>\n",
       "      <th>performance_faixa_desconto</th>\n",
       "      <th>entregue_no_prazo</th>\n",
       "      <th>contagem</th>\n",
       "    </tr>\n",
       "  </thead>\n",
       "  <tbody>\n",
       "    <tr>\n",
       "      <th>0</th>\n",
       "      <td>Atraso na Entrega com Desconto Abaixo da Media</td>\n",
       "      <td>0</td>\n",
       "      <td>4361</td>\n",
       "    </tr>\n",
       "    <tr>\n",
       "      <th>1</th>\n",
       "      <td>Entrega no Prazo com Desconto Abaixo da Media</td>\n",
       "      <td>1</td>\n",
       "      <td>3908</td>\n",
       "    </tr>\n",
       "    <tr>\n",
       "      <th>2</th>\n",
       "      <td>Entrega no Prazo com Desconto Acima da Media</td>\n",
       "      <td>1</td>\n",
       "      <td>2374</td>\n",
       "    </tr>\n",
       "  </tbody>\n",
       "</table>\n",
       "</div>"
      ],
      "text/plain": [
       "                       performance_faixa_desconto  entregue_no_prazo  contagem\n",
       "0  Atraso na Entrega com Desconto Abaixo da Media                  0      4361\n",
       "1   Entrega no Prazo com Desconto Abaixo da Media                  1      3908\n",
       "2    Entrega no Prazo com Desconto Acima da Media                  1      2374"
      ]
     },
     "execution_count": 157,
     "metadata": {},
     "output_type": "execute_result"
    }
   ],
   "source": [
    "df_report3.columns = ['performance_faixa_desconto', 'entregue_no_prazo', 'contagem']\n",
    "df_report3.head()"
   ]
  },
  {
   "cell_type": "code",
   "execution_count": 158,
   "id": "35b2bc33",
   "metadata": {},
   "outputs": [
    {
     "data": {
      "text/html": [
       "<div>\n",
       "<style scoped>\n",
       "    .dataframe tbody tr th:only-of-type {\n",
       "        vertical-align: middle;\n",
       "    }\n",
       "\n",
       "    .dataframe tbody tr th {\n",
       "        vertical-align: top;\n",
       "    }\n",
       "\n",
       "    .dataframe thead th {\n",
       "        text-align: right;\n",
       "    }\n",
       "</style>\n",
       "<table border=\"1\" class=\"dataframe\">\n",
       "  <thead>\n",
       "    <tr style=\"text-align: right;\">\n",
       "      <th>entregue_no_prazo</th>\n",
       "      <th>performance_faixa_desconto</th>\n",
       "      <th>0</th>\n",
       "      <th>1</th>\n",
       "    </tr>\n",
       "  </thead>\n",
       "  <tbody>\n",
       "    <tr>\n",
       "      <th>0</th>\n",
       "      <td>Atraso na Entrega com Desconto Abaixo da Media</td>\n",
       "      <td>4361.0</td>\n",
       "      <td>NaN</td>\n",
       "    </tr>\n",
       "    <tr>\n",
       "      <th>1</th>\n",
       "      <td>Entrega no Prazo com Desconto Abaixo da Media</td>\n",
       "      <td>NaN</td>\n",
       "      <td>3908.0</td>\n",
       "    </tr>\n",
       "    <tr>\n",
       "      <th>2</th>\n",
       "      <td>Entrega no Prazo com Desconto Acima da Media</td>\n",
       "      <td>NaN</td>\n",
       "      <td>2374.0</td>\n",
       "    </tr>\n",
       "  </tbody>\n",
       "</table>\n",
       "</div>"
      ],
      "text/plain": [
       "entregue_no_prazo                      performance_faixa_desconto       0  \\\n",
       "0                  Atraso na Entrega com Desconto Abaixo da Media  4361.0   \n",
       "1                   Entrega no Prazo com Desconto Abaixo da Media     NaN   \n",
       "2                    Entrega no Prazo com Desconto Acima da Media     NaN   \n",
       "\n",
       "entregue_no_prazo       1  \n",
       "0                     NaN  \n",
       "1                  3908.0  \n",
       "2                  2374.0  "
      ]
     },
     "execution_count": 158,
     "metadata": {},
     "output_type": "execute_result"
    }
   ],
   "source": [
    "# Pivot\n",
    "df_report3 = pd.pivot_table(df_report3,\n",
    "                             index = 'performance_faixa_desconto',\n",
    "                             columns = 'entregue_no_prazo',\n",
    "                             values = 'contagem').reset_index()\n",
    "df_report3.head()"
   ]
  },
  {
   "cell_type": "code",
   "execution_count": 159,
   "id": "74681dcb",
   "metadata": {},
   "outputs": [
    {
     "data": {
      "text/html": [
       "<div>\n",
       "<style scoped>\n",
       "    .dataframe tbody tr th:only-of-type {\n",
       "        vertical-align: middle;\n",
       "    }\n",
       "\n",
       "    .dataframe tbody tr th {\n",
       "        vertical-align: top;\n",
       "    }\n",
       "\n",
       "    .dataframe thead th {\n",
       "        text-align: right;\n",
       "    }\n",
       "</style>\n",
       "<table border=\"1\" class=\"dataframe\">\n",
       "  <thead>\n",
       "    <tr style=\"text-align: right;\">\n",
       "      <th></th>\n",
       "      <th>Status do Envio</th>\n",
       "      <th>Total Atraso</th>\n",
       "      <th>Total no Prazo</th>\n",
       "    </tr>\n",
       "  </thead>\n",
       "  <tbody>\n",
       "    <tr>\n",
       "      <th>0</th>\n",
       "      <td>Atraso na Entrega com Desconto Abaixo da Media</td>\n",
       "      <td>4361.0</td>\n",
       "      <td>NaN</td>\n",
       "    </tr>\n",
       "    <tr>\n",
       "      <th>1</th>\n",
       "      <td>Entrega no Prazo com Desconto Abaixo da Media</td>\n",
       "      <td>NaN</td>\n",
       "      <td>3908.0</td>\n",
       "    </tr>\n",
       "    <tr>\n",
       "      <th>2</th>\n",
       "      <td>Entrega no Prazo com Desconto Acima da Media</td>\n",
       "      <td>NaN</td>\n",
       "      <td>2374.0</td>\n",
       "    </tr>\n",
       "  </tbody>\n",
       "</table>\n",
       "</div>"
      ],
      "text/plain": [
       "                                  Status do Envio  Total Atraso  \\\n",
       "0  Atraso na Entrega com Desconto Abaixo da Media        4361.0   \n",
       "1   Entrega no Prazo com Desconto Abaixo da Media           NaN   \n",
       "2    Entrega no Prazo com Desconto Acima da Media           NaN   \n",
       "\n",
       "   Total no Prazo  \n",
       "0             NaN  \n",
       "1          3908.0  \n",
       "2          2374.0  "
      ]
     },
     "execution_count": 159,
     "metadata": {},
     "output_type": "execute_result"
    }
   ],
   "source": [
    "df_report3.columns = ['Status do Envio', 'Total Atraso', 'Total no Prazo']\n",
    "df_report3.head()"
   ]
  },
  {
   "cell_type": "code",
   "execution_count": 160,
   "id": "4d871891",
   "metadata": {},
   "outputs": [
    {
     "data": {
      "text/html": [
       "<div>\n",
       "<style scoped>\n",
       "    .dataframe tbody tr th:only-of-type {\n",
       "        vertical-align: middle;\n",
       "    }\n",
       "\n",
       "    .dataframe tbody tr th {\n",
       "        vertical-align: top;\n",
       "    }\n",
       "\n",
       "    .dataframe thead th {\n",
       "        text-align: right;\n",
       "    }\n",
       "</style>\n",
       "<table border=\"1\" class=\"dataframe\">\n",
       "  <thead>\n",
       "    <tr style=\"text-align: right;\">\n",
       "      <th></th>\n",
       "      <th>Status do Envio</th>\n",
       "      <th>Total Atraso</th>\n",
       "      <th>Total no Prazo</th>\n",
       "    </tr>\n",
       "  </thead>\n",
       "  <tbody>\n",
       "    <tr>\n",
       "      <th>0</th>\n",
       "      <td>Atraso na Entrega com Desconto Abaixo da Media</td>\n",
       "      <td>4361.0</td>\n",
       "      <td>0.0</td>\n",
       "    </tr>\n",
       "    <tr>\n",
       "      <th>1</th>\n",
       "      <td>Entrega no Prazo com Desconto Abaixo da Media</td>\n",
       "      <td>0.0</td>\n",
       "      <td>3908.0</td>\n",
       "    </tr>\n",
       "    <tr>\n",
       "      <th>2</th>\n",
       "      <td>Entrega no Prazo com Desconto Acima da Media</td>\n",
       "      <td>0.0</td>\n",
       "      <td>2374.0</td>\n",
       "    </tr>\n",
       "  </tbody>\n",
       "</table>\n",
       "</div>"
      ],
      "text/plain": [
       "                                  Status do Envio  Total Atraso  \\\n",
       "0  Atraso na Entrega com Desconto Abaixo da Media        4361.0   \n",
       "1   Entrega no Prazo com Desconto Abaixo da Media           0.0   \n",
       "2    Entrega no Prazo com Desconto Acima da Media           0.0   \n",
       "\n",
       "   Total no Prazo  \n",
       "0             0.0  \n",
       "1          3908.0  \n",
       "2          2374.0  "
      ]
     },
     "execution_count": 160,
     "metadata": {},
     "output_type": "execute_result"
    }
   ],
   "source": [
    "# Replace do valor nan por zero\n",
    "df_report3['Total Atraso'] = df_report3['Total Atraso'].replace(np.nan, 0)\n",
    "df_report3['Total no Prazo'] = df_report3['Total no Prazo'].replace(np.nan, 0)\n",
    "df_report3.head()"
   ]
  },
  {
   "cell_type": "code",
   "execution_count": 161,
   "id": "f6bd9d02",
   "metadata": {},
   "outputs": [
    {
     "data": {
      "text/html": [
       "<div>\n",
       "<style scoped>\n",
       "    .dataframe tbody tr th:only-of-type {\n",
       "        vertical-align: middle;\n",
       "    }\n",
       "\n",
       "    .dataframe tbody tr th {\n",
       "        vertical-align: top;\n",
       "    }\n",
       "\n",
       "    .dataframe thead th {\n",
       "        text-align: right;\n",
       "    }\n",
       "</style>\n",
       "<table border=\"1\" class=\"dataframe\">\n",
       "  <thead>\n",
       "    <tr style=\"text-align: right;\">\n",
       "      <th></th>\n",
       "      <th>Status do Envio</th>\n",
       "      <th>Total Atraso</th>\n",
       "      <th>Total no Prazo</th>\n",
       "      <th>Total</th>\n",
       "    </tr>\n",
       "  </thead>\n",
       "  <tbody>\n",
       "    <tr>\n",
       "      <th>0</th>\n",
       "      <td>Atraso na Entrega com Desconto Abaixo da Media</td>\n",
       "      <td>4361.0</td>\n",
       "      <td>0.0</td>\n",
       "      <td>4361.0</td>\n",
       "    </tr>\n",
       "    <tr>\n",
       "      <th>1</th>\n",
       "      <td>Entrega no Prazo com Desconto Abaixo da Media</td>\n",
       "      <td>0.0</td>\n",
       "      <td>3908.0</td>\n",
       "      <td>3908.0</td>\n",
       "    </tr>\n",
       "    <tr>\n",
       "      <th>2</th>\n",
       "      <td>Entrega no Prazo com Desconto Acima da Media</td>\n",
       "      <td>0.0</td>\n",
       "      <td>2374.0</td>\n",
       "      <td>2374.0</td>\n",
       "    </tr>\n",
       "  </tbody>\n",
       "</table>\n",
       "</div>"
      ],
      "text/plain": [
       "                                  Status do Envio  Total Atraso  \\\n",
       "0  Atraso na Entrega com Desconto Abaixo da Media        4361.0   \n",
       "1   Entrega no Prazo com Desconto Abaixo da Media           0.0   \n",
       "2    Entrega no Prazo com Desconto Acima da Media           0.0   \n",
       "\n",
       "   Total no Prazo   Total  \n",
       "0             0.0  4361.0  \n",
       "1          3908.0  3908.0  \n",
       "2          2374.0  2374.0  "
      ]
     },
     "execution_count": 161,
     "metadata": {},
     "output_type": "execute_result"
    }
   ],
   "source": [
    "# Concatena colunas criando uma terceira variável\n",
    "df_report3[\"Total\"] = df_report3[\"Total Atraso\"] + df_report3[\"Total no Prazo\"]\n",
    "df_report3.head()"
   ]
  },
  {
   "cell_type": "code",
   "execution_count": 162,
   "id": "75498554",
   "metadata": {},
   "outputs": [
    {
     "data": {
      "text/html": [
       "<div>\n",
       "<style scoped>\n",
       "    .dataframe tbody tr th:only-of-type {\n",
       "        vertical-align: middle;\n",
       "    }\n",
       "\n",
       "    .dataframe tbody tr th {\n",
       "        vertical-align: top;\n",
       "    }\n",
       "\n",
       "    .dataframe thead th {\n",
       "        text-align: right;\n",
       "    }\n",
       "</style>\n",
       "<table border=\"1\" class=\"dataframe\">\n",
       "  <thead>\n",
       "    <tr style=\"text-align: right;\">\n",
       "      <th></th>\n",
       "      <th>Status do Envio</th>\n",
       "      <th>Total</th>\n",
       "    </tr>\n",
       "  </thead>\n",
       "  <tbody>\n",
       "    <tr>\n",
       "      <th>0</th>\n",
       "      <td>Atraso na Entrega com Desconto Abaixo da Media</td>\n",
       "      <td>4361.0</td>\n",
       "    </tr>\n",
       "    <tr>\n",
       "      <th>1</th>\n",
       "      <td>Entrega no Prazo com Desconto Abaixo da Media</td>\n",
       "      <td>3908.0</td>\n",
       "    </tr>\n",
       "    <tr>\n",
       "      <th>2</th>\n",
       "      <td>Entrega no Prazo com Desconto Acima da Media</td>\n",
       "      <td>2374.0</td>\n",
       "    </tr>\n",
       "  </tbody>\n",
       "</table>\n",
       "</div>"
      ],
      "text/plain": [
       "                                  Status do Envio   Total\n",
       "0  Atraso na Entrega com Desconto Abaixo da Media  4361.0\n",
       "1   Entrega no Prazo com Desconto Abaixo da Media  3908.0\n",
       "2    Entrega no Prazo com Desconto Acima da Media  2374.0"
      ]
     },
     "execution_count": 162,
     "metadata": {},
     "output_type": "execute_result"
    }
   ],
   "source": [
    "# Não precisamos mais dessas colunas. Vamos removê-las.\n",
    "df_report3.drop(df_report3.columns[[1, 2]], axis = 1, inplace = True)\n",
    "df_report3.head()"
   ]
  },
  {
   "cell_type": "code",
   "execution_count": 165,
   "id": "258d4406",
   "metadata": {},
   "outputs": [
    {
     "data": {
      "image/png": "[encoded data removed]",
      "text/plain": [
       "<Figure size 1440x576 with 1 Axes>"
      ]
     },
     "metadata": {
      "needs_background": "light"
     },
     "output_type": "display_data"
    }
   ],
   "source": [
    "# Plot\n",
    "df_report3.set_index(\"Status do Envio\").plot(kind = 'bar', \n",
    "                title = 'Total de Envios dos Produtos Por Status',\n",
    "                ylabel = 'Total', \n",
    "                xlabel = '\\nStatus do Envio',\n",
    "                colormap = 'plasma',\n",
    "                figsize = (20,8))\n",
    "plt.xticks(rotation = 0)\n",
    "plt.show()"
   ]
  },
  {
   "cell_type": "code",
   "execution_count": 166,
   "id": "7f5b2202",
   "metadata": {},
   "outputs": [
    {
     "data": {
      "text/html": [
       "<div>\n",
       "<style scoped>\n",
       "    .dataframe tbody tr th:only-of-type {\n",
       "        vertical-align: middle;\n",
       "    }\n",
       "\n",
       "    .dataframe tbody tr th {\n",
       "        vertical-align: top;\n",
       "    }\n",
       "\n",
       "    .dataframe thead th {\n",
       "        text-align: right;\n",
       "    }\n",
       "</style>\n",
       "<table border=\"1\" class=\"dataframe\">\n",
       "  <thead>\n",
       "    <tr style=\"text-align: right;\">\n",
       "      <th></th>\n",
       "      <th>ID</th>\n",
       "      <th>corredor_armazem</th>\n",
       "      <th>modo_envio</th>\n",
       "      <th>numero_chamadas_cliente</th>\n",
       "      <th>avaliacao_cliente</th>\n",
       "      <th>custo_produto</th>\n",
       "      <th>compras_anteriores</th>\n",
       "      <th>prioridade_produto</th>\n",
       "      <th>genero</th>\n",
       "      <th>desconto</th>\n",
       "      <th>peso_gramas</th>\n",
       "      <th>entregue_no_prazo</th>\n",
       "      <th>performance_prioridade_envio</th>\n",
       "      <th>performance_modo_envio</th>\n",
       "      <th>faixa_desconto</th>\n",
       "      <th>performance_faixa_desconto</th>\n",
       "    </tr>\n",
       "  </thead>\n",
       "  <tbody>\n",
       "    <tr>\n",
       "      <th>10941</th>\n",
       "      <td>10942</td>\n",
       "      <td>B</td>\n",
       "      <td>Caminhao</td>\n",
       "      <td>5</td>\n",
       "      <td>1</td>\n",
       "      <td>218</td>\n",
       "      <td>5</td>\n",
       "      <td>media</td>\n",
       "      <td>M</td>\n",
       "      <td>8</td>\n",
       "      <td>1651</td>\n",
       "      <td>1</td>\n",
       "      <td>Não Houve Atraso</td>\n",
       "      <td>Não Houve Atraso</td>\n",
       "      <td>Desconto Abaixo da Media</td>\n",
       "      <td>Entrega no Prazo com Desconto Abaixo da Media</td>\n",
       "    </tr>\n",
       "    <tr>\n",
       "      <th>8668</th>\n",
       "      <td>8669</td>\n",
       "      <td>C</td>\n",
       "      <td>Navio</td>\n",
       "      <td>3</td>\n",
       "      <td>1</td>\n",
       "      <td>152</td>\n",
       "      <td>3</td>\n",
       "      <td>baixa</td>\n",
       "      <td>M</td>\n",
       "      <td>1</td>\n",
       "      <td>4949</td>\n",
       "      <td>1</td>\n",
       "      <td>Não Houve Atraso</td>\n",
       "      <td>Não Houve Atraso</td>\n",
       "      <td>Desconto Abaixo da Media</td>\n",
       "      <td>Entrega no Prazo com Desconto Abaixo da Media</td>\n",
       "    </tr>\n",
       "    <tr>\n",
       "      <th>382</th>\n",
       "      <td>383</td>\n",
       "      <td>C</td>\n",
       "      <td>Navio</td>\n",
       "      <td>5</td>\n",
       "      <td>4</td>\n",
       "      <td>215</td>\n",
       "      <td>2</td>\n",
       "      <td>baixa</td>\n",
       "      <td>F</td>\n",
       "      <td>45</td>\n",
       "      <td>3501</td>\n",
       "      <td>1</td>\n",
       "      <td>Não Houve Atraso</td>\n",
       "      <td>Não Houve Atraso</td>\n",
       "      <td>Desconto Acima da Media</td>\n",
       "      <td>Entrega no Prazo com Desconto Acima da Media</td>\n",
       "    </tr>\n",
       "    <tr>\n",
       "      <th>8796</th>\n",
       "      <td>8797</td>\n",
       "      <td>D</td>\n",
       "      <td>Navio</td>\n",
       "      <td>5</td>\n",
       "      <td>1</td>\n",
       "      <td>151</td>\n",
       "      <td>4</td>\n",
       "      <td>baixa</td>\n",
       "      <td>M</td>\n",
       "      <td>5</td>\n",
       "      <td>4549</td>\n",
       "      <td>0</td>\n",
       "      <td>Atraso Tolerável</td>\n",
       "      <td>Atraso Tolerável na Entrega Por Navio</td>\n",
       "      <td>Desconto Abaixo da Media</td>\n",
       "      <td>Atraso na Entrega com Desconto Abaixo da Media</td>\n",
       "    </tr>\n",
       "    <tr>\n",
       "      <th>6208</th>\n",
       "      <td>6209</td>\n",
       "      <td>C</td>\n",
       "      <td>Navio</td>\n",
       "      <td>5</td>\n",
       "      <td>3</td>\n",
       "      <td>258</td>\n",
       "      <td>2</td>\n",
       "      <td>baixa</td>\n",
       "      <td>F</td>\n",
       "      <td>10</td>\n",
       "      <td>5371</td>\n",
       "      <td>1</td>\n",
       "      <td>Não Houve Atraso</td>\n",
       "      <td>Não Houve Atraso</td>\n",
       "      <td>Desconto Abaixo da Media</td>\n",
       "      <td>Entrega no Prazo com Desconto Abaixo da Media</td>\n",
       "    </tr>\n",
       "    <tr>\n",
       "      <th>4639</th>\n",
       "      <td>4640</td>\n",
       "      <td>F</td>\n",
       "      <td>Caminhao</td>\n",
       "      <td>5</td>\n",
       "      <td>1</td>\n",
       "      <td>257</td>\n",
       "      <td>3</td>\n",
       "      <td>media</td>\n",
       "      <td>F</td>\n",
       "      <td>5</td>\n",
       "      <td>4355</td>\n",
       "      <td>0</td>\n",
       "      <td>Atraso Problemático</td>\n",
       "      <td>Atraso Problemático na Entrega Por Caminhao</td>\n",
       "      <td>Desconto Abaixo da Media</td>\n",
       "      <td>Atraso na Entrega com Desconto Abaixo da Media</td>\n",
       "    </tr>\n",
       "    <tr>\n",
       "      <th>10329</th>\n",
       "      <td>10330</td>\n",
       "      <td>B</td>\n",
       "      <td>Navio</td>\n",
       "      <td>4</td>\n",
       "      <td>2</td>\n",
       "      <td>191</td>\n",
       "      <td>2</td>\n",
       "      <td>media</td>\n",
       "      <td>F</td>\n",
       "      <td>8</td>\n",
       "      <td>4806</td>\n",
       "      <td>1</td>\n",
       "      <td>Não Houve Atraso</td>\n",
       "      <td>Não Houve Atraso</td>\n",
       "      <td>Desconto Abaixo da Media</td>\n",
       "      <td>Entrega no Prazo com Desconto Abaixo da Media</td>\n",
       "    </tr>\n",
       "    <tr>\n",
       "      <th>8942</th>\n",
       "      <td>8943</td>\n",
       "      <td>A</td>\n",
       "      <td>Navio</td>\n",
       "      <td>3</td>\n",
       "      <td>1</td>\n",
       "      <td>266</td>\n",
       "      <td>3</td>\n",
       "      <td>baixa</td>\n",
       "      <td>F</td>\n",
       "      <td>8</td>\n",
       "      <td>4574</td>\n",
       "      <td>0</td>\n",
       "      <td>Atraso Tolerável</td>\n",
       "      <td>Atraso Tolerável na Entrega Por Navio</td>\n",
       "      <td>Desconto Abaixo da Media</td>\n",
       "      <td>Atraso na Entrega com Desconto Abaixo da Media</td>\n",
       "    </tr>\n",
       "    <tr>\n",
       "      <th>10373</th>\n",
       "      <td>10374</td>\n",
       "      <td>F</td>\n",
       "      <td>Navio</td>\n",
       "      <td>3</td>\n",
       "      <td>5</td>\n",
       "      <td>143</td>\n",
       "      <td>2</td>\n",
       "      <td>baixa</td>\n",
       "      <td>M</td>\n",
       "      <td>8</td>\n",
       "      <td>4754</td>\n",
       "      <td>1</td>\n",
       "      <td>Não Houve Atraso</td>\n",
       "      <td>Não Houve Atraso</td>\n",
       "      <td>Desconto Abaixo da Media</td>\n",
       "      <td>Entrega no Prazo com Desconto Abaixo da Media</td>\n",
       "    </tr>\n",
       "    <tr>\n",
       "      <th>6920</th>\n",
       "      <td>6921</td>\n",
       "      <td>A</td>\n",
       "      <td>Navio</td>\n",
       "      <td>6</td>\n",
       "      <td>3</td>\n",
       "      <td>245</td>\n",
       "      <td>4</td>\n",
       "      <td>baixa</td>\n",
       "      <td>M</td>\n",
       "      <td>10</td>\n",
       "      <td>1798</td>\n",
       "      <td>0</td>\n",
       "      <td>Atraso Tolerável</td>\n",
       "      <td>Atraso Tolerável na Entrega Por Navio</td>\n",
       "      <td>Desconto Abaixo da Media</td>\n",
       "      <td>Atraso na Entrega com Desconto Abaixo da Media</td>\n",
       "    </tr>\n",
       "  </tbody>\n",
       "</table>\n",
       "</div>"
      ],
      "text/plain": [
       "          ID corredor_armazem modo_envio  numero_chamadas_cliente  \\\n",
       "10941  10942                B   Caminhao                        5   \n",
       "8668    8669                C      Navio                        3   \n",
       "382      383                C      Navio                        5   \n",
       "8796    8797                D      Navio                        5   \n",
       "6208    6209                C      Navio                        5   \n",
       "4639    4640                F   Caminhao                        5   \n",
       "10329  10330                B      Navio                        4   \n",
       "8942    8943                A      Navio                        3   \n",
       "10373  10374                F      Navio                        3   \n",
       "6920    6921                A      Navio                        6   \n",
       "\n",
       "       avaliacao_cliente  custo_produto  compras_anteriores  \\\n",
       "10941                  1            218                   5   \n",
       "8668                   1            152                   3   \n",
       "382                    4            215                   2   \n",
       "8796                   1            151                   4   \n",
       "6208                   3            258                   2   \n",
       "4639                   1            257                   3   \n",
       "10329                  2            191                   2   \n",
       "8942                   1            266                   3   \n",
       "10373                  5            143                   2   \n",
       "6920                   3            245                   4   \n",
       "\n",
       "      prioridade_produto genero  desconto  peso_gramas  entregue_no_prazo  \\\n",
       "10941              media      M         8         1651                  1   \n",
       "8668               baixa      M         1         4949                  1   \n",
       "382                baixa      F        45         3501                  1   \n",
       "8796               baixa      M         5         4549                  0   \n",
       "6208               baixa      F        10         5371                  1   \n",
       "4639               media      F         5         4355                  0   \n",
       "10329              media      F         8         4806                  1   \n",
       "8942               baixa      F         8         4574                  0   \n",
       "10373              baixa      M         8         4754                  1   \n",
       "6920               baixa      M        10         1798                  0   \n",
       "\n",
       "      performance_prioridade_envio  \\\n",
       "10941             Não Houve Atraso   \n",
       "8668              Não Houve Atraso   \n",
       "382               Não Houve Atraso   \n",
       "8796              Atraso Tolerável   \n",
       "6208              Não Houve Atraso   \n",
       "4639           Atraso Problemático   \n",
       "10329             Não Houve Atraso   \n",
       "8942              Atraso Tolerável   \n",
       "10373             Não Houve Atraso   \n",
       "6920              Atraso Tolerável   \n",
       "\n",
       "                            performance_modo_envio            faixa_desconto  \\\n",
       "10941                             Não Houve Atraso  Desconto Abaixo da Media   \n",
       "8668                              Não Houve Atraso  Desconto Abaixo da Media   \n",
       "382                               Não Houve Atraso   Desconto Acima da Media   \n",
       "8796         Atraso Tolerável na Entrega Por Navio  Desconto Abaixo da Media   \n",
       "6208                              Não Houve Atraso  Desconto Abaixo da Media   \n",
       "4639   Atraso Problemático na Entrega Por Caminhao  Desconto Abaixo da Media   \n",
       "10329                             Não Houve Atraso  Desconto Abaixo da Media   \n",
       "8942         Atraso Tolerável na Entrega Por Navio  Desconto Abaixo da Media   \n",
       "10373                             Não Houve Atraso  Desconto Abaixo da Media   \n",
       "6920         Atraso Tolerável na Entrega Por Navio  Desconto Abaixo da Media   \n",
       "\n",
       "                           performance_faixa_desconto  \n",
       "10941   Entrega no Prazo com Desconto Abaixo da Media  \n",
       "8668    Entrega no Prazo com Desconto Abaixo da Media  \n",
       "382      Entrega no Prazo com Desconto Acima da Media  \n",
       "8796   Atraso na Entrega com Desconto Abaixo da Media  \n",
       "6208    Entrega no Prazo com Desconto Abaixo da Media  \n",
       "4639   Atraso na Entrega com Desconto Abaixo da Media  \n",
       "10329   Entrega no Prazo com Desconto Abaixo da Media  \n",
       "8942   Atraso na Entrega com Desconto Abaixo da Media  \n",
       "10373   Entrega no Prazo com Desconto Abaixo da Media  \n",
       "6920   Atraso na Entrega com Desconto Abaixo da Media  "
      ]
     },
     "execution_count": 166,
     "metadata": {},
     "output_type": "execute_result"
    }
   ],
   "source": [
    "df_eng.sample(10)"
   ]
  },
  {
   "cell_type": "code",
   "execution_count": 167,
   "id": "fcda72ed",
   "metadata": {},
   "outputs": [],
   "source": [
    "# Salva o dataframe\n",
    "df_eng.to_csv('df_eng.csv', sep = ',', encoding = 'utf-8')"
   ]
  }
 ],
 "metadata": {
  "colab": {
   "collapsed_sections": [],
   "name": "Stage 2 Final Project - W3.Solutions().ipynb",
   "provenance": []
  },
  "kernelspec": {
   "display_name": "Python 3 (ipykernel)",
   "language": "python",
   "name": "python3"
  },
  "language_info": {
   "codemirror_mode": {
    "name": "ipython",
    "version": 3
   },
   "file_extension": ".py",
   "mimetype": "text/x-python",
   "name": "python",
   "nbconvert_exporter": "python",
   "pygments_lexer": "ipython3",
   "version": "3.9.12"
  }
 },
 "nbformat": 4,
 "nbformat_minor": 5
}
